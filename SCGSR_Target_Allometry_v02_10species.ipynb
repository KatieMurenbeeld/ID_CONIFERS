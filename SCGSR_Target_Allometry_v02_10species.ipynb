{
 "cells": [
  {
   "cell_type": "markdown",
   "metadata": {},
   "source": [
    "### Code for Optimizing FATES Allometric Functions\n",
    "\n",
    "#### Author: Katie Murenbeeld\n",
    "#### Date: 19 July 2021\n",
    "#### Updated: 24 Feb 2022\n",
    "\n",
    "Within this notebook you will\n",
    "\n",
    "1. Load appropriate libraries\n",
    "2. Define allometric functions for the allometry equations that FATES currently uses\n",
    "3. Load appropriate plant trait datasets\n",
    "4. "
   ]
  },
  {
   "cell_type": "markdown",
   "metadata": {},
   "source": [
    "### 1. Load Libraries\n"
   ]
  },
  {
   "cell_type": "code",
   "execution_count": 1,
   "metadata": {},
   "outputs": [],
   "source": [
    "# Load appropriate libraries\n",
    "import xarray as xr # For looking at netcdf files .nc\n",
    "import random\n",
    "import numpy as np\n",
    "import pandas as pd\n",
    "import scipy as sp\n",
    "import math as m\n",
    "from scipy import optimize\n",
    "from scipy.optimize import curve_fit\n",
    "import matplotlib.pyplot as plt"
   ]
  },
  {
   "cell_type": "markdown",
   "metadata": {},
   "source": [
    "### 2. Define allometric functions that FATES currently uses"
   ]
  },
  {
   "cell_type": "code",
   "execution_count": 2,
   "metadata": {},
   "outputs": [],
   "source": [
    "def d2h_chave2014(d,p1,p2,p3):\n",
    "    h = np.exp( p1 + p2*np.log(d) + p3*np.log(d)**2.0)\n",
    "    return(h)\n",
    "\n",
    "def d2h_poorter2006(d,p1,p2,p3):\n",
    "    h = p1*(1.0 - np.exp(p2*d**p3))\n",
    "    return(h)\n",
    "\n",
    "def d2h_2pwr(d,p1,p2):\n",
    "    h = p1*d**p2\n",
    "    return(h)\n",
    "\n",
    "def d2h_obrien(d,p1,p2):\n",
    "    h = 10.0**(np.log10(d)*p1+p2)\n",
    "    return(h)\n",
    "\n",
    "def d2h_martcano(d,p1,p2,p3):\n",
    "    h = (p1*d**p2)/(p3+d**p2)\n",
    "    return(h)\n",
    "\n",
    "def carea_2pwr(d, p1, p2):\n",
    "    c = p1 * d ** p2\n",
    "    return(c)\n",
    "\n",
    "def d2blmax_salda(d,p1,p2,p3,rho):\n",
    "    blmax = p1 * d**p2 * rho**p3\n",
    "    return(blmax)\n",
    "\n",
    "def d2blmax_2pwr(d,p1,p2):\n",
    "    c2b = 2.0\n",
    "    blmax    = (p1*d**p2) / c2b\n",
    "    return(blmax)\n",
    "\n",
    "def d2bagw_choj(dbh,p1,p2):\n",
    "    ln_agb = p1+(p2*np.log(dbh))\n",
    "    agb_choj = np.exp(ln_agb)\n",
    "    return agb_choj\n",
    "\n",
    "def d2bagw_sal(dbh,p1,p2,p3,p4):\n",
    "    agb_sal = allom_frac * p1 * (h_sal_mod**p2) * (dbh**p3) * (rho**p4)\n",
    "    return agb_sal\n",
    "\n",
    "def d2bagw_pow(dbh,p1,p2):\n",
    "    agb_pow = (p1*np.power(dbh,p2))/c2b\n",
    "    return agb_pow"
   ]
  },
  {
   "cell_type": "markdown",
   "metadata": {},
   "source": [
    "### 3) Load data\n",
    "\n",
    "Here we are using data from:\n",
    "\n",
    "1. Falster et al., 2011 A Biomass and Allometry Database (BAAD)\n",
    "2. USDA Forest Inventory Analysis (FIA) for Idaho\n",
    "3. USDA Height and diameter at breast height (dbh) data from the Boise Basin Experimental Forest (BBEF)\n",
    "\n",
    "We subset the data for Idaho or the western US. We are looking at common conifer species of Idaho. These include:\n",
    "\n",
    "* Ponderosa pine (*Pinus ponderosa*)\n",
    "* Lodgepole pine (*Pinus contorta*)\n",
    "* Western white pine (*Pinus monticola*)\n",
    "* Douglas-fir (*Pseudotsuga menziesii*)\n",
    "* Western hemlock (*Tsuga heterophylla*)\n",
    "* Western red cedar (*Thuja plicata*)\n",
    "* Western larch (*Larix occidentalis*)\n",
    "* Grand fir (*Abies grandis*)\n",
    "* Subalpine fir (*Abies lasiocarpa*)\n",
    "* Engelmann spruce (*Picea engelmanni*)\n",
    "\n",
    "For now, I am looking at the pines, which will comprise for PFT1, and Douglas-fir and W. hemlock which will comprise PFT4."
   ]
  },
  {
   "cell_type": "code",
   "execution_count": 3,
   "metadata": {},
   "outputs": [],
   "source": [
    "# Set the directories\n",
    "baad_dir = '/Users/kathrynmurenbeeld/Desktop/Desktop - Kathryn’s MacBook Pro/CLM/FATES/baad_downloads/baad_data/'\n",
    "baad_dir_out = '/Users/kathrynmurenbeeld/Desktop/Desktop - Kathryn’s MacBook Pro/CLM/FATES/baad_downloads/baad_data_out/'\n",
    "bbef_dir = '/Users/kathrynmurenbeeld/Desktop/Desktop - Kathryn’s MacBook Pro/BBEF/DATA/'\n",
    "bbef_dir_out = '/Users/kathrynmurenbeeld/Desktop/Desktop - Kathryn’s MacBook Pro/BBEF/DATA/'\n",
    "fia_dir = '/Users/kathrynmurenbeeld/Desktop/Desktop - Kathryn’s MacBook Pro/CLM/Benchmarking_Sensitivity/FIA/FIA_ID/'\n",
    "fia_dir_out = '/Users/kathrynmurenbeeld/Desktop/Desktop - Kathryn’s MacBook Pro/CLM/Benchmarking_Sensitivity/FIA/FIA_ID_OUT/'"
   ]
  },
  {
   "cell_type": "code",
   "execution_count": 4,
   "metadata": {},
   "outputs": [
    {
     "name": "stderr",
     "output_type": "stream",
     "text": [
      "/Users/kathrynmurenbeeld/opt/anaconda3/lib/python3.7/site-packages/IPython/core/interactiveshell.py:3063: DtypeWarning: Columns (102) have mixed types.Specify dtype option on import or set low_memory=False.\n",
      "  interactivity=interactivity, compiler=compiler, result=result)\n"
     ]
    }
   ],
   "source": [
    "# Read in the BAAD data\n",
    "baad_df = pd.read_csv(baad_dir + 'baad_data_2.csv').reset_index() \n",
    "baad_df = baad_df[['species', 'location', 'h.t', 'd.bh', 'a.lf', 'a.cp', 'm.lf', 'ma.ilf', 'n.lf', 'm.so']].copy()\n",
    "\n",
    "# Read in the BBEF data\n",
    "bbef_df = pd.read_csv(bbef_dir + 'BBEF-all-trees-height_DBH_calcs.csv')\n",
    "\n",
    "# Read in the FIA Idaho census data\n",
    "fia_df = pd.read_csv(fia_dir + 'ID_TREE.csv')\n",
    "fia_df = fia_df[['PLT_CN', 'COUNTYCD', 'INVYR', 'CONDID', 'AZIMUTH', 'SPCD', 'SPGRPCD', \n",
    "                       'DIA', 'HT', 'CR', 'CDENCD', 'BHAGE', 'FGROWCFGS', 'TPA_UNADJ',  \n",
    "                       'DRYBIO_BG', 'CARBON_AG', 'CARBON_BG', 'DRYBIO_AG']].copy()"
   ]
  },
  {
   "cell_type": "code",
   "execution_count": 5,
   "metadata": {},
   "outputs": [
    {
     "data": {
      "text/html": [
       "<div>\n",
       "<style scoped>\n",
       "    .dataframe tbody tr th:only-of-type {\n",
       "        vertical-align: middle;\n",
       "    }\n",
       "\n",
       "    .dataframe tbody tr th {\n",
       "        vertical-align: top;\n",
       "    }\n",
       "\n",
       "    .dataframe thead th {\n",
       "        text-align: right;\n",
       "    }\n",
       "</style>\n",
       "<table border=\"1\" class=\"dataframe\">\n",
       "  <thead>\n",
       "    <tr style=\"text-align: right;\">\n",
       "      <th></th>\n",
       "      <th>PLT_CN</th>\n",
       "      <th>COUNTYCD</th>\n",
       "      <th>INVYR</th>\n",
       "      <th>CONDID</th>\n",
       "      <th>AZIMUTH</th>\n",
       "      <th>SPCD</th>\n",
       "      <th>SPGRPCD</th>\n",
       "      <th>DIA</th>\n",
       "      <th>HT</th>\n",
       "      <th>CR</th>\n",
       "      <th>CDENCD</th>\n",
       "      <th>BHAGE</th>\n",
       "      <th>FGROWCFGS</th>\n",
       "      <th>TPA_UNADJ</th>\n",
       "      <th>DRYBIO_BG</th>\n",
       "      <th>CARBON_AG</th>\n",
       "      <th>CARBON_BG</th>\n",
       "      <th>DRYBIO_AG</th>\n",
       "      <th>SPECIES</th>\n",
       "    </tr>\n",
       "  </thead>\n",
       "  <tbody>\n",
       "    <tr>\n",
       "      <th>0</th>\n",
       "      <td>3156095010690</td>\n",
       "      <td>9</td>\n",
       "      <td>1991</td>\n",
       "      <td>1</td>\n",
       "      <td>89.0</td>\n",
       "      <td>202</td>\n",
       "      <td>10</td>\n",
       "      <td>10.6</td>\n",
       "      <td>57.0</td>\n",
       "      <td>65.0</td>\n",
       "      <td>NaN</td>\n",
       "      <td>28.0</td>\n",
       "      <td>0.643645</td>\n",
       "      <td>13.054000</td>\n",
       "      <td>110.124965</td>\n",
       "      <td>240.460065</td>\n",
       "      <td>55.062483</td>\n",
       "      <td>NaN</td>\n",
       "      <td>doug-fir</td>\n",
       "    </tr>\n",
       "    <tr>\n",
       "      <th>1</th>\n",
       "      <td>3156095010690</td>\n",
       "      <td>9</td>\n",
       "      <td>1991</td>\n",
       "      <td>1</td>\n",
       "      <td>133.0</td>\n",
       "      <td>202</td>\n",
       "      <td>10</td>\n",
       "      <td>6.8</td>\n",
       "      <td>45.0</td>\n",
       "      <td>45.0</td>\n",
       "      <td>NaN</td>\n",
       "      <td>32.0</td>\n",
       "      <td>0.260028</td>\n",
       "      <td>31.720993</td>\n",
       "      <td>37.630405</td>\n",
       "      <td>80.531243</td>\n",
       "      <td>18.815203</td>\n",
       "      <td>NaN</td>\n",
       "      <td>doug-fir</td>\n",
       "    </tr>\n",
       "  </tbody>\n",
       "</table>\n",
       "</div>"
      ],
      "text/plain": [
       "          PLT_CN  COUNTYCD  INVYR  CONDID  AZIMUTH  SPCD  SPGRPCD   DIA    HT  \\\n",
       "0  3156095010690         9   1991       1     89.0   202       10  10.6  57.0   \n",
       "1  3156095010690         9   1991       1    133.0   202       10   6.8  45.0   \n",
       "\n",
       "     CR  CDENCD  BHAGE  FGROWCFGS  TPA_UNADJ   DRYBIO_BG   CARBON_AG  \\\n",
       "0  65.0     NaN   28.0   0.643645  13.054000  110.124965  240.460065   \n",
       "1  45.0     NaN   32.0   0.260028  31.720993   37.630405   80.531243   \n",
       "\n",
       "   CARBON_BG  DRYBIO_AG   SPECIES  \n",
       "0  55.062483        NaN  doug-fir  \n",
       "1  18.815203        NaN  doug-fir  "
      ]
     },
     "execution_count": 5,
     "metadata": {},
     "output_type": "execute_result"
    }
   ],
   "source": [
    "# For the FIA data rename the species of interest\n",
    "\n",
    "conditions = [\n",
    "        (fia_df['SPCD'] == 202), # Douglas fir\n",
    "        (fia_df['SPCD'] == 242), # Western red cedar\n",
    "        (fia_df['SPCD'] == 19),  # Subalpine fir\n",
    "        (fia_df['SPCD'] == 119), # Western white pine\n",
    "        (fia_df['SPCD'] == 17),  # Grand fir\n",
    "        (fia_df['SPCD'] == 73),  # Western larch\n",
    "        (fia_df['SPCD'] == 122), # Ponderosa pine\n",
    "        (fia_df['SPCD'] == 263), # Western hemlock\n",
    "        (fia_df['SPCD'] == 108), # Lodgepole pine\n",
    "        (fia_df['SPCD'] == 93),  # Engleman spruce\n",
    "    ]\n",
    "choices = ['doug-fir', 'w_redcedar', 'subap_fir', 'ww_pine', 'grand_fir', 'w_larch', 'pondo_pine', 'w_hem', 'lodge_pine', 'engle_spruce']\n",
    "    \n",
    "fia_df['SPECIES'] = np.select(conditions, choices, default='none')\n",
    "\n",
    "fia_df.head(2)\n",
    "\n"
   ]
  },
  {
   "cell_type": "code",
   "execution_count": 6,
   "metadata": {},
   "outputs": [],
   "source": [
    "#baad_df['species'].unique()"
   ]
  },
  {
   "cell_type": "code",
   "execution_count": 7,
   "metadata": {},
   "outputs": [],
   "source": [
    "# For each dataset sort out for the 10 conifer species of interest for the SCGSR work. Scratch that. \n",
    "# Just the species for PFT1 ( 3 pine species) and PFT 4 (W. Hemlock and Douglas Fir).\n",
    "\n",
    "baad_10spc = baad_df.loc[(baad_df['species'] == 'Pinus ponderosa') | (baad_df['species'] == 'Pinus contorta') | (baad_df['species'] == 'Pinus monticola') | (baad_df['species'] == 'Pseudotsuga menzeisii') | (baad_df['species'] == 'Tsuga heterophylla') | (baad_df['species'] == 'Larix occidentalis') | (baad_df['species'] == 'Abies lasiocarpa') | (baad_df['species'] == 'Abies grandis') | (baad_df['species'] == 'Picea engelmanni') | (baad_df['species'] == 'Thuja plicata')].copy()\n",
    "\n",
    "#bbef_10spc = bbef_df.loc[(bbef_df['Species'] == 'Ponderosa pine') | (bbef_df['Species'] == 'Lodgepole pine') | (bbef_df['Species'] == 'Douglas fir') | (bbef_df['Species'] == 'Douglas fir') | (bbef_df['Species'] == 'Douglas fir')].copy()\n",
    "bbef_10spc = bbef_df.loc[(bbef_df['Species'] != 'Aspen') ].copy()\n",
    "                         \n",
    "fia_10spc = fia_df.loc[(fia_df['SPECIES'] == 'pondo_pine') | (fia_df['SPECIES'] == 'lodge_pine') | (fia_df['SPECIES'] == 'ww_pine') | (fia_df['SPECIES'] == 'doug-fir') | (fia_df['SPECIES'] == 'w_hem') | (fia_df['SPECIES'] == 'w_redcedar') | (fia_df['SPECIES'] == 'grand_fir') | (fia_df['SPECIES'] == 'subap_fir') | (fia_df['SPECIES'] == 'w_larch') | (fia_df['SPECIES'] == 'engle_spruce')].copy()\n",
    "\n"
   ]
  },
  {
   "cell_type": "code",
   "execution_count": 8,
   "metadata": {},
   "outputs": [
    {
     "data": {
      "text/html": [
       "<div>\n",
       "<style scoped>\n",
       "    .dataframe tbody tr th:only-of-type {\n",
       "        vertical-align: middle;\n",
       "    }\n",
       "\n",
       "    .dataframe tbody tr th {\n",
       "        vertical-align: top;\n",
       "    }\n",
       "\n",
       "    .dataframe thead th {\n",
       "        text-align: right;\n",
       "    }\n",
       "</style>\n",
       "<table border=\"1\" class=\"dataframe\">\n",
       "  <thead>\n",
       "    <tr style=\"text-align: right;\">\n",
       "      <th></th>\n",
       "      <th>BBEF Study-name</th>\n",
       "      <th>Year</th>\n",
       "      <th>Plot ID</th>\n",
       "      <th>Tree ID</th>\n",
       "      <th>Species</th>\n",
       "      <th>DBH (inches)</th>\n",
       "      <th>Height (feet)</th>\n",
       "      <th>DBH (cm)</th>\n",
       "      <th>H (m)</th>\n",
       "      <th>AGB</th>\n",
       "      <th>Unnamed: 10</th>\n",
       "      <th>Unnamed: 11</th>\n",
       "      <th>param 1</th>\n",
       "      <th>param 2</th>\n",
       "    </tr>\n",
       "  </thead>\n",
       "  <tbody>\n",
       "    <tr>\n",
       "      <th>0</th>\n",
       "      <td>Amber Fuels</td>\n",
       "      <td>2013</td>\n",
       "      <td>451</td>\n",
       "      <td>1</td>\n",
       "      <td>Ponderosa pine</td>\n",
       "      <td>31.600000</td>\n",
       "      <td>127.0</td>\n",
       "      <td>80.264000</td>\n",
       "      <td>38.7096</td>\n",
       "      <td>7.961826</td>\n",
       "      <td>NaN</td>\n",
       "      <td>pines</td>\n",
       "      <td>-2.6177</td>\n",
       "      <td>2.4638</td>\n",
       "    </tr>\n",
       "    <tr>\n",
       "      <th>1</th>\n",
       "      <td>Amber Fuels</td>\n",
       "      <td>2013</td>\n",
       "      <td>451</td>\n",
       "      <td>2</td>\n",
       "      <td>Ponderosa pine</td>\n",
       "      <td>20.700001</td>\n",
       "      <td>102.0</td>\n",
       "      <td>52.578003</td>\n",
       "      <td>31.0896</td>\n",
       "      <td>5.063293</td>\n",
       "      <td>NaN</td>\n",
       "      <td>Doug fir</td>\n",
       "      <td>-2.4623</td>\n",
       "      <td>2.4852</td>\n",
       "    </tr>\n",
       "    <tr>\n",
       "      <th>2</th>\n",
       "      <td>Amber Fuels</td>\n",
       "      <td>2013</td>\n",
       "      <td>452</td>\n",
       "      <td>1</td>\n",
       "      <td>Ponderosa pine</td>\n",
       "      <td>19.000000</td>\n",
       "      <td>79.0</td>\n",
       "      <td>48.260000</td>\n",
       "      <td>24.0792</td>\n",
       "      <td>4.619666</td>\n",
       "      <td>NaN</td>\n",
       "      <td>firs</td>\n",
       "      <td>-3.1774</td>\n",
       "      <td>2.6426</td>\n",
       "    </tr>\n",
       "    <tr>\n",
       "      <th>3</th>\n",
       "      <td>Amber Fuels</td>\n",
       "      <td>2013</td>\n",
       "      <td>452</td>\n",
       "      <td>2</td>\n",
       "      <td>Ponderosa pine</td>\n",
       "      <td>16.900000</td>\n",
       "      <td>76.0</td>\n",
       "      <td>42.926000</td>\n",
       "      <td>23.1648</td>\n",
       "      <td>4.075513</td>\n",
       "      <td>NaN</td>\n",
       "      <td>NaN</td>\n",
       "      <td>NaN</td>\n",
       "      <td>NaN</td>\n",
       "    </tr>\n",
       "    <tr>\n",
       "      <th>4</th>\n",
       "      <td>Amber Fuels</td>\n",
       "      <td>2013</td>\n",
       "      <td>452</td>\n",
       "      <td>3</td>\n",
       "      <td>Ponderosa pine</td>\n",
       "      <td>44.900002</td>\n",
       "      <td>115.0</td>\n",
       "      <td>114.046005</td>\n",
       "      <td>35.0520</td>\n",
       "      <td>11.594535</td>\n",
       "      <td>NaN</td>\n",
       "      <td>NaN</td>\n",
       "      <td>NaN</td>\n",
       "      <td>NaN</td>\n",
       "    </tr>\n",
       "    <tr>\n",
       "      <th>...</th>\n",
       "      <td>...</td>\n",
       "      <td>...</td>\n",
       "      <td>...</td>\n",
       "      <td>...</td>\n",
       "      <td>...</td>\n",
       "      <td>...</td>\n",
       "      <td>...</td>\n",
       "      <td>...</td>\n",
       "      <td>...</td>\n",
       "      <td>...</td>\n",
       "      <td>...</td>\n",
       "      <td>...</td>\n",
       "      <td>...</td>\n",
       "      <td>...</td>\n",
       "    </tr>\n",
       "    <tr>\n",
       "      <th>5518</th>\n",
       "      <td>Watershed</td>\n",
       "      <td>2005</td>\n",
       "      <td>99</td>\n",
       "      <td>993</td>\n",
       "      <td>Douglas fir</td>\n",
       "      <td>6.600000</td>\n",
       "      <td>51.0</td>\n",
       "      <td>16.764000</td>\n",
       "      <td>15.5448</td>\n",
       "      <td>1.786973</td>\n",
       "      <td>NaN</td>\n",
       "      <td>NaN</td>\n",
       "      <td>NaN</td>\n",
       "      <td>NaN</td>\n",
       "    </tr>\n",
       "    <tr>\n",
       "      <th>5519</th>\n",
       "      <td>Watershed</td>\n",
       "      <td>2005</td>\n",
       "      <td>99</td>\n",
       "      <td>994</td>\n",
       "      <td>Douglas fir</td>\n",
       "      <td>6.900000</td>\n",
       "      <td>52.0</td>\n",
       "      <td>17.526000</td>\n",
       "      <td>15.8496</td>\n",
       "      <td>1.874797</td>\n",
       "      <td>NaN</td>\n",
       "      <td>NaN</td>\n",
       "      <td>NaN</td>\n",
       "      <td>NaN</td>\n",
       "    </tr>\n",
       "    <tr>\n",
       "      <th>5520</th>\n",
       "      <td>Watershed</td>\n",
       "      <td>2005</td>\n",
       "      <td>99</td>\n",
       "      <td>9990</td>\n",
       "      <td>Ponderosa pine</td>\n",
       "      <td>23.900000</td>\n",
       "      <td>96.0</td>\n",
       "      <td>60.705999</td>\n",
       "      <td>29.2608</td>\n",
       "      <td>5.905157</td>\n",
       "      <td>NaN</td>\n",
       "      <td>NaN</td>\n",
       "      <td>NaN</td>\n",
       "      <td>NaN</td>\n",
       "    </tr>\n",
       "    <tr>\n",
       "      <th>5521</th>\n",
       "      <td>Watershed</td>\n",
       "      <td>2005</td>\n",
       "      <td>99</td>\n",
       "      <td>9991</td>\n",
       "      <td>Ponderosa pine</td>\n",
       "      <td>32.500000</td>\n",
       "      <td>113.0</td>\n",
       "      <td>82.550000</td>\n",
       "      <td>34.4424</td>\n",
       "      <td>8.204703</td>\n",
       "      <td>NaN</td>\n",
       "      <td>NaN</td>\n",
       "      <td>NaN</td>\n",
       "      <td>NaN</td>\n",
       "    </tr>\n",
       "    <tr>\n",
       "      <th>5522</th>\n",
       "      <td>Watershed</td>\n",
       "      <td>2005</td>\n",
       "      <td>99</td>\n",
       "      <td>9992</td>\n",
       "      <td>Ponderosa pine</td>\n",
       "      <td>32.400002</td>\n",
       "      <td>122.0</td>\n",
       "      <td>82.296004</td>\n",
       "      <td>37.1856</td>\n",
       "      <td>8.177694</td>\n",
       "      <td>NaN</td>\n",
       "      <td>NaN</td>\n",
       "      <td>NaN</td>\n",
       "      <td>NaN</td>\n",
       "    </tr>\n",
       "  </tbody>\n",
       "</table>\n",
       "<p>5506 rows × 14 columns</p>\n",
       "</div>"
      ],
      "text/plain": [
       "     BBEF Study-name  Year Plot ID  Tree ID         Species  DBH (inches)  \\\n",
       "0        Amber Fuels  2013     451        1  Ponderosa pine     31.600000   \n",
       "1        Amber Fuels  2013     451        2  Ponderosa pine     20.700001   \n",
       "2        Amber Fuels  2013     452        1  Ponderosa pine     19.000000   \n",
       "3        Amber Fuels  2013     452        2  Ponderosa pine     16.900000   \n",
       "4        Amber Fuels  2013     452        3  Ponderosa pine     44.900002   \n",
       "...              ...   ...     ...      ...             ...           ...   \n",
       "5518       Watershed  2005      99      993     Douglas fir      6.600000   \n",
       "5519       Watershed  2005      99      994     Douglas fir      6.900000   \n",
       "5520       Watershed  2005      99     9990  Ponderosa pine     23.900000   \n",
       "5521       Watershed  2005      99     9991  Ponderosa pine     32.500000   \n",
       "5522       Watershed  2005      99     9992  Ponderosa pine     32.400002   \n",
       "\n",
       "      Height (feet)    DBH (cm)    H (m)       AGB   Unnamed: 10 Unnamed: 11  \\\n",
       "0             127.0   80.264000  38.7096   7.961826          NaN       pines   \n",
       "1             102.0   52.578003  31.0896   5.063293          NaN    Doug fir   \n",
       "2              79.0   48.260000  24.0792   4.619666          NaN        firs   \n",
       "3              76.0   42.926000  23.1648   4.075513          NaN         NaN   \n",
       "4             115.0  114.046005  35.0520  11.594535          NaN         NaN   \n",
       "...             ...         ...      ...        ...          ...         ...   \n",
       "5518           51.0   16.764000  15.5448   1.786973          NaN         NaN   \n",
       "5519           52.0   17.526000  15.8496   1.874797          NaN         NaN   \n",
       "5520           96.0   60.705999  29.2608   5.905157          NaN         NaN   \n",
       "5521          113.0   82.550000  34.4424   8.204703          NaN         NaN   \n",
       "5522          122.0   82.296004  37.1856   8.177694          NaN         NaN   \n",
       "\n",
       "      param 1  param 2  \n",
       "0     -2.6177   2.4638  \n",
       "1     -2.4623   2.4852  \n",
       "2     -3.1774   2.6426  \n",
       "3         NaN      NaN  \n",
       "4         NaN      NaN  \n",
       "...       ...      ...  \n",
       "5518      NaN      NaN  \n",
       "5519      NaN      NaN  \n",
       "5520      NaN      NaN  \n",
       "5521      NaN      NaN  \n",
       "5522      NaN      NaN  \n",
       "\n",
       "[5506 rows x 14 columns]"
      ]
     },
     "execution_count": 8,
     "metadata": {},
     "output_type": "execute_result"
    }
   ],
   "source": [
    "bbef_10spc"
   ]
  },
  {
   "cell_type": "code",
   "execution_count": 9,
   "metadata": {},
   "outputs": [],
   "source": [
    "# Clean up and convert USDA FS data to metric \n",
    "baad_10spc['DBH (cm)'] = baad_10spc['d.bh']*100\n",
    "\n",
    "bbef_10spc['DBH (m)'] = bbef_10spc['DBH (cm)']/100\n",
    "bbef_10spc = bbef_10spc.drop(columns = ['Unnamed: 10', 'Unnamed: 11', 'param 1', 'param 2'])\n",
    "\n",
    "fia_10spc['HT (m)'] = fia_10spc['HT'] * 0.3048\n",
    "fia_10spc['DBH (cm)'] = fia_10spc['DIA'] * 2.54\n",
    "fia_10spc['DBH (m)'] = fia_10spc['DIA'] * 0.0254"
   ]
  },
  {
   "cell_type": "code",
   "execution_count": 10,
   "metadata": {},
   "outputs": [
    {
     "data": {
      "text/html": [
       "<div>\n",
       "<style scoped>\n",
       "    .dataframe tbody tr th:only-of-type {\n",
       "        vertical-align: middle;\n",
       "    }\n",
       "\n",
       "    .dataframe tbody tr th {\n",
       "        vertical-align: top;\n",
       "    }\n",
       "\n",
       "    .dataframe thead th {\n",
       "        text-align: right;\n",
       "    }\n",
       "</style>\n",
       "<table border=\"1\" class=\"dataframe\">\n",
       "  <thead>\n",
       "    <tr style=\"text-align: right;\">\n",
       "      <th></th>\n",
       "      <th>species</th>\n",
       "      <th>location</th>\n",
       "      <th>h.t</th>\n",
       "      <th>d.bh</th>\n",
       "      <th>a.lf</th>\n",
       "      <th>a.cp</th>\n",
       "      <th>m.lf</th>\n",
       "      <th>ma.ilf</th>\n",
       "      <th>n.lf</th>\n",
       "      <th>m.so</th>\n",
       "      <th>DBH (cm)</th>\n",
       "    </tr>\n",
       "  </thead>\n",
       "  <tbody>\n",
       "    <tr>\n",
       "      <th>3426</th>\n",
       "      <td>Thuja plicata</td>\n",
       "      <td>northern Rocky Mountains U.S.A.</td>\n",
       "      <td>0.54864</td>\n",
       "      <td>NaN</td>\n",
       "      <td>NaN</td>\n",
       "      <td>0.143013</td>\n",
       "      <td>0.029983</td>\n",
       "      <td>NaN</td>\n",
       "      <td>NaN</td>\n",
       "      <td>NaN</td>\n",
       "      <td>NaN</td>\n",
       "    </tr>\n",
       "    <tr>\n",
       "      <th>3428</th>\n",
       "      <td>Pinus ponderosa</td>\n",
       "      <td>northern Rocky Mountains U.S.A.</td>\n",
       "      <td>0.70104</td>\n",
       "      <td>NaN</td>\n",
       "      <td>NaN</td>\n",
       "      <td>0.186793</td>\n",
       "      <td>0.084007</td>\n",
       "      <td>NaN</td>\n",
       "      <td>NaN</td>\n",
       "      <td>NaN</td>\n",
       "      <td>NaN</td>\n",
       "    </tr>\n",
       "  </tbody>\n",
       "</table>\n",
       "</div>"
      ],
      "text/plain": [
       "              species                         location      h.t  d.bh  a.lf  \\\n",
       "3426    Thuja plicata  northern Rocky Mountains U.S.A.  0.54864   NaN   NaN   \n",
       "3428  Pinus ponderosa  northern Rocky Mountains U.S.A.  0.70104   NaN   NaN   \n",
       "\n",
       "          a.cp      m.lf  ma.ilf  n.lf  m.so  DBH (cm)  \n",
       "3426  0.143013  0.029983     NaN   NaN   NaN       NaN  \n",
       "3428  0.186793  0.084007     NaN   NaN   NaN       NaN  "
      ]
     },
     "execution_count": 10,
     "metadata": {},
     "output_type": "execute_result"
    }
   ],
   "source": [
    "baad_10spc.head(2)\n",
    "#bbef_2pfts"
   ]
  },
  {
   "cell_type": "code",
   "execution_count": 11,
   "metadata": {},
   "outputs": [
    {
     "name": "stdout",
     "output_type": "stream",
     "text": [
      "max =  location\n",
      "24 km east of Prince George, British Columbia, CA                                             6.936000\n",
      "Gavin Lake                                                                                    5.820000\n",
      "Priest River Experimental Forest                                                             44.989998\n",
      "Pringle Butte and Lookout Mountain                                                           14.520000\n",
      "central Oregon, USA                                                                          20.150000\n",
      "eastern side of the Oregon Cascade Range, USA on a private forestland (Crown Pacific Co.)    35.750000\n",
      "northern Rocky Mountains U.S.A.                                                              44.013120\n",
      "western Montana, USA                                                                         22.070000\n",
      "Name: h.t, dtype: float64 \n",
      "min =  location\n",
      "24 km east of Prince George, British Columbia, CA                                            0.68200\n",
      "Gavin Lake                                                                                   0.29000\n",
      "Priest River Experimental Forest                                                             3.57000\n",
      "Pringle Butte and Lookout Mountain                                                           2.11000\n",
      "central Oregon, USA                                                                          1.66000\n",
      "eastern side of the Oregon Cascade Range, USA on a private forestland (Crown Pacific Co.)    2.99614\n",
      "northern Rocky Mountains U.S.A.                                                              0.54864\n",
      "western Montana, USA                                                                         1.75000\n",
      "Name: h.t, dtype: float64\n"
     ]
    }
   ],
   "source": [
    "# Review the max and min height by location (BAAD only)\n",
    "print(\"max = \", baad_10spc.groupby('location')['h.t'].max(), \"\\nmin = \", baad_10spc.groupby('location')['h.t'].min())\n"
   ]
  },
  {
   "cell_type": "code",
   "execution_count": 12,
   "metadata": {},
   "outputs": [
    {
     "name": "stdout",
     "output_type": "stream",
     "text": [
      "mean\n",
      " location\n",
      "24 km east of Prince George, British Columbia, CA                                             2.670767\n",
      "Gavin Lake                                                                                    1.861486\n",
      "Priest River Experimental Forest                                                             27.480488\n",
      "Pringle Butte and Lookout Mountain                                                            8.738611\n",
      "central Oregon, USA                                                                           7.442581\n",
      "eastern side of the Oregon Cascade Range, USA on a private forestland (Crown Pacific Co.)    18.044303\n",
      "northern Rocky Mountains U.S.A.                                                               7.999469\n",
      "western Montana, USA                                                                          8.865385\n",
      "Name: h.t, dtype: float64\n"
     ]
    }
   ],
   "source": [
    "# Review the mean height by location (BAAD only)\n",
    "print(\"mean\\n\", baad_10spc.groupby('location')['h.t'].mean())\n"
   ]
  },
  {
   "cell_type": "code",
   "execution_count": 13,
   "metadata": {},
   "outputs": [
    {
     "name": "stdout",
     "output_type": "stream",
     "text": [
      "BAAD\n",
      " count    1037.000000\n",
      "mean        5.863459\n",
      "std         8.079590\n",
      "min         0.290000\n",
      "25%         1.290000\n",
      "50%         2.700000\n",
      "75%         6.280000\n",
      "max        44.989998\n",
      "Name: h.t, dtype: float64 \n",
      "BBEF count    5506.000000\n",
      "mean       16.467371\n",
      "std         9.844548\n",
      "min         0.304800\n",
      "25%         8.991600\n",
      "50%        15.910560\n",
      "75%        22.981920\n",
      "max       269.443200\n",
      "Name: H (m), dtype: float64 \n",
      "FIA count    223647.000000\n",
      "mean         54.872281\n",
      "std          26.682908\n",
      "min           1.000000\n",
      "25%          36.000000\n",
      "50%          53.000000\n",
      "75%          71.000000\n",
      "max         215.000000\n",
      "Name: HT, dtype: float64\n"
     ]
    }
   ],
   "source": [
    "# Review basic stats on height\n",
    "print(\"BAAD\\n\", baad_10spc['h.t'].describe(), \"\\nBBEF\", bbef_10spc['H (m)'].describe(), \"\\nFIA\", fia_10spc['HT'].describe())\n",
    "\n",
    "# There is no way there is a 269 m tall tree at BBEF\n"
   ]
  },
  {
   "cell_type": "code",
   "execution_count": 14,
   "metadata": {},
   "outputs": [
    {
     "data": {
      "text/plain": [
       "count    5505.000000\n",
       "mean       16.421417\n",
       "std         9.235978\n",
       "min         0.304800\n",
       "25%         8.991600\n",
       "50%        15.910560\n",
       "75%        22.981920\n",
       "max        48.158400\n",
       "Name: H (m), dtype: float64"
      ]
     },
     "execution_count": 14,
     "metadata": {},
     "output_type": "execute_result"
    }
   ],
   "source": [
    "# Drop the index with the max height (269.4432m) from the bbef_2pfts\n",
    "\n",
    "indx = bbef_10spc[ (bbef_10spc['H (m)'] == bbef_10spc['H (m)'].max())].index\n",
    "bbef_10spc.drop(indx, inplace=True)\n",
    "\n",
    "bbef_10spc['H (m)'].describe()"
   ]
  },
  {
   "cell_type": "code",
   "execution_count": 15,
   "metadata": {},
   "outputs": [
    {
     "data": {
      "text/plain": [
       "Int64Index([998], dtype='int64')"
      ]
     },
     "execution_count": 15,
     "metadata": {},
     "output_type": "execute_result"
    }
   ],
   "source": [
    "indx"
   ]
  },
  {
   "cell_type": "code",
   "execution_count": 16,
   "metadata": {},
   "outputs": [
    {
     "name": "stdout",
     "output_type": "stream",
     "text": [
      "BAAD\n",
      " count    470.000000\n",
      "mean       0.168984\n",
      "std        0.173715\n",
      "min        0.002540\n",
      "25%        0.045720\n",
      "50%        0.114300\n",
      "75%        0.222885\n",
      "max        0.863600\n",
      "Name: d.bh, dtype: float64 \n",
      "BBEF count    5505.000000\n",
      "mean        0.271001\n",
      "std         0.203184\n",
      "min         0.002540\n",
      "25%         0.132080\n",
      "50%         0.223520\n",
      "75%         0.355600\n",
      "max         2.870200\n",
      "Name: DBH (m), dtype: float64 \n",
      "FIA count    223647.000000\n",
      "mean          0.253500\n",
      "std           0.163285\n",
      "min           0.025400\n",
      "25%           0.149860\n",
      "50%           0.213360\n",
      "75%           0.317500\n",
      "max           2.405380\n",
      "Name: DBH (m), dtype: float64\n"
     ]
    }
   ],
   "source": [
    "# Review basic stats on dbh\n",
    "print(\"BAAD\\n\", baad_10spc['d.bh'].describe(), \"\\nBBEF\", bbef_10spc['DBH (m)'].describe(), \"\\nFIA\", fia_10spc['DBH (m)'].describe())\n",
    "\n"
   ]
  },
  {
   "cell_type": "code",
   "execution_count": 17,
   "metadata": {},
   "outputs": [
    {
     "data": {
      "text/html": [
       "<div>\n",
       "<style scoped>\n",
       "    .dataframe tbody tr th:only-of-type {\n",
       "        vertical-align: middle;\n",
       "    }\n",
       "\n",
       "    .dataframe tbody tr th {\n",
       "        vertical-align: top;\n",
       "    }\n",
       "\n",
       "    .dataframe thead th {\n",
       "        text-align: right;\n",
       "    }\n",
       "</style>\n",
       "<table border=\"1\" class=\"dataframe\">\n",
       "  <thead>\n",
       "    <tr style=\"text-align: right;\">\n",
       "      <th></th>\n",
       "      <th>DBH(m)</th>\n",
       "      <th>H(m)</th>\n",
       "      <th>DBH(cm)</th>\n",
       "    </tr>\n",
       "  </thead>\n",
       "  <tbody>\n",
       "    <tr>\n",
       "      <th>0</th>\n",
       "      <td>NaN</td>\n",
       "      <td>0.54864</td>\n",
       "      <td>NaN</td>\n",
       "    </tr>\n",
       "    <tr>\n",
       "      <th>1</th>\n",
       "      <td>NaN</td>\n",
       "      <td>0.70104</td>\n",
       "      <td>NaN</td>\n",
       "    </tr>\n",
       "    <tr>\n",
       "      <th>2</th>\n",
       "      <td>NaN</td>\n",
       "      <td>0.76200</td>\n",
       "      <td>NaN</td>\n",
       "    </tr>\n",
       "    <tr>\n",
       "      <th>3</th>\n",
       "      <td>NaN</td>\n",
       "      <td>0.85344</td>\n",
       "      <td>NaN</td>\n",
       "    </tr>\n",
       "    <tr>\n",
       "      <th>4</th>\n",
       "      <td>NaN</td>\n",
       "      <td>0.85344</td>\n",
       "      <td>NaN</td>\n",
       "    </tr>\n",
       "    <tr>\n",
       "      <th>...</th>\n",
       "      <td>...</td>\n",
       "      <td>...</td>\n",
       "      <td>...</td>\n",
       "    </tr>\n",
       "    <tr>\n",
       "      <th>241758</th>\n",
       "      <td>0.14224</td>\n",
       "      <td>6.09600</td>\n",
       "      <td>14.224</td>\n",
       "    </tr>\n",
       "    <tr>\n",
       "      <th>241759</th>\n",
       "      <td>0.38354</td>\n",
       "      <td>14.32560</td>\n",
       "      <td>38.354</td>\n",
       "    </tr>\n",
       "    <tr>\n",
       "      <th>241760</th>\n",
       "      <td>NaN</td>\n",
       "      <td>NaN</td>\n",
       "      <td>NaN</td>\n",
       "    </tr>\n",
       "    <tr>\n",
       "      <th>241761</th>\n",
       "      <td>0.15748</td>\n",
       "      <td>9.75360</td>\n",
       "      <td>15.748</td>\n",
       "    </tr>\n",
       "    <tr>\n",
       "      <th>241762</th>\n",
       "      <td>0.13462</td>\n",
       "      <td>6.70560</td>\n",
       "      <td>13.462</td>\n",
       "    </tr>\n",
       "  </tbody>\n",
       "</table>\n",
       "<p>241763 rows × 3 columns</p>\n",
       "</div>"
      ],
      "text/plain": [
       "         DBH(m)      H(m)  DBH(cm)\n",
       "0           NaN   0.54864      NaN\n",
       "1           NaN   0.70104      NaN\n",
       "2           NaN   0.76200      NaN\n",
       "3           NaN   0.85344      NaN\n",
       "4           NaN   0.85344      NaN\n",
       "...         ...       ...      ...\n",
       "241758  0.14224   6.09600   14.224\n",
       "241759  0.38354  14.32560   38.354\n",
       "241760      NaN       NaN      NaN\n",
       "241761  0.15748   9.75360   15.748\n",
       "241762  0.13462   6.70560   13.462\n",
       "\n",
       "[241763 rows x 3 columns]"
      ]
     },
     "execution_count": 17,
     "metadata": {},
     "output_type": "execute_result"
    }
   ],
   "source": [
    "# Combine all of the DBH and H datasets into one dataframe\n",
    "TOT_DBH = pd.concat([baad_10spc['d.bh'], bbef_10spc['DBH (m)'], fia_10spc['DBH (m)']], axis=0, ignore_index=True)\n",
    "TOT_H = pd.concat([baad_10spc['h.t'], bbef_10spc['H (m)'], fia_10spc['HT (m)']], axis=0, ignore_index=True)\n",
    "\n",
    "TOT = pd.concat([pd.DataFrame(TOT_DBH, columns=['DBH(m)']), pd.DataFrame(TOT_H, columns=['H(m)'])], axis=1)\n",
    "TOT['DBH(cm)'] = TOT['DBH(m)'] * 100\n",
    "TOT"
   ]
  },
  {
   "cell_type": "code",
   "execution_count": 18,
   "metadata": {},
   "outputs": [],
   "source": [
    "# Find the mean height for specified ranges of DBH. \n",
    "# Here for a dbh of 10cm I took the measurements from 5-15cm to represent 10cm dbh. \n",
    "# Repeat the process up to 90cm.\n",
    "# These values will be used to calculate parameters from the allometric equations (this acutally may not be necessary)\n",
    "\n",
    "# Set dbh_mod to the ranges of dbh needed for calculation. In this case I want an array from 10-90 in steps of 10.\n",
    "dbh_mod = np.arange(10, 100, 10) \n",
    "\n",
    "baad_mean_h = []\n",
    "\n",
    "for i in dbh_mod:\n",
    "    mask =  (baad_10spc['d.bh']>= ((i/100) - 0.05)) & (baad_10spc['d.bh']<((i/100) + 0.05))\n",
    "    tmp_ = baad_10spc.loc[mask].copy()\n",
    "    stats = tmp_['h.t'].mean()\n",
    "    baad_mean_h.append(stats)\n",
    "    \n",
    "bbef_mean_h = []\n",
    "\n",
    "for i in dbh_mod:\n",
    "    mask =  (bbef_10spc['DBH (m)']>= ((i/100) - 0.05)) & (bbef_10spc['DBH (m)']<((i/100) + 0.05))\n",
    "    tmp_ = bbef_10spc.loc[mask].copy()\n",
    "    stats = tmp_['H (m)'].mean()\n",
    "    bbef_mean_h.append(stats)\n",
    "\n",
    "fia_mean_h = []\n",
    "\n",
    "for i in dbh_mod:\n",
    "    mask =  (fia_10spc['DBH (m)']>= ((i/100) - 0.05)) & (fia_10spc['DBH (m)']<((i/100) + 0.05))\n",
    "    tmp_ = fia_10spc.loc[mask].copy()\n",
    "    stats = tmp_['HT (m)'].mean()\n",
    "    fia_mean_h.append(stats)\n",
    "    \n",
    "tot_mean_h = []\n",
    "\n",
    "for i in dbh_mod:\n",
    "    mask =  (TOT['DBH(m)']>= ((i/100) - 0.05)) & (TOT['DBH(m)']<((i/100) + 0.05))\n",
    "    tot_ = TOT.loc[mask].copy()\n",
    "    stats = tot_['H(m)'].mean()\n",
    "    tot_mean_h.append(stats)"
   ]
  },
  {
   "cell_type": "markdown",
   "metadata": {},
   "source": [
    "### 3) Fit parameters for the allometric functions using curve_fit()\n"
   ]
  },
  {
   "cell_type": "code",
   "execution_count": 19,
   "metadata": {},
   "outputs": [],
   "source": [
    "## Create a vector or dataframe with the height and dbh values for each of the three datasets and for the combined \n",
    "## (TOT) dataset\n",
    "\n",
    "BBEF_DBH = bbef_10spc['DBH (cm)'].values\n",
    "BAAD_DBH = baad_10spc['DBH (cm)'].values\n",
    "FIA_DBH = fia_10spc['DBH (cm)'].values\n",
    "TOT_DBH = TOT['DBH(cm)'].values\n",
    "\n",
    "BBEF_H = bbef_10spc['H (m)'].values\n",
    "BAAD_H = baad_10spc['h.t'].values\n",
    "FIA_H = fia_10spc['HT (m)'].values\n",
    "TOT_H = TOT['H(m)'].values\n",
    "\n",
    "BAAD_Hobs = baad_mean_h\n",
    "BBEF_Hobs = bbef_mean_h\n",
    "FIA_Hobs = fia_mean_h\n",
    "TOT_Hobs = tot_mean_h\n"
   ]
  },
  {
   "cell_type": "code",
   "execution_count": 20,
   "metadata": {},
   "outputs": [],
   "source": [
    "# If you would like you can define an objective/cost function for the d2h function. In this case RMSE.\n",
    "# Then I want to create an objective function. I will use RMSE\n",
    "\n",
    "def d2h_error(dbh,Hobs,p1,p2):\n",
    "    h = 10**((np.log10(dbh))*p1+p2)\n",
    "    RMSE = np.sqrt(np.mean((h-Hobs)**2)) # best to use numpy\n",
    "    return RMSE"
   ]
  },
  {
   "cell_type": "code",
   "execution_count": 21,
   "metadata": {},
   "outputs": [
    {
     "name": "stdout",
     "output_type": "stream",
     "text": [
      "0.520829753919819\n"
     ]
    }
   ],
   "source": [
    "RMSE = d2h_error(10,6.24,0.65,0.18)\n",
    "print(RMSE)"
   ]
  },
  {
   "cell_type": "markdown",
   "metadata": {},
   "source": [
    "### 3.1) For the d2h allometries fit the data to all of the functions. Then just the datasets to the O'Brien function.\n",
    "\n",
    "We will also randomly sample and optimize the parameters to get a distribution of p1 and p2 for the O'Brien equation."
   ]
  },
  {
   "cell_type": "code",
   "execution_count": 22,
   "metadata": {},
   "outputs": [
    {
     "name": "stdout",
     "output_type": "stream",
     "text": [
      "[0.6087815  0.39083651]\n",
      "[ 3.59553973e+01 -2.59992399e-02  1.02302808e+00]\n",
      "[2.45946519 0.60877875]\n",
      "[-0.90079593  1.67818987 -0.15458195]\n",
      "[44.47719501  1.17295961 63.08534194]\n"
     ]
    },
    {
     "name": "stderr",
     "output_type": "stream",
     "text": [
      "/Users/kathrynmurenbeeld/opt/anaconda3/lib/python3.7/site-packages/ipykernel_launcher.py:14: RuntimeWarning: divide by zero encountered in log10\n",
      "  \n",
      "/Users/kathrynmurenbeeld/opt/anaconda3/lib/python3.7/site-packages/ipykernel_launcher.py:2: RuntimeWarning: divide by zero encountered in log\n",
      "  \n"
     ]
    },
    {
     "data": {
      "text/plain": [
       "<matplotlib.legend.Legend at 0x7f7f5d90a650>"
      ]
     },
     "execution_count": 22,
     "metadata": {},
     "output_type": "execute_result"
    },
    {
     "data": {
      "image/png": "[encoded data removed]",
      "text/plain": [
       "<Figure size 432x288 with 1 Axes>"
      ]
     },
     "metadata": {
      "needs_background": "light"
     },
     "output_type": "display_data"
    }
   ],
   "source": [
    "TOT_na = TOT.dropna(subset = ['DBH(cm)', 'H(m)']).copy()\n",
    "\n",
    "pars_obrien, cov_obrien = curve_fit(f=d2h_obrien, xdata=TOT_na['DBH(cm)'].dropna(), ydata=TOT_na['H(m)'].dropna())\n",
    "print(pars_obrien)\n",
    "pars_poorter2006, cov_poorter2006 = curve_fit(f=d2h_poorter2006, xdata=TOT_na['DBH(cm)'].dropna(), ydata=TOT_na['H(m)'].dropna(), p0=[10,-0.01,1])\n",
    "print(pars_poorter2006)\n",
    "pars_2pwr, cov_2pwr = curve_fit(f=d2h_2pwr, xdata=TOT_na['DBH(cm)'].dropna(), ydata=TOT_na['H(m)'].dropna())\n",
    "print(pars_2pwr)\n",
    "pars_chave2014, cov_chave2014 = curve_fit(f=d2h_chave2014, xdata=TOT_na['DBH(cm)'].dropna(), ydata=TOT_na['H(m)'].dropna())\n",
    "print(pars_chave2014)\n",
    "pars_martcano, cov_martcano = curve_fit(f=d2h_martcano, xdata=TOT_na['DBH(cm)'].dropna(), ydata=TOT_na['H(m)'].dropna(), p0=[10,1,100])\n",
    "print(pars_martcano)\n",
    "fig = plt.figure()\n",
    "ax = fig.add_axes([0, 0, 1, 1])\n",
    "ax.set_xlabel('dbh')\n",
    "ax.set_ylabel('height')\n",
    "ax.scatter(TOT['DBH(cm)'], TOT['H(m)'], s=40, color='#00b3b3', label='Data')\n",
    "ax.plot(np.arange(140), d2h_obrien(np.arange(140), *pars_obrien), linestyle='-.', linewidth=2, color='black', label=\"O'Brien\")\n",
    "ax.plot(np.arange(140), d2h_poorter2006(np.arange(140), *pars_poorter2006), linestyle='--', linewidth=2, color='orange', label=\"Poorter\")\n",
    "ax.plot(np.arange(140), d2h_2pwr(np.arange(140), *pars_2pwr), linestyle='--', linewidth=2, color='blue', label=\"2-param power\")\n",
    "ax.plot(np.arange(140), d2h_chave2014(np.arange(140), *pars_chave2014), linestyle='--', linewidth=2, color='purple', label=\"Chave\")\n",
    "\n",
    "ax.plot(np.arange(140), d2h_martcano(np.arange(140), *pars_martcano), linestyle='--', linewidth=2, color='red', label=\"Martinez-Cano\")\n",
    "ax.set_xlim(0,140)\n",
    "ax.legend()"
   ]
  },
  {
   "cell_type": "code",
   "execution_count": 23,
   "metadata": {},
   "outputs": [
    {
     "name": "stdout",
     "output_type": "stream",
     "text": [
      "[0.82348719 0.05236976]\n",
      "[0.63042623 0.34549468]\n",
      "[0.6079209  0.39245748]\n"
     ]
    },
    {
     "name": "stderr",
     "output_type": "stream",
     "text": [
      "/Users/kathrynmurenbeeld/opt/anaconda3/lib/python3.7/site-packages/ipykernel_launcher.py:14: RuntimeWarning: divide by zero encountered in log10\n",
      "  \n",
      "/Users/kathrynmurenbeeld/opt/anaconda3/lib/python3.7/site-packages/ipykernel_launcher.py:14: RuntimeWarning: divide by zero encountered in log10\n",
      "  \n",
      "/Users/kathrynmurenbeeld/opt/anaconda3/lib/python3.7/site-packages/ipykernel_launcher.py:14: RuntimeWarning: divide by zero encountered in log10\n",
      "  \n"
     ]
    },
    {
     "data": {
      "text/plain": [
       "<matplotlib.legend.Legend at 0x7f7f600a3fd0>"
      ]
     },
     "execution_count": 23,
     "metadata": {},
     "output_type": "execute_result"
    },
    {
     "data": {
      "image/png": "[encoded data removed]",
      "text/plain": [
       "<Figure size 432x288 with 1 Axes>"
      ]
     },
     "metadata": {
      "needs_background": "light"
     },
     "output_type": "display_data"
    }
   ],
   "source": [
    "# Just using the O'Brien equation. Create optimal parameters for each of the three datasets.\n",
    "\n",
    "baad_df2 = baad_10spc.dropna(subset=['DBH (cm)'])\n",
    "parsbaad_obrien, covbaad_obrien = curve_fit(f=d2h_obrien, xdata=baad_df2['DBH (cm)'], ydata=baad_df2['h.t'])\n",
    "print(parsbaad_obrien)\n",
    "parsbbef_obrien, covbbef_obrien = curve_fit(f=d2h_obrien, xdata=BBEF_DBH, ydata=BBEF_H)\n",
    "print(parsbbef_obrien)\n",
    "parsfia_obrien, covfia_obrien = curve_fit(f=d2h_obrien, xdata=fia_10spc['DBH (cm)'].dropna(), ydata=fia_10spc['HT (m)'].dropna())\n",
    "print(parsfia_obrien)\n",
    "fig = plt.figure()\n",
    "ax = fig.add_axes([0, 0, 1, 1])\n",
    "ax.set_xlabel('dbh')\n",
    "ax.set_ylabel('height')\n",
    "ax.scatter(fia_10spc['DBH (cm)'], fia_10spc['HT (m)'], s=40, color='#00b3b3', label='Data')\n",
    "ax.scatter(BBEF_DBH, BBEF_H, s=40, color='#00b3b3', label='Data')\n",
    "ax.scatter(baad_10spc['DBH (cm)'], baad_10spc['h.t'], s=40, color='#00b3b3', label='Data')\n",
    "ax.plot(np.arange(140), d2h_obrien(np.arange(140), *parsbbef_obrien), linestyle='-.', linewidth=2, color='black', label=\"BBEF\")\n",
    "ax.plot(np.arange(140), d2h_obrien(np.arange(140), *parsfia_obrien), linestyle='-.', linewidth=2, color='blue', label=\"FIA\")\n",
    "ax.plot(np.arange(140), d2h_obrien(np.arange(140), *parsbaad_obrien), linestyle='-.', linewidth=2, color='red', label=\"BAAD\")\n",
    "ax.set_xlim(0,140)\n",
    "ax.legend()\n",
    "\n"
   ]
  },
  {
   "cell_type": "code",
   "execution_count": 24,
   "metadata": {},
   "outputs": [],
   "source": [
    "# From the total dataset, sample 1000 random samples and calculate the optimal parameters for O'Brien.\n",
    "# Repeat the sampling and optimization 100 times.\n",
    "# Create histograms for the two parameters.\n",
    "\n",
    "smp_opt_d2h = []\n",
    "\n",
    "def d2h_params(data):\n",
    "    smp_mean_h = []\n",
    "    for i in dbh_mod:\n",
    "        smp = data.sample(1000).dropna()\n",
    "            \n",
    "    smp_opt, smp_cov = curve_fit(f=d2h_obrien, xdata=smp['DBH(cm)'], ydata=smp['H(m)'])\n",
    "    smp_opt_d2h.append(smp_opt)\n",
    "    return smp_opt"
   ]
  },
  {
   "cell_type": "code",
   "execution_count": 25,
   "metadata": {},
   "outputs": [],
   "source": [
    "smp_opt_d2h = []\n",
    "\n",
    "for x in range(1,101):\n",
    "    d2h_params(TOT)\n",
    "    D2H_PARAMS_DF = smp_opt_d2h\n",
    "\n",
    "d2h_params_df = pd.DataFrame(D2H_PARAMS_DF, columns=['d2h_p1', 'd2h_p2'])"
   ]
  },
  {
   "cell_type": "code",
   "execution_count": 26,
   "metadata": {},
   "outputs": [
    {
     "data": {
      "text/plain": [
       "(array([ 2.,  4., 20., 16., 12., 15., 10., 14.,  2.,  5.]),\n",
       " array([0.56687732, 0.57579019, 0.58470306, 0.59361592, 0.60252879,\n",
       "        0.61144166, 0.62035453, 0.62926739, 0.63818026, 0.64709313,\n",
       "        0.65600599]),\n",
       " <a list of 10 Patch objects>)"
      ]
     },
     "execution_count": 26,
     "metadata": {},
     "output_type": "execute_result"
    },
    {
     "data": {
      "image/png": "[encoded data removed]",
      "text/plain": [
       "<Figure size 432x288 with 1 Axes>"
      ]
     },
     "metadata": {
      "needs_background": "light"
     },
     "output_type": "display_data"
    }
   ],
   "source": [
    "plt.hist(d2h_params_df['d2h_p1'])"
   ]
  },
  {
   "cell_type": "code",
   "execution_count": 27,
   "metadata": {},
   "outputs": [
    {
     "data": {
      "text/plain": [
       "(array([ 6.,  4., 11., 16., 13., 10., 20., 15.,  2.,  3.]),\n",
       " array([0.32907061, 0.3412696 , 0.35346859, 0.36566759, 0.37786658,\n",
       "        0.39006557, 0.40226456, 0.41446355, 0.42666255, 0.43886154,\n",
       "        0.45106053]),\n",
       " <a list of 10 Patch objects>)"
      ]
     },
     "execution_count": 27,
     "metadata": {},
     "output_type": "execute_result"
    },
    {
     "data": {
      "image/png": "[encoded data removed]",
      "text/plain": [
       "<Figure size 432x288 with 1 Axes>"
      ]
     },
     "metadata": {
      "needs_background": "light"
     },
     "output_type": "display_data"
    }
   ],
   "source": [
    "plt.hist(d2h_params_df['d2h_p2'])"
   ]
  },
  {
   "cell_type": "code",
   "execution_count": 28,
   "metadata": {},
   "outputs": [],
   "source": [
    "# read out to a csv for use in the traits matrix\n",
    "#d2h_params_df.to_csv('/Users/kathrynmurenbeeld/Desktop/Desktop - Kathryn’s MacBook Pro/CLM/FATES/SCGSR_PARAMS/d2h_params_10spc_20210727.csv', index=False)\n"
   ]
  },
  {
   "cell_type": "markdown",
   "metadata": {},
   "source": [
    "### 3.2) We will optimize for the leaf biomass and crown area allometries using the BAAD data. "
   ]
  },
  {
   "cell_type": "markdown",
   "metadata": {},
   "source": [
    "#### First, projected crown area ($m^2$)"
   ]
  },
  {
   "cell_type": "code",
   "execution_count": 29,
   "metadata": {},
   "outputs": [
    {
     "data": {
      "text/html": [
       "<div>\n",
       "<style scoped>\n",
       "    .dataframe tbody tr th:only-of-type {\n",
       "        vertical-align: middle;\n",
       "    }\n",
       "\n",
       "    .dataframe tbody tr th {\n",
       "        vertical-align: top;\n",
       "    }\n",
       "\n",
       "    .dataframe thead th {\n",
       "        text-align: right;\n",
       "    }\n",
       "</style>\n",
       "<table border=\"1\" class=\"dataframe\">\n",
       "  <thead>\n",
       "    <tr style=\"text-align: right;\">\n",
       "      <th></th>\n",
       "      <th>species</th>\n",
       "      <th>location</th>\n",
       "      <th>h.t</th>\n",
       "      <th>d.bh</th>\n",
       "      <th>a.lf</th>\n",
       "      <th>a.cp</th>\n",
       "      <th>m.lf</th>\n",
       "      <th>ma.ilf</th>\n",
       "      <th>n.lf</th>\n",
       "      <th>m.so</th>\n",
       "      <th>DBH (cm)</th>\n",
       "    </tr>\n",
       "  </thead>\n",
       "  <tbody>\n",
       "    <tr>\n",
       "      <th>3477</th>\n",
       "      <td>Pinus ponderosa</td>\n",
       "      <td>northern Rocky Mountains U.S.A.</td>\n",
       "      <td>1.402080</td>\n",
       "      <td>0.00762</td>\n",
       "      <td>NaN</td>\n",
       "      <td>0.263407</td>\n",
       "      <td>0.066997</td>\n",
       "      <td>NaN</td>\n",
       "      <td>NaN</td>\n",
       "      <td>NaN</td>\n",
       "      <td>0.762</td>\n",
       "    </tr>\n",
       "    <tr>\n",
       "      <th>3480</th>\n",
       "      <td>Thuja plicata</td>\n",
       "      <td>northern Rocky Mountains U.S.A.</td>\n",
       "      <td>1.432560</td>\n",
       "      <td>0.00762</td>\n",
       "      <td>NaN</td>\n",
       "      <td>1.349139</td>\n",
       "      <td>0.156991</td>\n",
       "      <td>NaN</td>\n",
       "      <td>NaN</td>\n",
       "      <td>NaN</td>\n",
       "      <td>0.762</td>\n",
       "    </tr>\n",
       "    <tr>\n",
       "      <th>3483</th>\n",
       "      <td>Larix occidentalis</td>\n",
       "      <td>northern Rocky Mountains U.S.A.</td>\n",
       "      <td>1.524000</td>\n",
       "      <td>0.01270</td>\n",
       "      <td>NaN</td>\n",
       "      <td>0.843486</td>\n",
       "      <td>0.189015</td>\n",
       "      <td>NaN</td>\n",
       "      <td>NaN</td>\n",
       "      <td>NaN</td>\n",
       "      <td>1.270</td>\n",
       "    </tr>\n",
       "    <tr>\n",
       "      <th>3484</th>\n",
       "      <td>Thuja plicata</td>\n",
       "      <td>northern Rocky Mountains U.S.A.</td>\n",
       "      <td>1.584960</td>\n",
       "      <td>0.00254</td>\n",
       "      <td>NaN</td>\n",
       "      <td>1.681134</td>\n",
       "      <td>0.247983</td>\n",
       "      <td>NaN</td>\n",
       "      <td>NaN</td>\n",
       "      <td>NaN</td>\n",
       "      <td>0.254</td>\n",
       "    </tr>\n",
       "    <tr>\n",
       "      <th>3485</th>\n",
       "      <td>Pinus monticola</td>\n",
       "      <td>northern Rocky Mountains U.S.A.</td>\n",
       "      <td>1.584960</td>\n",
       "      <td>0.01016</td>\n",
       "      <td>NaN</td>\n",
       "      <td>0.531921</td>\n",
       "      <td>0.366010</td>\n",
       "      <td>NaN</td>\n",
       "      <td>NaN</td>\n",
       "      <td>NaN</td>\n",
       "      <td>1.016</td>\n",
       "    </tr>\n",
       "    <tr>\n",
       "      <th>...</th>\n",
       "      <td>...</td>\n",
       "      <td>...</td>\n",
       "      <td>...</td>\n",
       "      <td>...</td>\n",
       "      <td>...</td>\n",
       "      <td>...</td>\n",
       "      <td>...</td>\n",
       "      <td>...</td>\n",
       "      <td>...</td>\n",
       "      <td>...</td>\n",
       "      <td>...</td>\n",
       "    </tr>\n",
       "    <tr>\n",
       "      <th>11641</th>\n",
       "      <td>Pinus ponderosa</td>\n",
       "      <td>Priest River Experimental Forest</td>\n",
       "      <td>3.570000</td>\n",
       "      <td>0.04830</td>\n",
       "      <td>6.221753</td>\n",
       "      <td>0.833229</td>\n",
       "      <td>0.808352</td>\n",
       "      <td>NaN</td>\n",
       "      <td>NaN</td>\n",
       "      <td>NaN</td>\n",
       "      <td>4.830</td>\n",
       "    </tr>\n",
       "    <tr>\n",
       "      <th>11642</th>\n",
       "      <td>Pinus ponderosa</td>\n",
       "      <td>Priest River Experimental Forest</td>\n",
       "      <td>31.929997</td>\n",
       "      <td>0.70610</td>\n",
       "      <td>970.338487</td>\n",
       "      <td>36.513951</td>\n",
       "      <td>135.146738</td>\n",
       "      <td>NaN</td>\n",
       "      <td>NaN</td>\n",
       "      <td>NaN</td>\n",
       "      <td>70.610</td>\n",
       "    </tr>\n",
       "    <tr>\n",
       "      <th>11643</th>\n",
       "      <td>Pinus ponderosa</td>\n",
       "      <td>Priest River Experimental Forest</td>\n",
       "      <td>6.920000</td>\n",
       "      <td>0.11430</td>\n",
       "      <td>36.523412</td>\n",
       "      <td>4.856518</td>\n",
       "      <td>4.806629</td>\n",
       "      <td>NaN</td>\n",
       "      <td>NaN</td>\n",
       "      <td>NaN</td>\n",
       "      <td>11.430</td>\n",
       "    </tr>\n",
       "    <tr>\n",
       "      <th>11644</th>\n",
       "      <td>Pinus ponderosa</td>\n",
       "      <td>Priest River Experimental Forest</td>\n",
       "      <td>5.849999</td>\n",
       "      <td>0.11940</td>\n",
       "      <td>34.204490</td>\n",
       "      <td>3.397947</td>\n",
       "      <td>4.770014</td>\n",
       "      <td>NaN</td>\n",
       "      <td>NaN</td>\n",
       "      <td>NaN</td>\n",
       "      <td>11.940</td>\n",
       "    </tr>\n",
       "    <tr>\n",
       "      <th>11645</th>\n",
       "      <td>Pinus ponderosa</td>\n",
       "      <td>Priest River Experimental Forest</td>\n",
       "      <td>35.139998</td>\n",
       "      <td>0.60200</td>\n",
       "      <td>398.966600</td>\n",
       "      <td>27.216280</td>\n",
       "      <td>54.388049</td>\n",
       "      <td>NaN</td>\n",
       "      <td>NaN</td>\n",
       "      <td>NaN</td>\n",
       "      <td>60.200</td>\n",
       "    </tr>\n",
       "  </tbody>\n",
       "</table>\n",
       "<p>304 rows × 11 columns</p>\n",
       "</div>"
      ],
      "text/plain": [
       "                  species                          location        h.t  \\\n",
       "3477      Pinus ponderosa   northern Rocky Mountains U.S.A.   1.402080   \n",
       "3480        Thuja plicata   northern Rocky Mountains U.S.A.   1.432560   \n",
       "3483   Larix occidentalis   northern Rocky Mountains U.S.A.   1.524000   \n",
       "3484        Thuja plicata   northern Rocky Mountains U.S.A.   1.584960   \n",
       "3485      Pinus monticola   northern Rocky Mountains U.S.A.   1.584960   \n",
       "...                   ...                               ...        ...   \n",
       "11641     Pinus ponderosa  Priest River Experimental Forest   3.570000   \n",
       "11642     Pinus ponderosa  Priest River Experimental Forest  31.929997   \n",
       "11643     Pinus ponderosa  Priest River Experimental Forest   6.920000   \n",
       "11644     Pinus ponderosa  Priest River Experimental Forest   5.849999   \n",
       "11645     Pinus ponderosa  Priest River Experimental Forest  35.139998   \n",
       "\n",
       "          d.bh        a.lf       a.cp        m.lf  ma.ilf  n.lf  m.so  \\\n",
       "3477   0.00762         NaN   0.263407    0.066997     NaN   NaN   NaN   \n",
       "3480   0.00762         NaN   1.349139    0.156991     NaN   NaN   NaN   \n",
       "3483   0.01270         NaN   0.843486    0.189015     NaN   NaN   NaN   \n",
       "3484   0.00254         NaN   1.681134    0.247983     NaN   NaN   NaN   \n",
       "3485   0.01016         NaN   0.531921    0.366010     NaN   NaN   NaN   \n",
       "...        ...         ...        ...         ...     ...   ...   ...   \n",
       "11641  0.04830    6.221753   0.833229    0.808352     NaN   NaN   NaN   \n",
       "11642  0.70610  970.338487  36.513951  135.146738     NaN   NaN   NaN   \n",
       "11643  0.11430   36.523412   4.856518    4.806629     NaN   NaN   NaN   \n",
       "11644  0.11940   34.204490   3.397947    4.770014     NaN   NaN   NaN   \n",
       "11645  0.60200  398.966600  27.216280   54.388049     NaN   NaN   NaN   \n",
       "\n",
       "       DBH (cm)  \n",
       "3477      0.762  \n",
       "3480      0.762  \n",
       "3483      1.270  \n",
       "3484      0.254  \n",
       "3485      1.016  \n",
       "...         ...  \n",
       "11641     4.830  \n",
       "11642    70.610  \n",
       "11643    11.430  \n",
       "11644    11.940  \n",
       "11645    60.200  \n",
       "\n",
       "[304 rows x 11 columns]"
      ]
     },
     "execution_count": 29,
     "metadata": {},
     "output_type": "execute_result"
    }
   ],
   "source": [
    "baad_10spc.dropna(subset=['a.cp', 'DBH (cm)'])"
   ]
  },
  {
   "cell_type": "code",
   "execution_count": 30,
   "metadata": {},
   "outputs": [
    {
     "name": "stdout",
     "output_type": "stream",
     "text": [
      "[0.15133808 1.34504714]\n"
     ]
    },
    {
     "data": {
      "text/plain": [
       "[<matplotlib.lines.Line2D at 0x7f7f62caedd0>]"
      ]
     },
     "execution_count": 30,
     "metadata": {},
     "output_type": "execute_result"
    },
    {
     "data": {
      "image/png": "[encoded data removed]",
      "text/plain": [
       "<Figure size 432x288 with 1 Axes>"
      ]
     },
     "metadata": {
      "needs_background": "light"
     },
     "output_type": "display_data"
    }
   ],
   "source": [
    "baad_acp = baad_10spc.dropna(subset=['a.cp', 'DBH (cm)'])\n",
    "crownarea_pars, crownarea_cov = curve_fit(f=carea_2pwr, xdata=baad_acp['DBH (cm)'], ydata=baad_acp['a.cp'])\n",
    "print(crownarea_pars)\n",
    "fig = plt.figure()\n",
    "ax = fig.add_axes([0, 0, 1, 1])\n",
    "ax.set_xlabel('dbh (cm)')\n",
    "ax.set_ylabel('crown_proj (m2)')\n",
    "ax.scatter(baad_acp['DBH (cm)'], baad_acp['a.cp'], s=40, color='#00b3b3', label='Data')\n",
    "ax.plot(np.arange(140), carea_2pwr(np.arange(140), *crownarea_pars), linestyle='--', linewidth=2, color='black')\n"
   ]
  },
  {
   "cell_type": "code",
   "execution_count": 31,
   "metadata": {},
   "outputs": [
    {
     "data": {
      "text/plain": [
       "(array([359.,  83.,  38.,  26.,  12.,  14.,  15.,   5.,   6.,   3.,   7.,\n",
       "          5.,   2.,   1.,   0.,   4.,   1.,   1.,   1.,   0.,   0.,   2.,\n",
       "          1.,   0.,   0.,   0.,   0.,   1.,   1.,   0.,   1.,   0.,   0.,\n",
       "          0.,   0.,   0.,   0.,   1.,   0.,   0.,   0.,   0.,   0.,   0.,\n",
       "          0.,   0.,   0.,   0.,   0.,   1.]),\n",
       " array([6.36172512e-03, 2.35283169e+00, 4.69930165e+00, 7.04577161e+00,\n",
       "        9.39224158e+00, 1.17387115e+01, 1.40851815e+01, 1.64316515e+01,\n",
       "        1.87781214e+01, 2.11245914e+01, 2.34710614e+01, 2.58175313e+01,\n",
       "        2.81640013e+01, 3.05104712e+01, 3.28569412e+01, 3.52034112e+01,\n",
       "        3.75498811e+01, 3.98963511e+01, 4.22428211e+01, 4.45892910e+01,\n",
       "        4.69357610e+01, 4.92822309e+01, 5.16287009e+01, 5.39751709e+01,\n",
       "        5.63216408e+01, 5.86681108e+01, 6.10145808e+01, 6.33610507e+01,\n",
       "        6.57075207e+01, 6.80539906e+01, 7.04004606e+01, 7.27469306e+01,\n",
       "        7.50934005e+01, 7.74398705e+01, 7.97863405e+01, 8.21328104e+01,\n",
       "        8.44792804e+01, 8.68257503e+01, 8.91722203e+01, 9.15186903e+01,\n",
       "        9.38651602e+01, 9.62116302e+01, 9.85581002e+01, 1.00904570e+02,\n",
       "        1.03251040e+02, 1.05597510e+02, 1.07943980e+02, 1.10290450e+02,\n",
       "        1.12636920e+02, 1.14983390e+02, 1.17329860e+02]),\n",
       " <a list of 50 Patch objects>)"
      ]
     },
     "execution_count": 31,
     "metadata": {},
     "output_type": "execute_result"
    },
    {
     "data": {
      "image/png": "[encoded data removed]",
      "text/plain": [
       "<Figure size 432x288 with 1 Axes>"
      ]
     },
     "metadata": {
      "needs_background": "light"
     },
     "output_type": "display_data"
    }
   ],
   "source": [
    "plt.hist(baad_10spc['a.cp'].dropna(), bins=50)\n",
    "plt.show()"
   ]
  },
  {
   "cell_type": "code",
   "execution_count": 32,
   "metadata": {},
   "outputs": [
    {
     "data": {
      "text/plain": [
       "count    591.000000\n",
       "mean       5.153063\n",
       "std       10.492777\n",
       "min        0.006362\n",
       "25%        0.456037\n",
       "50%        1.681134\n",
       "75%        4.882628\n",
       "max      117.329860\n",
       "Name: a.cp, dtype: float64"
      ]
     },
     "execution_count": 32,
     "metadata": {},
     "output_type": "execute_result"
    }
   ],
   "source": [
    "baad_10spc['a.cp'].describe()"
   ]
  },
  {
   "cell_type": "code",
   "execution_count": 33,
   "metadata": {},
   "outputs": [
    {
     "data": {
      "text/plain": [
       "count    591.000000\n",
       "mean       0.383445\n",
       "std        1.721818\n",
       "min       -5.057456\n",
       "25%       -0.785182\n",
       "50%        0.519468\n",
       "75%        1.585669\n",
       "max        4.764989\n",
       "Name: a.cp, dtype: float64"
      ]
     },
     "execution_count": 33,
     "metadata": {},
     "output_type": "execute_result"
    }
   ],
   "source": [
    "acp_log = np.log(baad_10spc['a.cp'])\n",
    "acp_log.describe()"
   ]
  },
  {
   "cell_type": "markdown",
   "metadata": {},
   "source": [
    "#### Then, leaf area ($m^2$)"
   ]
  },
  {
   "cell_type": "code",
   "execution_count": 34,
   "metadata": {},
   "outputs": [
    {
     "data": {
      "text/html": [
       "<div>\n",
       "<style scoped>\n",
       "    .dataframe tbody tr th:only-of-type {\n",
       "        vertical-align: middle;\n",
       "    }\n",
       "\n",
       "    .dataframe tbody tr th {\n",
       "        vertical-align: top;\n",
       "    }\n",
       "\n",
       "    .dataframe thead th {\n",
       "        text-align: right;\n",
       "    }\n",
       "</style>\n",
       "<table border=\"1\" class=\"dataframe\">\n",
       "  <thead>\n",
       "    <tr style=\"text-align: right;\">\n",
       "      <th></th>\n",
       "      <th>species</th>\n",
       "      <th>location</th>\n",
       "      <th>h.t</th>\n",
       "      <th>d.bh</th>\n",
       "      <th>a.lf</th>\n",
       "      <th>a.cp</th>\n",
       "      <th>m.lf</th>\n",
       "      <th>ma.ilf</th>\n",
       "      <th>n.lf</th>\n",
       "      <th>m.so</th>\n",
       "      <th>DBH (cm)</th>\n",
       "    </tr>\n",
       "  </thead>\n",
       "  <tbody>\n",
       "    <tr>\n",
       "      <th>5992</th>\n",
       "      <td>Pinus ponderosa</td>\n",
       "      <td>eastern side of the Oregon Cascade Range, USA ...</td>\n",
       "      <td>32.60</td>\n",
       "      <td>0.627241</td>\n",
       "      <td>548.5200</td>\n",
       "      <td>NaN</td>\n",
       "      <td>75.39</td>\n",
       "      <td>0.139586</td>\n",
       "      <td>NaN</td>\n",
       "      <td>NaN</td>\n",
       "      <td>62.724080</td>\n",
       "    </tr>\n",
       "    <tr>\n",
       "      <th>5993</th>\n",
       "      <td>Pinus ponderosa</td>\n",
       "      <td>eastern side of the Oregon Cascade Range, USA ...</td>\n",
       "      <td>33.60</td>\n",
       "      <td>0.544669</td>\n",
       "      <td>627.6800</td>\n",
       "      <td>NaN</td>\n",
       "      <td>85.41</td>\n",
       "      <td>0.137430</td>\n",
       "      <td>NaN</td>\n",
       "      <td>NaN</td>\n",
       "      <td>54.466945</td>\n",
       "    </tr>\n",
       "    <tr>\n",
       "      <th>5994</th>\n",
       "      <td>Pinus ponderosa</td>\n",
       "      <td>eastern side of the Oregon Cascade Range, USA ...</td>\n",
       "      <td>34.10</td>\n",
       "      <td>0.661811</td>\n",
       "      <td>593.0900</td>\n",
       "      <td>NaN</td>\n",
       "      <td>94.95</td>\n",
       "      <td>0.159400</td>\n",
       "      <td>NaN</td>\n",
       "      <td>NaN</td>\n",
       "      <td>66.181146</td>\n",
       "    </tr>\n",
       "    <tr>\n",
       "      <th>5995</th>\n",
       "      <td>Pinus ponderosa</td>\n",
       "      <td>eastern side of the Oregon Cascade Range, USA ...</td>\n",
       "      <td>31.70</td>\n",
       "      <td>0.677967</td>\n",
       "      <td>415.7100</td>\n",
       "      <td>NaN</td>\n",
       "      <td>62.74</td>\n",
       "      <td>0.154386</td>\n",
       "      <td>NaN</td>\n",
       "      <td>NaN</td>\n",
       "      <td>67.796716</td>\n",
       "    </tr>\n",
       "    <tr>\n",
       "      <th>5996</th>\n",
       "      <td>Pinus ponderosa</td>\n",
       "      <td>eastern side of the Oregon Cascade Range, USA ...</td>\n",
       "      <td>33.50</td>\n",
       "      <td>0.608698</td>\n",
       "      <td>575.4500</td>\n",
       "      <td>NaN</td>\n",
       "      <td>83.92</td>\n",
       "      <td>0.143859</td>\n",
       "      <td>NaN</td>\n",
       "      <td>NaN</td>\n",
       "      <td>60.869755</td>\n",
       "    </tr>\n",
       "    <tr>\n",
       "      <th>...</th>\n",
       "      <td>...</td>\n",
       "      <td>...</td>\n",
       "      <td>...</td>\n",
       "      <td>...</td>\n",
       "      <td>...</td>\n",
       "      <td>...</td>\n",
       "      <td>...</td>\n",
       "      <td>...</td>\n",
       "      <td>...</td>\n",
       "      <td>...</td>\n",
       "      <td>...</td>\n",
       "    </tr>\n",
       "    <tr>\n",
       "      <th>12272</th>\n",
       "      <td>Pinus ponderosa</td>\n",
       "      <td>central Oregon, USA</td>\n",
       "      <td>12.90</td>\n",
       "      <td>0.231140</td>\n",
       "      <td>122.5351</td>\n",
       "      <td>NaN</td>\n",
       "      <td>NaN</td>\n",
       "      <td>NaN</td>\n",
       "      <td>NaN</td>\n",
       "      <td>NaN</td>\n",
       "      <td>23.114000</td>\n",
       "    </tr>\n",
       "    <tr>\n",
       "      <th>12273</th>\n",
       "      <td>Pinus ponderosa</td>\n",
       "      <td>central Oregon, USA</td>\n",
       "      <td>17.95</td>\n",
       "      <td>0.312420</td>\n",
       "      <td>132.5742</td>\n",
       "      <td>NaN</td>\n",
       "      <td>NaN</td>\n",
       "      <td>NaN</td>\n",
       "      <td>NaN</td>\n",
       "      <td>NaN</td>\n",
       "      <td>31.242000</td>\n",
       "    </tr>\n",
       "    <tr>\n",
       "      <th>12274</th>\n",
       "      <td>Pinus ponderosa</td>\n",
       "      <td>central Oregon, USA</td>\n",
       "      <td>14.53</td>\n",
       "      <td>0.347980</td>\n",
       "      <td>134.6993</td>\n",
       "      <td>NaN</td>\n",
       "      <td>NaN</td>\n",
       "      <td>NaN</td>\n",
       "      <td>NaN</td>\n",
       "      <td>NaN</td>\n",
       "      <td>34.798000</td>\n",
       "    </tr>\n",
       "    <tr>\n",
       "      <th>12275</th>\n",
       "      <td>Pinus ponderosa</td>\n",
       "      <td>central Oregon, USA</td>\n",
       "      <td>20.10</td>\n",
       "      <td>0.342900</td>\n",
       "      <td>287.5394</td>\n",
       "      <td>NaN</td>\n",
       "      <td>NaN</td>\n",
       "      <td>NaN</td>\n",
       "      <td>NaN</td>\n",
       "      <td>NaN</td>\n",
       "      <td>34.290000</td>\n",
       "    </tr>\n",
       "    <tr>\n",
       "      <th>12276</th>\n",
       "      <td>Pinus ponderosa</td>\n",
       "      <td>central Oregon, USA</td>\n",
       "      <td>20.15</td>\n",
       "      <td>0.393700</td>\n",
       "      <td>271.1232</td>\n",
       "      <td>NaN</td>\n",
       "      <td>NaN</td>\n",
       "      <td>NaN</td>\n",
       "      <td>NaN</td>\n",
       "      <td>NaN</td>\n",
       "      <td>39.370000</td>\n",
       "    </tr>\n",
       "  </tbody>\n",
       "</table>\n",
       "<p>256 rows × 11 columns</p>\n",
       "</div>"
      ],
      "text/plain": [
       "               species                                           location  \\\n",
       "5992   Pinus ponderosa  eastern side of the Oregon Cascade Range, USA ...   \n",
       "5993   Pinus ponderosa  eastern side of the Oregon Cascade Range, USA ...   \n",
       "5994   Pinus ponderosa  eastern side of the Oregon Cascade Range, USA ...   \n",
       "5995   Pinus ponderosa  eastern side of the Oregon Cascade Range, USA ...   \n",
       "5996   Pinus ponderosa  eastern side of the Oregon Cascade Range, USA ...   \n",
       "...                ...                                                ...   \n",
       "12272  Pinus ponderosa                                central Oregon, USA   \n",
       "12273  Pinus ponderosa                                central Oregon, USA   \n",
       "12274  Pinus ponderosa                                central Oregon, USA   \n",
       "12275  Pinus ponderosa                                central Oregon, USA   \n",
       "12276  Pinus ponderosa                                central Oregon, USA   \n",
       "\n",
       "         h.t      d.bh      a.lf  a.cp   m.lf    ma.ilf  n.lf  m.so   DBH (cm)  \n",
       "5992   32.60  0.627241  548.5200   NaN  75.39  0.139586   NaN   NaN  62.724080  \n",
       "5993   33.60  0.544669  627.6800   NaN  85.41  0.137430   NaN   NaN  54.466945  \n",
       "5994   34.10  0.661811  593.0900   NaN  94.95  0.159400   NaN   NaN  66.181146  \n",
       "5995   31.70  0.677967  415.7100   NaN  62.74  0.154386   NaN   NaN  67.796716  \n",
       "5996   33.50  0.608698  575.4500   NaN  83.92  0.143859   NaN   NaN  60.869755  \n",
       "...      ...       ...       ...   ...    ...       ...   ...   ...        ...  \n",
       "12272  12.90  0.231140  122.5351   NaN    NaN       NaN   NaN   NaN  23.114000  \n",
       "12273  17.95  0.312420  132.5742   NaN    NaN       NaN   NaN   NaN  31.242000  \n",
       "12274  14.53  0.347980  134.6993   NaN    NaN       NaN   NaN   NaN  34.798000  \n",
       "12275  20.10  0.342900  287.5394   NaN    NaN       NaN   NaN   NaN  34.290000  \n",
       "12276  20.15  0.393700  271.1232   NaN    NaN       NaN   NaN   NaN  39.370000  \n",
       "\n",
       "[256 rows x 11 columns]"
      ]
     },
     "execution_count": 34,
     "metadata": {},
     "output_type": "execute_result"
    }
   ],
   "source": [
    "baad_10spc.dropna(subset=['a.lf', 'DBH (cm)'])"
   ]
  },
  {
   "cell_type": "code",
   "execution_count": 35,
   "metadata": {},
   "outputs": [
    {
     "name": "stdout",
     "output_type": "stream",
     "text": [
      "[0.49870982 1.7026955 ]\n"
     ]
    },
    {
     "data": {
      "text/plain": [
       "[<matplotlib.lines.Line2D at 0x7f7f62a12810>]"
      ]
     },
     "execution_count": 35,
     "metadata": {},
     "output_type": "execute_result"
    },
    {
     "data": {
      "image/png": "[encoded data removed]",
      "text/plain": [
       "<Figure size 432x288 with 1 Axes>"
      ]
     },
     "metadata": {
      "needs_background": "light"
     },
     "output_type": "display_data"
    }
   ],
   "source": [
    "baad_alf = baad_10spc.dropna(subset=['a.lf', 'DBH (cm)'])\n",
    "leafarea_pars, leafarea_cov = curve_fit(f=carea_2pwr, xdata=baad_alf['DBH (cm)'], ydata=baad_alf['a.lf'])\n",
    "print(leafarea_pars)\n",
    "fig = plt.figure()\n",
    "ax = fig.add_axes([0, 0, 1, 1])\n",
    "ax.set_xlabel('dbh (cm)')\n",
    "ax.set_ylabel('leaf area (m2)')\n",
    "ax.scatter(baad_alf['DBH (cm)'], baad_alf['a.lf'], s=40, color='#00b3b3', label='Data')\n",
    "ax.plot(np.arange(140), carea_2pwr(np.arange(140), *leafarea_pars), linestyle='--', linewidth=2, color='black')\n",
    "#ax.set_xlim(0,100)"
   ]
  },
  {
   "cell_type": "code",
   "execution_count": 36,
   "metadata": {},
   "outputs": [
    {
     "data": {
      "text/plain": [
       "(array([269.,  42.,  13.,  12.,   9.,   4.,   4.,   1.,   4.,   4.,   1.,\n",
       "          0.,   3.,   1.,   3.]),\n",
       " array([2.65147650e-02, 6.56656984e+01, 1.31304882e+02, 1.96944066e+02,\n",
       "        2.62583249e+02, 3.28222433e+02, 3.93861616e+02, 4.59500800e+02,\n",
       "        5.25139984e+02, 5.90779167e+02, 6.56418351e+02, 7.22057535e+02,\n",
       "        7.87696718e+02, 8.53335902e+02, 9.18975085e+02, 9.84614269e+02]),\n",
       " <a list of 15 Patch objects>)"
      ]
     },
     "execution_count": 36,
     "metadata": {},
     "output_type": "execute_result"
    },
    {
     "data": {
      "image/png": "[encoded data removed]",
      "text/plain": [
       "<Figure size 432x288 with 1 Axes>"
      ]
     },
     "metadata": {
      "needs_background": "light"
     },
     "output_type": "display_data"
    }
   ],
   "source": [
    "plt.hist(baad_10spc['a.lf'].dropna(), bins=15)"
   ]
  },
  {
   "cell_type": "code",
   "execution_count": 37,
   "metadata": {},
   "outputs": [
    {
     "data": {
      "text/plain": [
       "count    370.000000\n",
       "mean      81.873704\n",
       "std      166.086398\n",
       "min        0.026515\n",
       "25%        1.693390\n",
       "50%       14.892900\n",
       "75%       76.405700\n",
       "max      984.614269\n",
       "Name: a.lf, dtype: float64"
      ]
     },
     "execution_count": 37,
     "metadata": {},
     "output_type": "execute_result"
    }
   ],
   "source": [
    "baad_10spc['a.lf'].describe()"
   ]
  },
  {
   "cell_type": "code",
   "execution_count": 38,
   "metadata": {},
   "outputs": [
    {
     "data": {
      "text/plain": [
       "count    370.000000\n",
       "mean       2.436646\n",
       "std        2.402231\n",
       "min       -3.630054\n",
       "25%        0.526651\n",
       "50%        2.700801\n",
       "75%        4.335966\n",
       "max        6.892250\n",
       "Name: a.lf, dtype: float64"
      ]
     },
     "execution_count": 38,
     "metadata": {},
     "output_type": "execute_result"
    }
   ],
   "source": [
    "alf_log = np.log(baad_10spc['a.lf'])\n",
    "alf_log.describe()"
   ]
  },
  {
   "cell_type": "markdown",
   "metadata": {},
   "source": [
    "#### Calculate the leaf crown exponent difference"
   ]
  },
  {
   "cell_type": "code",
   "execution_count": 39,
   "metadata": {},
   "outputs": [
    {
     "name": "stdout",
     "output_type": "stream",
     "text": [
      "-0.3576483665860988\n"
     ]
    }
   ],
   "source": [
    "leaf_crown_exponent_diff = crownarea_pars[1] - leafarea_pars[1]\n",
    "print(leaf_crown_exponent_diff)"
   ]
  },
  {
   "cell_type": "markdown",
   "metadata": {},
   "source": [
    "#### Next, the leaf mass (kg)"
   ]
  },
  {
   "cell_type": "code",
   "execution_count": 40,
   "metadata": {},
   "outputs": [
    {
     "data": {
      "text/html": [
       "<div>\n",
       "<style scoped>\n",
       "    .dataframe tbody tr th:only-of-type {\n",
       "        vertical-align: middle;\n",
       "    }\n",
       "\n",
       "    .dataframe tbody tr th {\n",
       "        vertical-align: top;\n",
       "    }\n",
       "\n",
       "    .dataframe thead th {\n",
       "        text-align: right;\n",
       "    }\n",
       "</style>\n",
       "<table border=\"1\" class=\"dataframe\">\n",
       "  <thead>\n",
       "    <tr style=\"text-align: right;\">\n",
       "      <th></th>\n",
       "      <th>species</th>\n",
       "      <th>location</th>\n",
       "      <th>h.t</th>\n",
       "      <th>d.bh</th>\n",
       "      <th>a.lf</th>\n",
       "      <th>a.cp</th>\n",
       "      <th>m.lf</th>\n",
       "      <th>ma.ilf</th>\n",
       "      <th>n.lf</th>\n",
       "      <th>m.so</th>\n",
       "      <th>DBH (cm)</th>\n",
       "    </tr>\n",
       "  </thead>\n",
       "  <tbody>\n",
       "    <tr>\n",
       "      <th>3477</th>\n",
       "      <td>Pinus ponderosa</td>\n",
       "      <td>northern Rocky Mountains U.S.A.</td>\n",
       "      <td>1.40208</td>\n",
       "      <td>0.00762</td>\n",
       "      <td>NaN</td>\n",
       "      <td>0.263407</td>\n",
       "      <td>0.066997</td>\n",
       "      <td>NaN</td>\n",
       "      <td>NaN</td>\n",
       "      <td>NaN</td>\n",
       "      <td>0.762</td>\n",
       "    </tr>\n",
       "    <tr>\n",
       "      <th>3480</th>\n",
       "      <td>Thuja plicata</td>\n",
       "      <td>northern Rocky Mountains U.S.A.</td>\n",
       "      <td>1.43256</td>\n",
       "      <td>0.00762</td>\n",
       "      <td>NaN</td>\n",
       "      <td>1.349139</td>\n",
       "      <td>0.156991</td>\n",
       "      <td>NaN</td>\n",
       "      <td>NaN</td>\n",
       "      <td>NaN</td>\n",
       "      <td>0.762</td>\n",
       "    </tr>\n",
       "    <tr>\n",
       "      <th>3483</th>\n",
       "      <td>Larix occidentalis</td>\n",
       "      <td>northern Rocky Mountains U.S.A.</td>\n",
       "      <td>1.52400</td>\n",
       "      <td>0.01270</td>\n",
       "      <td>NaN</td>\n",
       "      <td>0.843486</td>\n",
       "      <td>0.189015</td>\n",
       "      <td>NaN</td>\n",
       "      <td>NaN</td>\n",
       "      <td>NaN</td>\n",
       "      <td>1.270</td>\n",
       "    </tr>\n",
       "    <tr>\n",
       "      <th>3484</th>\n",
       "      <td>Thuja plicata</td>\n",
       "      <td>northern Rocky Mountains U.S.A.</td>\n",
       "      <td>1.58496</td>\n",
       "      <td>0.00254</td>\n",
       "      <td>NaN</td>\n",
       "      <td>1.681134</td>\n",
       "      <td>0.247983</td>\n",
       "      <td>NaN</td>\n",
       "      <td>NaN</td>\n",
       "      <td>NaN</td>\n",
       "      <td>0.254</td>\n",
       "    </tr>\n",
       "    <tr>\n",
       "      <th>3485</th>\n",
       "      <td>Pinus monticola</td>\n",
       "      <td>northern Rocky Mountains U.S.A.</td>\n",
       "      <td>1.58496</td>\n",
       "      <td>0.01016</td>\n",
       "      <td>NaN</td>\n",
       "      <td>0.531921</td>\n",
       "      <td>0.366010</td>\n",
       "      <td>NaN</td>\n",
       "      <td>NaN</td>\n",
       "      <td>NaN</td>\n",
       "      <td>1.016</td>\n",
       "    </tr>\n",
       "    <tr>\n",
       "      <th>...</th>\n",
       "      <td>...</td>\n",
       "      <td>...</td>\n",
       "      <td>...</td>\n",
       "      <td>...</td>\n",
       "      <td>...</td>\n",
       "      <td>...</td>\n",
       "      <td>...</td>\n",
       "      <td>...</td>\n",
       "      <td>...</td>\n",
       "      <td>...</td>\n",
       "      <td>...</td>\n",
       "    </tr>\n",
       "    <tr>\n",
       "      <th>19395</th>\n",
       "      <td>Abies lasiocarpa</td>\n",
       "      <td>24 km east of Prince George, British Columbia, CA</td>\n",
       "      <td>2.43000</td>\n",
       "      <td>0.02510</td>\n",
       "      <td>NaN</td>\n",
       "      <td>NaN</td>\n",
       "      <td>0.536340</td>\n",
       "      <td>NaN</td>\n",
       "      <td>NaN</td>\n",
       "      <td>1.18675</td>\n",
       "      <td>2.510</td>\n",
       "    </tr>\n",
       "    <tr>\n",
       "      <th>19396</th>\n",
       "      <td>Abies lasiocarpa</td>\n",
       "      <td>24 km east of Prince George, British Columbia, CA</td>\n",
       "      <td>5.29000</td>\n",
       "      <td>0.06560</td>\n",
       "      <td>NaN</td>\n",
       "      <td>NaN</td>\n",
       "      <td>0.985780</td>\n",
       "      <td>NaN</td>\n",
       "      <td>NaN</td>\n",
       "      <td>4.51192</td>\n",
       "      <td>6.560</td>\n",
       "    </tr>\n",
       "    <tr>\n",
       "      <th>19397</th>\n",
       "      <td>Abies lasiocarpa</td>\n",
       "      <td>24 km east of Prince George, British Columbia, CA</td>\n",
       "      <td>6.93600</td>\n",
       "      <td>0.06540</td>\n",
       "      <td>NaN</td>\n",
       "      <td>NaN</td>\n",
       "      <td>0.845220</td>\n",
       "      <td>NaN</td>\n",
       "      <td>NaN</td>\n",
       "      <td>6.65497</td>\n",
       "      <td>6.540</td>\n",
       "    </tr>\n",
       "    <tr>\n",
       "      <th>19398</th>\n",
       "      <td>Abies lasiocarpa</td>\n",
       "      <td>24 km east of Prince George, British Columbia, CA</td>\n",
       "      <td>5.45000</td>\n",
       "      <td>0.06290</td>\n",
       "      <td>NaN</td>\n",
       "      <td>NaN</td>\n",
       "      <td>0.781350</td>\n",
       "      <td>NaN</td>\n",
       "      <td>NaN</td>\n",
       "      <td>5.25157</td>\n",
       "      <td>6.290</td>\n",
       "    </tr>\n",
       "    <tr>\n",
       "      <th>19399</th>\n",
       "      <td>Abies lasiocarpa</td>\n",
       "      <td>24 km east of Prince George, British Columbia, CA</td>\n",
       "      <td>5.88000</td>\n",
       "      <td>0.05630</td>\n",
       "      <td>NaN</td>\n",
       "      <td>NaN</td>\n",
       "      <td>0.665360</td>\n",
       "      <td>NaN</td>\n",
       "      <td>NaN</td>\n",
       "      <td>4.23153</td>\n",
       "      <td>5.630</td>\n",
       "    </tr>\n",
       "  </tbody>\n",
       "</table>\n",
       "<p>356 rows × 11 columns</p>\n",
       "</div>"
      ],
      "text/plain": [
       "                  species                                           location  \\\n",
       "3477      Pinus ponderosa                    northern Rocky Mountains U.S.A.   \n",
       "3480        Thuja plicata                    northern Rocky Mountains U.S.A.   \n",
       "3483   Larix occidentalis                    northern Rocky Mountains U.S.A.   \n",
       "3484        Thuja plicata                    northern Rocky Mountains U.S.A.   \n",
       "3485      Pinus monticola                    northern Rocky Mountains U.S.A.   \n",
       "...                   ...                                                ...   \n",
       "19395    Abies lasiocarpa  24 km east of Prince George, British Columbia, CA   \n",
       "19396    Abies lasiocarpa  24 km east of Prince George, British Columbia, CA   \n",
       "19397    Abies lasiocarpa  24 km east of Prince George, British Columbia, CA   \n",
       "19398    Abies lasiocarpa  24 km east of Prince George, British Columbia, CA   \n",
       "19399    Abies lasiocarpa  24 km east of Prince George, British Columbia, CA   \n",
       "\n",
       "           h.t     d.bh  a.lf      a.cp      m.lf  ma.ilf  n.lf     m.so  \\\n",
       "3477   1.40208  0.00762   NaN  0.263407  0.066997     NaN   NaN      NaN   \n",
       "3480   1.43256  0.00762   NaN  1.349139  0.156991     NaN   NaN      NaN   \n",
       "3483   1.52400  0.01270   NaN  0.843486  0.189015     NaN   NaN      NaN   \n",
       "3484   1.58496  0.00254   NaN  1.681134  0.247983     NaN   NaN      NaN   \n",
       "3485   1.58496  0.01016   NaN  0.531921  0.366010     NaN   NaN      NaN   \n",
       "...        ...      ...   ...       ...       ...     ...   ...      ...   \n",
       "19395  2.43000  0.02510   NaN       NaN  0.536340     NaN   NaN  1.18675   \n",
       "19396  5.29000  0.06560   NaN       NaN  0.985780     NaN   NaN  4.51192   \n",
       "19397  6.93600  0.06540   NaN       NaN  0.845220     NaN   NaN  6.65497   \n",
       "19398  5.45000  0.06290   NaN       NaN  0.781350     NaN   NaN  5.25157   \n",
       "19399  5.88000  0.05630   NaN       NaN  0.665360     NaN   NaN  4.23153   \n",
       "\n",
       "       DBH (cm)  \n",
       "3477      0.762  \n",
       "3480      0.762  \n",
       "3483      1.270  \n",
       "3484      0.254  \n",
       "3485      1.016  \n",
       "...         ...  \n",
       "19395     2.510  \n",
       "19396     6.560  \n",
       "19397     6.540  \n",
       "19398     6.290  \n",
       "19399     5.630  \n",
       "\n",
       "[356 rows x 11 columns]"
      ]
     },
     "execution_count": 40,
     "metadata": {},
     "output_type": "execute_result"
    }
   ],
   "source": [
    "baad_10spc.dropna(subset=['m.lf', 'DBH (cm)'])"
   ]
  },
  {
   "cell_type": "code",
   "execution_count": 41,
   "metadata": {},
   "outputs": [
    {
     "name": "stdout",
     "output_type": "stream",
     "text": [
      "[0.05766237 1.75023211]\n"
     ]
    },
    {
     "data": {
      "text/plain": [
       "[<matplotlib.lines.Line2D at 0x7f7fb3d7b410>]"
      ]
     },
     "execution_count": 41,
     "metadata": {},
     "output_type": "execute_result"
    },
    {
     "data": {
      "image/png": "[encoded data removed]",
      "text/plain": [
       "<Figure size 432x288 with 1 Axes>"
      ]
     },
     "metadata": {
      "needs_background": "light"
     },
     "output_type": "display_data"
    }
   ],
   "source": [
    "baad_mlf = baad_10spc.dropna(subset=['m.lf', 'DBH (cm)'])\n",
    "leafmass_pars, leafmass_cov = curve_fit(f=carea_2pwr, xdata=baad_mlf['DBH (cm)'], ydata=baad_mlf['m.lf'])\n",
    "print(leafmass_pars)\n",
    "fig = plt.figure()\n",
    "ax = fig.add_axes([0, 0, 1, 1])\n",
    "ax.set_xlabel('dbh (cm)')\n",
    "ax.set_ylabel('leaf mass (kg)')\n",
    "ax.scatter(baad_mlf['DBH (cm)'], baad_mlf['m.lf'], s=40, color='#00b3b3', label='Data')\n",
    "ax.plot(np.arange(140), carea_2pwr(np.arange(140), *leafmass_pars), linestyle='--', linewidth=2, color='black')"
   ]
  },
  {
   "cell_type": "code",
   "execution_count": 42,
   "metadata": {},
   "outputs": [
    {
     "name": "stdout",
     "output_type": "stream",
     "text": [
      "[0.11532665 1.75022807]\n"
     ]
    },
    {
     "data": {
      "text/plain": [
       "[<matplotlib.lines.Line2D at 0x7f7f5f231050>]"
      ]
     },
     "execution_count": 42,
     "metadata": {},
     "output_type": "execute_result"
    },
    {
     "data": {
      "image/png": "[encoded data removed]",
      "text/plain": [
       "<Figure size 432x288 with 1 Axes>"
      ]
     },
     "metadata": {
      "needs_background": "light"
     },
     "output_type": "display_data"
    }
   ],
   "source": [
    "baad_mlf = baad_10spc.dropna(subset=['m.lf', 'DBH (cm)'])\n",
    "leafmass_pars2, leafmass_cov2 = curve_fit(f=d2blmax_2pwr, xdata=baad_mlf['DBH (cm)'], ydata=baad_mlf['m.lf'])\n",
    "print(leafmass_pars2)\n",
    "fig = plt.figure()\n",
    "ax = fig.add_axes([0, 0, 1, 1])\n",
    "ax.set_xlabel('dbh (cm)')\n",
    "ax.set_ylabel('leaf mass (kg)')\n",
    "ax.scatter(baad_mlf['DBH (cm)'], baad_mlf['m.lf'], s=40, color='#00b3b3', label='Data')\n",
    "ax.plot(np.arange(140), d2blmax_2pwr(np.arange(140), *leafmass_pars2), linestyle='--', linewidth=2, color='black')"
   ]
  },
  {
   "cell_type": "code",
   "execution_count": 43,
   "metadata": {},
   "outputs": [
    {
     "data": {
      "text/html": [
       "<div>\n",
       "<style scoped>\n",
       "    .dataframe tbody tr th:only-of-type {\n",
       "        vertical-align: middle;\n",
       "    }\n",
       "\n",
       "    .dataframe tbody tr th {\n",
       "        vertical-align: top;\n",
       "    }\n",
       "\n",
       "    .dataframe thead th {\n",
       "        text-align: right;\n",
       "    }\n",
       "</style>\n",
       "<table border=\"1\" class=\"dataframe\">\n",
       "  <thead>\n",
       "    <tr style=\"text-align: right;\">\n",
       "      <th></th>\n",
       "      <th>DBH (cm)</th>\n",
       "      <th>m.lf</th>\n",
       "    </tr>\n",
       "  </thead>\n",
       "  <tbody>\n",
       "    <tr>\n",
       "      <th>DBH (cm)</th>\n",
       "      <td>364.816949</td>\n",
       "      <td>486.203787</td>\n",
       "    </tr>\n",
       "    <tr>\n",
       "      <th>m.lf</th>\n",
       "      <td>486.203787</td>\n",
       "      <td>846.873595</td>\n",
       "    </tr>\n",
       "  </tbody>\n",
       "</table>\n",
       "</div>"
      ],
      "text/plain": [
       "            DBH (cm)        m.lf\n",
       "DBH (cm)  364.816949  486.203787\n",
       "m.lf      486.203787  846.873595"
      ]
     },
     "execution_count": 43,
     "metadata": {},
     "output_type": "execute_result"
    }
   ],
   "source": [
    "mlf_df = baad_mlf[['DBH (cm)','m.lf']].copy()\n",
    "mlf_cov = mlf_df.cov()\n",
    "mlf_cov"
   ]
  },
  {
   "cell_type": "code",
   "execution_count": 44,
   "metadata": {},
   "outputs": [
    {
     "data": {
      "text/plain": [
       "(array([0.05370439, 0.00529107, 0.00198415, 0.00119049, 0.00132277,\n",
       "        0.00066138, 0.00079366, 0.00052911, 0.00026455, 0.        ,\n",
       "        0.        , 0.        , 0.00013228, 0.        , 0.00013228]),\n",
       " array([2.01000000e-03, 1.51521160e+01, 3.03022220e+01, 4.54523280e+01,\n",
       "        6.06024340e+01, 7.57525400e+01, 9.09026460e+01, 1.06052752e+02,\n",
       "        1.21202858e+02, 1.36352964e+02, 1.51503070e+02, 1.66653176e+02,\n",
       "        1.81803282e+02, 1.96953388e+02, 2.12103494e+02, 2.27253600e+02]),\n",
       " <a list of 15 Patch objects>)"
      ]
     },
     "execution_count": 44,
     "metadata": {},
     "output_type": "execute_result"
    },
    {
     "data": {
      "image/png": "[encoded data removed]",
      "text/plain": [
       "<Figure size 432x288 with 1 Axes>"
      ]
     },
     "metadata": {
      "needs_background": "light"
     },
     "output_type": "display_data"
    }
   ],
   "source": [
    "plt.hist(baad_10spc['m.lf'].dropna(), bins=15, density=True)"
   ]
  },
  {
   "cell_type": "code",
   "execution_count": 45,
   "metadata": {},
   "outputs": [
    {
     "data": {
      "text/plain": [
       "count    499.000000\n",
       "mean      11.515145\n",
       "std       25.604243\n",
       "min        0.002010\n",
       "25%        0.177993\n",
       "50%        1.229256\n",
       "75%        9.450756\n",
       "max      227.253600\n",
       "Name: m.lf, dtype: float64"
      ]
     },
     "execution_count": 45,
     "metadata": {},
     "output_type": "execute_result"
    }
   ],
   "source": [
    "baad_10spc['m.lf'].describe()"
   ]
  },
  {
   "cell_type": "code",
   "execution_count": 46,
   "metadata": {},
   "outputs": [
    {
     "data": {
      "text/plain": [
       "count    499.000000\n",
       "mean       0.213758\n",
       "std        2.512339\n",
       "min       -6.209621\n",
       "25%       -1.726029\n",
       "50%        0.206409\n",
       "75%        2.246080\n",
       "max        5.426067\n",
       "Name: m.lf, dtype: float64"
      ]
     },
     "execution_count": 46,
     "metadata": {},
     "output_type": "execute_result"
    }
   ],
   "source": [
    "mlf_log = np.log(baad_10spc['m.lf'])\n",
    "mlf_log.describe()"
   ]
  },
  {
   "cell_type": "markdown",
   "metadata": {},
   "source": [
    "### From the distributions of the leaf and crown data generate samples to then calculate parameter values from"
   ]
  },
  {
   "cell_type": "code",
   "execution_count": 47,
   "metadata": {},
   "outputs": [],
   "source": [
    "acp = np.random.lognormal(mean=0.453849, sigma=2.017091, size=100)\n",
    "#plt.hist(acp, bins=100)\n",
    "#plt.show()"
   ]
  },
  {
   "cell_type": "code",
   "execution_count": 48,
   "metadata": {},
   "outputs": [],
   "source": [
    "alf = np.random.lognormal(mean=3.060019, sigma=2.225335, size=100)\n",
    "#plt.hist(alf, bins=100)\n",
    "#plt.show()"
   ]
  },
  {
   "cell_type": "code",
   "execution_count": 49,
   "metadata": {},
   "outputs": [],
   "source": [
    "mlf = np.random.lognormal(mean=1.054723, sigma=2.409439, size=100)\n",
    "#plt.hist(mlf, bins=100)\n",
    "#plt.show()"
   ]
  },
  {
   "cell_type": "code",
   "execution_count": 50,
   "metadata": {},
   "outputs": [
    {
     "data": {
      "text/plain": [
       "0.0"
      ]
     },
     "execution_count": 50,
     "metadata": {},
     "output_type": "execute_result"
    }
   ],
   "source": [
    "np.log(1)"
   ]
  },
  {
   "cell_type": "markdown",
   "metadata": {},
   "source": [
    "### 3.3 Diameter to above ground biomass (d2bagw)\n",
    "Here I will test the Chojnacky (2014), the Saldarriaga et al. (1998) and the FATES 2 parameter power functions."
   ]
  },
  {
   "cell_type": "code",
   "execution_count": 51,
   "metadata": {},
   "outputs": [],
   "source": [
    "# From Delucia (2000), in montane ponderosa pine at dbh=50, agb=945. We will use this as a guide.\n",
    "# We need to create an objective/cost function. Use RMSE for now.\n",
    "\n",
    "def RMSE_d2bagw(agb_mod):\n",
    "    RMSE_d2bagw = np.sqrt(np.mean((agb_mod-agb_obs)**2)) \n",
    "    return RMSE_d2bagw\n",
    "\n",
    "# For d2abagw we will calculate the "
   ]
  },
  {
   "cell_type": "code",
   "execution_count": 52,
   "metadata": {},
   "outputs": [
    {
     "name": "stdout",
     "output_type": "stream",
     "text": [
      "agb_choj = 1119.6173798341167 agb_pow= 597.720312368773\n"
     ]
    }
   ],
   "source": [
    "# Test the functions at dbh=50 to find RMSE for observed agb at dbh 50.\n",
    "dbh_bagw = 50\n",
    "agb_obs=945\n",
    "allom_frac=0.6\n",
    "c2b=2\n",
    "\n",
    "# Chojnacky with default parameters for pines with density < 0.45\n",
    "agb_choj = d2bagw_choj(dbh_bagw,-2.6177,2.4638)\n",
    "\n",
    "# Saldarriaga with default parameters\n",
    "#agb_sal = d2bagw_sal(dbh_bagw,0.284,0.57,1.94,1)\n",
    "\n",
    "# 2-parameter with default parameters\n",
    "agb_pow = d2bagw_pow(dbh_bagw,0.1,2.4)\n",
    "\n",
    "#print(\"agb_choj =\", agb_choj, \"agb_sal=\",agb_sal,\"agb_pow=\",agb_pow)\n",
    "print(\"agb_choj =\", agb_choj, \"agb_pow=\",agb_pow)"
   ]
  },
  {
   "cell_type": "code",
   "execution_count": 53,
   "metadata": {},
   "outputs": [
    {
     "name": "stdout",
     "output_type": "stream",
     "text": [
      "choj RMSE= 174.61737983411672 , power RMSE= 347.27968763122703\n"
     ]
    }
   ],
   "source": [
    "# Calculate the RMSE for each of the functions\n",
    "\n",
    "RMSE_choj = RMSE_d2bagw(agb_choj)\n",
    "\n",
    "#RMSE_sal = RMSE_d2bagw(agb_sal)\n",
    "\n",
    "RMSE_pow = RMSE_d2bagw(agb_pow)\n",
    "\n",
    "#print(\"choj RMSE=\",RMSE_choj,\", sal RMSE=\",RMSE_sal,\", power RMSE=\",RMSE_pow)\n",
    "print(\"choj RMSE=\",RMSE_choj,\", power RMSE=\",RMSE_pow)"
   ]
  },
  {
   "cell_type": "markdown",
   "metadata": {},
   "source": [
    "Well, they are all terrible.  How can I make them fit better?"
   ]
  },
  {
   "cell_type": "code",
   "execution_count": 69,
   "metadata": {},
   "outputs": [
    {
     "data": {
      "text/plain": [
       "218.40367110124382"
      ]
     },
     "execution_count": 69,
     "metadata": {},
     "output_type": "execute_result"
    }
   ],
   "source": [
    "# From the FIA data, calculate per acre above ground caron by multiplying the CARBON_AG * TPA_UNADJ\n",
    "\n",
    "# Drop rows with na for CARBON_AG == 0.000\n",
    "fia_agb = fia_2pfts.dropna(subset = ['DRYBIO_BG']).copy()\n",
    "\n",
    "fia_agb['AGB'] = (fia_agb['CARBON_AG'] * fia_agb['TPA_UNADJ'])\n",
    "\n",
    "# Convert lbC/ac to gC/m^2 to match FATES\n",
    "\n",
    "fia_agb['AGB'] = (fia_agb['AGB'].values * 453.592 * 0.000247105)\n",
    "fia_agb['AGB'].mean()\n"
   ]
  },
  {
   "cell_type": "code",
   "execution_count": 66,
   "metadata": {},
   "outputs": [
    {
     "data": {
      "text/plain": [
       "<matplotlib.collections.PathCollection at 0x7fad40aa9990>"
      ]
     },
     "execution_count": 66,
     "metadata": {},
     "output_type": "execute_result"
    },
    {
     "data": {
      "image/png": "[encoded data removed]",
      "text/plain": [
       "<Figure size 432x288 with 1 Axes>"
      ]
     },
     "metadata": {
      "needs_background": "light"
     },
     "output_type": "display_data"
    }
   ],
   "source": [
    "fig = plt.figure()\n",
    "ax = fig.add_axes([0, 0, 1, 1])\n",
    "ax.set_xlabel('dbh')\n",
    "ax.set_ylabel('AGB (lbC/tree)')\n",
    "ax.scatter(fia_2pfts['DBH (cm)'], fia_2pfts['CARBON_AG'], s=40, color='#00b3b3', label='Data')"
   ]
  },
  {
   "cell_type": "code",
   "execution_count": 70,
   "metadata": {},
   "outputs": [
    {
     "data": {
      "text/plain": [
       "<matplotlib.collections.PathCollection at 0x7fad40acd490>"
      ]
     },
     "execution_count": 70,
     "metadata": {},
     "output_type": "execute_result"
    },
    {
     "data": {
      "image/png": "[encoded data removed]",
      "text/plain": [
       "<Figure size 432x288 with 1 Axes>"
      ]
     },
     "metadata": {
      "needs_background": "light"
     },
     "output_type": "display_data"
    }
   ],
   "source": [
    "fig = plt.figure()\n",
    "ax = fig.add_axes([0, 0, 1, 1])\n",
    "ax.set_xlabel('dbh')\n",
    "ax.set_ylabel('AGB (gC/m^2)')\n",
    "#ax.scatter(fia_agb['DBH (cm)'], fia_agb['AGB'], s=40, color='#00b3b3', label='Data')\n",
    "ax.scatter(fia_agb['DBH (cm)'], fia_agb['AGB'], s=40, color='#00b3b3', label='Data')\n"
   ]
  },
  {
   "cell_type": "code",
   "execution_count": 71,
   "metadata": {},
   "outputs": [],
   "source": [
    "fia_pft1 = fia_agb.loc[(fia_2pfts['SPCD'] == 122) | (fia_agb['SPCD'] == 119) | (fia_agb['SPCD'] == 108)]\n",
    "fia_pft4 = fia_agb.loc[(fia_2pfts['SPCD'] == 263) | (fia_agb['SPCD'] == 202)]"
   ]
  },
  {
   "cell_type": "code",
   "execution_count": 72,
   "metadata": {},
   "outputs": [
    {
     "data": {
      "text/plain": [
       "<matplotlib.collections.PathCollection at 0x7fad43d17c90>"
      ]
     },
     "execution_count": 72,
     "metadata": {},
     "output_type": "execute_result"
    },
    {
     "data": {
      "image/png": "[encoded data removed]",
      "text/plain": [
       "<Figure size 432x288 with 1 Axes>"
      ]
     },
     "metadata": {
      "needs_background": "light"
     },
     "output_type": "display_data"
    }
   ],
   "source": [
    "fig = plt.figure()\n",
    "ax = fig.add_axes([0, 0, 1, 1])\n",
    "ax.set_xlabel('dbh')\n",
    "ax.set_ylabel('AGB (gC/m^2)')\n",
    "ax.scatter(fia_pft1['DBH (cm)'], fia_pft1['AGB'], s=40, color='#00b3b3', label='Data')\n",
    "ax.scatter(fia_pft4['DBH (cm)'], fia_pft4['AGB'], s=40, color='#ffa500', label='Data')"
   ]
  },
  {
   "cell_type": "code",
   "execution_count": 73,
   "metadata": {},
   "outputs": [
    {
     "data": {
      "text/html": [
       "<div>\n",
       "<style scoped>\n",
       "    .dataframe tbody tr th:only-of-type {\n",
       "        vertical-align: middle;\n",
       "    }\n",
       "\n",
       "    .dataframe tbody tr th {\n",
       "        vertical-align: top;\n",
       "    }\n",
       "\n",
       "    .dataframe thead th {\n",
       "        text-align: right;\n",
       "    }\n",
       "</style>\n",
       "<table border=\"1\" class=\"dataframe\">\n",
       "  <thead>\n",
       "    <tr style=\"text-align: right;\">\n",
       "      <th></th>\n",
       "      <th>PLT_CN</th>\n",
       "      <th>COUNTYCD</th>\n",
       "      <th>INVYR</th>\n",
       "      <th>CONDID</th>\n",
       "      <th>AZIMUTH</th>\n",
       "      <th>SPCD</th>\n",
       "      <th>SPGRPCD</th>\n",
       "      <th>DIA</th>\n",
       "      <th>HT</th>\n",
       "      <th>CR</th>\n",
       "      <th>...</th>\n",
       "      <th>TPA_UNADJ</th>\n",
       "      <th>DRYBIO_BG</th>\n",
       "      <th>CARBON_AG</th>\n",
       "      <th>CARBON_BG</th>\n",
       "      <th>DRYBIO_AG</th>\n",
       "      <th>SPECIES</th>\n",
       "      <th>HT (m)</th>\n",
       "      <th>DBH (cm)</th>\n",
       "      <th>DBH (m)</th>\n",
       "      <th>AGB</th>\n",
       "    </tr>\n",
       "  </thead>\n",
       "  <tbody>\n",
       "    <tr>\n",
       "      <th>0</th>\n",
       "      <td>3156095010690</td>\n",
       "      <td>9</td>\n",
       "      <td>1991</td>\n",
       "      <td>1</td>\n",
       "      <td>89.0</td>\n",
       "      <td>202</td>\n",
       "      <td>10</td>\n",
       "      <td>10.6</td>\n",
       "      <td>57.0</td>\n",
       "      <td>65.0</td>\n",
       "      <td>...</td>\n",
       "      <td>13.054000</td>\n",
       "      <td>110.124965</td>\n",
       "      <td>240.460065</td>\n",
       "      <td>55.062483</td>\n",
       "      <td>NaN</td>\n",
       "      <td>doug-fir</td>\n",
       "      <td>17.3736</td>\n",
       "      <td>26.924</td>\n",
       "      <td>0.26924</td>\n",
       "      <td>351.830502</td>\n",
       "    </tr>\n",
       "    <tr>\n",
       "      <th>1</th>\n",
       "      <td>3156095010690</td>\n",
       "      <td>9</td>\n",
       "      <td>1991</td>\n",
       "      <td>1</td>\n",
       "      <td>133.0</td>\n",
       "      <td>202</td>\n",
       "      <td>10</td>\n",
       "      <td>6.8</td>\n",
       "      <td>45.0</td>\n",
       "      <td>45.0</td>\n",
       "      <td>...</td>\n",
       "      <td>31.720993</td>\n",
       "      <td>37.630405</td>\n",
       "      <td>80.531243</td>\n",
       "      <td>18.815203</td>\n",
       "      <td>NaN</td>\n",
       "      <td>doug-fir</td>\n",
       "      <td>13.7160</td>\n",
       "      <td>17.272</td>\n",
       "      <td>0.17272</td>\n",
       "      <td>286.324226</td>\n",
       "    </tr>\n",
       "    <tr>\n",
       "      <th>3</th>\n",
       "      <td>3156095010690</td>\n",
       "      <td>9</td>\n",
       "      <td>1991</td>\n",
       "      <td>1</td>\n",
       "      <td>253.0</td>\n",
       "      <td>202</td>\n",
       "      <td>10</td>\n",
       "      <td>20.7</td>\n",
       "      <td>87.0</td>\n",
       "      <td>75.0</td>\n",
       "      <td>...</td>\n",
       "      <td>3.423000</td>\n",
       "      <td>568.025095</td>\n",
       "      <td>1261.636193</td>\n",
       "      <td>284.012548</td>\n",
       "      <td>NaN</td>\n",
       "      <td>doug-fir</td>\n",
       "      <td>26.5176</td>\n",
       "      <td>52.578</td>\n",
       "      <td>0.52578</td>\n",
       "      <td>484.047474</td>\n",
       "    </tr>\n",
       "    <tr>\n",
       "      <th>4</th>\n",
       "      <td>3156095010690</td>\n",
       "      <td>9</td>\n",
       "      <td>1991</td>\n",
       "      <td>1</td>\n",
       "      <td>285.0</td>\n",
       "      <td>202</td>\n",
       "      <td>10</td>\n",
       "      <td>17.3</td>\n",
       "      <td>78.0</td>\n",
       "      <td>75.0</td>\n",
       "      <td>...</td>\n",
       "      <td>4.901000</td>\n",
       "      <td>368.684807</td>\n",
       "      <td>816.035383</td>\n",
       "      <td>184.342404</td>\n",
       "      <td>NaN</td>\n",
       "      <td>doug-fir</td>\n",
       "      <td>23.7744</td>\n",
       "      <td>43.942</td>\n",
       "      <td>0.43942</td>\n",
       "      <td>448.270967</td>\n",
       "    </tr>\n",
       "    <tr>\n",
       "      <th>5</th>\n",
       "      <td>3156095010690</td>\n",
       "      <td>9</td>\n",
       "      <td>1991</td>\n",
       "      <td>1</td>\n",
       "      <td>47.0</td>\n",
       "      <td>202</td>\n",
       "      <td>10</td>\n",
       "      <td>1.4</td>\n",
       "      <td>12.0</td>\n",
       "      <td>25.0</td>\n",
       "      <td>...</td>\n",
       "      <td>60.000000</td>\n",
       "      <td>0.698412</td>\n",
       "      <td>1.129724</td>\n",
       "      <td>0.349206</td>\n",
       "      <td>NaN</td>\n",
       "      <td>doug-fir</td>\n",
       "      <td>3.6576</td>\n",
       "      <td>3.556</td>\n",
       "      <td>0.03556</td>\n",
       "      <td>7.597497</td>\n",
       "    </tr>\n",
       "    <tr>\n",
       "      <th>...</th>\n",
       "      <td>...</td>\n",
       "      <td>...</td>\n",
       "      <td>...</td>\n",
       "      <td>...</td>\n",
       "      <td>...</td>\n",
       "      <td>...</td>\n",
       "      <td>...</td>\n",
       "      <td>...</td>\n",
       "      <td>...</td>\n",
       "      <td>...</td>\n",
       "      <td>...</td>\n",
       "      <td>...</td>\n",
       "      <td>...</td>\n",
       "      <td>...</td>\n",
       "      <td>...</td>\n",
       "      <td>...</td>\n",
       "      <td>...</td>\n",
       "      <td>...</td>\n",
       "      <td>...</td>\n",
       "      <td>...</td>\n",
       "      <td>...</td>\n",
       "    </tr>\n",
       "    <tr>\n",
       "      <th>269937</th>\n",
       "      <td>354845607489998</td>\n",
       "      <td>81</td>\n",
       "      <td>2019</td>\n",
       "      <td>1</td>\n",
       "      <td>305.0</td>\n",
       "      <td>108</td>\n",
       "      <td>21</td>\n",
       "      <td>5.3</td>\n",
       "      <td>30.0</td>\n",
       "      <td>80.0</td>\n",
       "      <td>...</td>\n",
       "      <td>6.018046</td>\n",
       "      <td>11.534544</td>\n",
       "      <td>24.284499</td>\n",
       "      <td>5.767272</td>\n",
       "      <td>48.568998</td>\n",
       "      <td>lodge_pine</td>\n",
       "      <td>9.1440</td>\n",
       "      <td>13.462</td>\n",
       "      <td>0.13462</td>\n",
       "      <td>16.380667</td>\n",
       "    </tr>\n",
       "    <tr>\n",
       "      <th>269938</th>\n",
       "      <td>354845607489998</td>\n",
       "      <td>81</td>\n",
       "      <td>2019</td>\n",
       "      <td>1</td>\n",
       "      <td>356.0</td>\n",
       "      <td>108</td>\n",
       "      <td>21</td>\n",
       "      <td>5.6</td>\n",
       "      <td>20.0</td>\n",
       "      <td>75.0</td>\n",
       "      <td>...</td>\n",
       "      <td>6.018046</td>\n",
       "      <td>8.629705</td>\n",
       "      <td>18.241712</td>\n",
       "      <td>4.314853</td>\n",
       "      <td>36.483424</td>\n",
       "      <td>lodge_pine</td>\n",
       "      <td>6.0960</td>\n",
       "      <td>14.224</td>\n",
       "      <td>0.14224</td>\n",
       "      <td>12.304615</td>\n",
       "    </tr>\n",
       "    <tr>\n",
       "      <th>269939</th>\n",
       "      <td>354845607489998</td>\n",
       "      <td>81</td>\n",
       "      <td>2019</td>\n",
       "      <td>1</td>\n",
       "      <td>186.0</td>\n",
       "      <td>202</td>\n",
       "      <td>10</td>\n",
       "      <td>15.1</td>\n",
       "      <td>47.0</td>\n",
       "      <td>75.0</td>\n",
       "      <td>...</td>\n",
       "      <td>6.018046</td>\n",
       "      <td>163.560614</td>\n",
       "      <td>360.897561</td>\n",
       "      <td>81.780307</td>\n",
       "      <td>721.795121</td>\n",
       "      <td>doug-fir</td>\n",
       "      <td>14.3256</td>\n",
       "      <td>38.354</td>\n",
       "      <td>0.38354</td>\n",
       "      <td>243.436878</td>\n",
       "    </tr>\n",
       "    <tr>\n",
       "      <th>269942</th>\n",
       "      <td>354845607489998</td>\n",
       "      <td>81</td>\n",
       "      <td>2019</td>\n",
       "      <td>1</td>\n",
       "      <td>234.0</td>\n",
       "      <td>108</td>\n",
       "      <td>21</td>\n",
       "      <td>6.2</td>\n",
       "      <td>32.0</td>\n",
       "      <td>75.0</td>\n",
       "      <td>...</td>\n",
       "      <td>6.018046</td>\n",
       "      <td>19.063873</td>\n",
       "      <td>40.572438</td>\n",
       "      <td>9.531937</td>\n",
       "      <td>81.144876</td>\n",
       "      <td>lodge_pine</td>\n",
       "      <td>9.7536</td>\n",
       "      <td>15.748</td>\n",
       "      <td>0.15748</td>\n",
       "      <td>27.367399</td>\n",
       "    </tr>\n",
       "    <tr>\n",
       "      <th>269943</th>\n",
       "      <td>354845607489998</td>\n",
       "      <td>81</td>\n",
       "      <td>2019</td>\n",
       "      <td>1</td>\n",
       "      <td>343.0</td>\n",
       "      <td>108</td>\n",
       "      <td>21</td>\n",
       "      <td>5.3</td>\n",
       "      <td>22.0</td>\n",
       "      <td>90.0</td>\n",
       "      <td>...</td>\n",
       "      <td>6.018046</td>\n",
       "      <td>8.149632</td>\n",
       "      <td>17.158002</td>\n",
       "      <td>4.074816</td>\n",
       "      <td>34.316004</td>\n",
       "      <td>lodge_pine</td>\n",
       "      <td>6.7056</td>\n",
       "      <td>13.462</td>\n",
       "      <td>0.13462</td>\n",
       "      <td>11.573618</td>\n",
       "    </tr>\n",
       "  </tbody>\n",
       "</table>\n",
       "<p>118052 rows × 23 columns</p>\n",
       "</div>"
      ],
      "text/plain": [
       "                 PLT_CN  COUNTYCD  INVYR  CONDID  AZIMUTH  SPCD  SPGRPCD  \\\n",
       "0         3156095010690         9   1991       1     89.0   202       10   \n",
       "1         3156095010690         9   1991       1    133.0   202       10   \n",
       "3         3156095010690         9   1991       1    253.0   202       10   \n",
       "4         3156095010690         9   1991       1    285.0   202       10   \n",
       "5         3156095010690         9   1991       1     47.0   202       10   \n",
       "...                 ...       ...    ...     ...      ...   ...      ...   \n",
       "269937  354845607489998        81   2019       1    305.0   108       21   \n",
       "269938  354845607489998        81   2019       1    356.0   108       21   \n",
       "269939  354845607489998        81   2019       1    186.0   202       10   \n",
       "269942  354845607489998        81   2019       1    234.0   108       21   \n",
       "269943  354845607489998        81   2019       1    343.0   108       21   \n",
       "\n",
       "         DIA    HT    CR  ...  TPA_UNADJ   DRYBIO_BG    CARBON_AG   CARBON_BG  \\\n",
       "0       10.6  57.0  65.0  ...  13.054000  110.124965   240.460065   55.062483   \n",
       "1        6.8  45.0  45.0  ...  31.720993   37.630405    80.531243   18.815203   \n",
       "3       20.7  87.0  75.0  ...   3.423000  568.025095  1261.636193  284.012548   \n",
       "4       17.3  78.0  75.0  ...   4.901000  368.684807   816.035383  184.342404   \n",
       "5        1.4  12.0  25.0  ...  60.000000    0.698412     1.129724    0.349206   \n",
       "...      ...   ...   ...  ...        ...         ...          ...         ...   \n",
       "269937   5.3  30.0  80.0  ...   6.018046   11.534544    24.284499    5.767272   \n",
       "269938   5.6  20.0  75.0  ...   6.018046    8.629705    18.241712    4.314853   \n",
       "269939  15.1  47.0  75.0  ...   6.018046  163.560614   360.897561   81.780307   \n",
       "269942   6.2  32.0  75.0  ...   6.018046   19.063873    40.572438    9.531937   \n",
       "269943   5.3  22.0  90.0  ...   6.018046    8.149632    17.158002    4.074816   \n",
       "\n",
       "         DRYBIO_AG     SPECIES   HT (m)  DBH (cm)  DBH (m)         AGB  \n",
       "0              NaN    doug-fir  17.3736    26.924  0.26924  351.830502  \n",
       "1              NaN    doug-fir  13.7160    17.272  0.17272  286.324226  \n",
       "3              NaN    doug-fir  26.5176    52.578  0.52578  484.047474  \n",
       "4              NaN    doug-fir  23.7744    43.942  0.43942  448.270967  \n",
       "5              NaN    doug-fir   3.6576     3.556  0.03556    7.597497  \n",
       "...            ...         ...      ...       ...      ...         ...  \n",
       "269937   48.568998  lodge_pine   9.1440    13.462  0.13462   16.380667  \n",
       "269938   36.483424  lodge_pine   6.0960    14.224  0.14224   12.304615  \n",
       "269939  721.795121    doug-fir  14.3256    38.354  0.38354  243.436878  \n",
       "269942   81.144876  lodge_pine   9.7536    15.748  0.15748   27.367399  \n",
       "269943   34.316004  lodge_pine   6.7056    13.462  0.13462   11.573618  \n",
       "\n",
       "[118052 rows x 23 columns]"
      ]
     },
     "execution_count": 73,
     "metadata": {},
     "output_type": "execute_result"
    }
   ],
   "source": [
    "fia_agb = fia_agb.dropna(subset=['AGB', 'DBH (cm)'])\n",
    "fia_agb"
   ]
  },
  {
   "cell_type": "code",
   "execution_count": 74,
   "metadata": {},
   "outputs": [
    {
     "name": "stdout",
     "output_type": "stream",
     "text": [
      "[0.89355118 1.36203131]\n",
      "[0.72792586 0.9359454  1.36203084 1.42626814]\n",
      "[4.88700458 1.36206117]\n"
     ]
    },
    {
     "name": "stderr",
     "output_type": "stream",
     "text": [
      "/Users/kathrynmurenbeeld/opt/anaconda3/lib/python3.7/site-packages/ipykernel_launcher.py:35: RuntimeWarning: divide by zero encountered in log\n"
     ]
    },
    {
     "data": {
      "text/plain": [
       "<matplotlib.legend.Legend at 0x7fad43db9b10>"
      ]
     },
     "execution_count": 74,
     "metadata": {},
     "output_type": "execute_result"
    },
    {
     "data": {
      "image/png": "[encoded data removed]",
      "text/plain": [
       "<Figure size 432x288 with 1 Axes>"
      ]
     },
     "metadata": {
      "needs_background": "light"
     },
     "output_type": "display_data"
    }
   ],
   "source": [
    "#fia_agb = fia_2pfts.dropna(subset=['AGB', 'DBH (cm)'])\n",
    "\n",
    "# Define constants for the functions\n",
    "\n",
    "# In d2bagw_sal\n",
    "allom_frac = 0.6 \n",
    "rho = 0.367 # Density of tree from USDA Survey of Tree Density, value for S. Idaho ponderosa pine\n",
    "h_sal_mod = 29 # Observed height at dbh=50 from baad\n",
    "# In d2bagw_pow\n",
    "c2b = 2\n",
    "\n",
    "pars_choj, cov_choj = curve_fit(f=d2bagw_choj, xdata=fia_agb['DBH (cm)'], ydata=fia_agb['AGB'])\n",
    "print(pars_choj)\n",
    "pars_sal, cov_sal = curve_fit(f=d2bagw_sal, xdata=fia_agb['DBH (cm)'], ydata=fia_agb['AGB'])\n",
    "print(pars_sal)\n",
    "pars_pow, cov_pow = curve_fit(f=d2bagw_pow, xdata=fia_agb['DBH (cm)'], ydata=fia_agb['AGB'])\n",
    "print(pars_pow)\n",
    "\n",
    "fig = plt.figure()\n",
    "ax = fig.add_axes([0, 0, 1, 1])\n",
    "ax.set_xlabel('dbh (cm)')\n",
    "ax.set_ylabel('AGB (gC/m^2)')\n",
    "ax.scatter(fia_agb['DBH (cm)'], fia_agb['AGB'], s=40, color='#00b3b3', label='Data')\n",
    "ax.plot(np.arange(140), d2bagw_choj(np.arange(140), *pars_choj), linestyle='-.', linewidth=2, color='black', label=\"Chojnacky\")\n",
    "ax.plot(np.arange(140), d2bagw_sal(np.arange(140), *pars_sal), linestyle='--', linewidth=2, color='orange', label=\"Saldriagga\")\n",
    "ax.plot(np.arange(140), d2bagw_pow(np.arange(140), *pars_pow), linestyle='--', linewidth=2, color='blue', label=\"2-param power\")\n",
    "\n",
    "ax.legend()\n",
    "\n"
   ]
  },
  {
   "cell_type": "code",
   "execution_count": 75,
   "metadata": {},
   "outputs": [],
   "source": [
    "## Something happened to the AGB with the conversion from lbC/tree to gC/m^2. Scewing the parameters. \n",
    "## Maybe mask for dbh>75 & agb <1000?\n",
    "## I think just don't worry about the d2agb parameters."
   ]
  },
  {
   "cell_type": "code",
   "execution_count": 76,
   "metadata": {},
   "outputs": [
    {
     "name": "stdout",
     "output_type": "stream",
     "text": [
      "[-1.53024522  2.15347754]\n",
      "[0.09186371 0.84767401 2.15347752 1.48279119]\n",
      "[0.43296559 2.1534773 ]\n"
     ]
    },
    {
     "name": "stderr",
     "output_type": "stream",
     "text": [
      "/Users/kathrynmurenbeeld/opt/anaconda3/lib/python3.7/site-packages/ipykernel_launcher.py:35: RuntimeWarning: divide by zero encountered in log\n"
     ]
    },
    {
     "data": {
      "text/plain": [
       "<matplotlib.legend.Legend at 0x7fad44eac510>"
      ]
     },
     "execution_count": 76,
     "metadata": {},
     "output_type": "execute_result"
    },
    {
     "data": {
      "image/png": "[encoded data removed]",
      "text/plain": [
       "<Figure size 432x288 with 1 Axes>"
      ]
     },
     "metadata": {
      "needs_background": "light"
     },
     "output_type": "display_data"
    }
   ],
   "source": [
    "fia_cag = fia_2pfts.dropna(subset=['CARBON_AG', 'DBH (cm)'])\n",
    "\n",
    "# Define constants for the functions\n",
    "\n",
    "# In d2bagw_sal\n",
    "allom_frac = 0.6 \n",
    "rho = 0.367 # Density of tree from USDA Survey of Tree Density, value for S. Idaho ponderosa pine\n",
    "h_sal_mod = 29 # Observed height at dbh=50 from baad\n",
    "# In d2bagw_pow\n",
    "c2b = 2\n",
    "\n",
    "pars_choj, cov_choj = curve_fit(f=d2bagw_choj, xdata=fia_cag['DBH (cm)'], ydata=fia_cag['CARBON_AG'])\n",
    "print(pars_choj)\n",
    "pars_sal, cov_sal = curve_fit(f=d2bagw_sal, xdata=fia_cag['DBH (cm)'], ydata=fia_cag['CARBON_AG'])\n",
    "print(pars_sal)\n",
    "pars_pow, cov_pow = curve_fit(f=d2bagw_pow, xdata=fia_cag['DBH (cm)'], ydata=fia_cag['CARBON_AG'])\n",
    "print(pars_pow)\n",
    "\n",
    "fig = plt.figure()\n",
    "ax = fig.add_axes([0, 0, 1, 1])\n",
    "ax.set_xlabel('dbh (cm)')\n",
    "ax.set_ylabel('AGB (lbC/tree)')\n",
    "ax.scatter(fia_cag['DBH (cm)'], fia_cag['CARBON_AG'], s=40, color='#00b3b3', label='Data')\n",
    "ax.plot(np.arange(140), d2bagw_choj(np.arange(140), *pars_choj), linestyle='-.', linewidth=2, color='black', label=\"Chojnacky\")\n",
    "ax.plot(np.arange(140), d2bagw_sal(np.arange(140), *pars_sal), linestyle='--', linewidth=2, color='orange', label=\"Saldriagga\")\n",
    "ax.plot(np.arange(140), d2bagw_pow(np.arange(140), *pars_pow), linestyle='--', linewidth=2, color='blue', label=\"2-param power\")\n",
    "\n",
    "ax.legend()\n",
    "\n"
   ]
  },
  {
   "cell_type": "markdown",
   "metadata": {},
   "source": [
    "### For the d2ca, d2blmax, and d2agb chose a mean and variance and ramdonly sample 100 times. These will be brought over to the SCGSR Trait Matrix"
   ]
  },
  {
   "cell_type": "code",
   "execution_count": 54,
   "metadata": {},
   "outputs": [],
   "source": [
    "# Dbh to project crown area, 2pwr\n",
    "d2ca_p1 = crownarea_pars[0]\n",
    "d2ca_p2 = crownarea_pars[1]\n",
    "# Dbh to leaf area, 2pwr\n",
    "d2la_p1 = leafarea_pars[0]\n",
    "d2la_p2 = leafarea_pars[1]\n",
    "\n",
    "# d2lf_ediff = crown area p2 - leaf area p2\n",
    "crown_exp_diff = crownarea_pars[1] - leafarea_pars[1]\n",
    "\n",
    "# d2leaf mass, carea 2pwr\n",
    "d2blmax_ca_p1 = leafmass_pars[0]\n",
    "d2blmax_ca_p2 = leafmass_pars[1]\n",
    "\n",
    "# Dbh to leaf biomass d2blmax, 2pwr\n",
    "d2blmax_p1 = leafmass_pars2[0]\n",
    "d2blmax_p2 = leafmass_pars2[1] # crown_to_dbh_exp(crownare_exp)\n"
   ]
  },
  {
   "cell_type": "code",
   "execution_count": 55,
   "metadata": {},
   "outputs": [
    {
     "name": "stdout",
     "output_type": "stream",
     "text": [
      "0.11532665455226786 1.750228069756923\n"
     ]
    }
   ],
   "source": [
    "print(d2blmax_p1, d2blmax_p2)"
   ]
  },
  {
   "cell_type": "code",
   "execution_count": 56,
   "metadata": {},
   "outputs": [],
   "source": [
    "# could create a range of p1 and p2, then a for loop to recalculate crown area or leaf \n",
    "# random\n",
    "random.seed(10)\n",
    "\n",
    "d2ca_p1_rand = np.random.normal(loc=d2ca_p1, scale=(d2ca_p1/10), size=100)\n",
    "d2ca_p2_rand = np.random.normal(loc=d2ca_p2, scale=(d2ca_p2/10), size=100)\n"
   ]
  },
  {
   "cell_type": "code",
   "execution_count": 57,
   "metadata": {},
   "outputs": [
    {
     "data": {
      "text/html": [
       "<div>\n",
       "<style scoped>\n",
       "    .dataframe tbody tr th:only-of-type {\n",
       "        vertical-align: middle;\n",
       "    }\n",
       "\n",
       "    .dataframe tbody tr th {\n",
       "        vertical-align: top;\n",
       "    }\n",
       "\n",
       "    .dataframe thead th {\n",
       "        text-align: right;\n",
       "    }\n",
       "</style>\n",
       "<table border=\"1\" class=\"dataframe\">\n",
       "  <thead>\n",
       "    <tr style=\"text-align: right;\">\n",
       "      <th></th>\n",
       "      <th>d2ca_p1</th>\n",
       "      <th>d2ca_p2</th>\n",
       "    </tr>\n",
       "  </thead>\n",
       "  <tbody>\n",
       "    <tr>\n",
       "      <th>0</th>\n",
       "      <td>0.146020</td>\n",
       "      <td>1.646141</td>\n",
       "    </tr>\n",
       "    <tr>\n",
       "      <th>1</th>\n",
       "      <td>0.164010</td>\n",
       "      <td>1.483914</td>\n",
       "    </tr>\n",
       "    <tr>\n",
       "      <th>2</th>\n",
       "      <td>0.143967</td>\n",
       "      <td>1.340856</td>\n",
       "    </tr>\n",
       "    <tr>\n",
       "      <th>3</th>\n",
       "      <td>0.145990</td>\n",
       "      <td>1.364212</td>\n",
       "    </tr>\n",
       "    <tr>\n",
       "      <th>4</th>\n",
       "      <td>0.151795</td>\n",
       "      <td>1.209157</td>\n",
       "    </tr>\n",
       "  </tbody>\n",
       "</table>\n",
       "</div>"
      ],
      "text/plain": [
       "    d2ca_p1   d2ca_p2\n",
       "0  0.146020  1.646141\n",
       "1  0.164010  1.483914\n",
       "2  0.143967  1.340856\n",
       "3  0.145990  1.364212\n",
       "4  0.151795  1.209157"
      ]
     },
     "execution_count": 57,
     "metadata": {},
     "output_type": "execute_result"
    }
   ],
   "source": [
    "d2ca_params = pd.DataFrame({'d2ca_p1': d2ca_p1_rand, 'd2ca_p2': d2ca_p2_rand}, columns = ['d2ca_p1', 'd2ca_p2'])\n",
    "d2ca_params.head()"
   ]
  },
  {
   "cell_type": "code",
   "execution_count": 58,
   "metadata": {},
   "outputs": [],
   "source": [
    "# random\n",
    "random.seed(10)\n",
    "\n",
    "d2la_p1_rand = np.random.normal(loc=d2la_p1, scale=(d2la_p1/10), size=100)\n",
    "d2la_p2_rand = np.random.normal(loc=d2la_p2, scale=(d2la_p2/10), size=100)"
   ]
  },
  {
   "cell_type": "code",
   "execution_count": 59,
   "metadata": {},
   "outputs": [
    {
     "data": {
      "text/html": [
       "<div>\n",
       "<style scoped>\n",
       "    .dataframe tbody tr th:only-of-type {\n",
       "        vertical-align: middle;\n",
       "    }\n",
       "\n",
       "    .dataframe tbody tr th {\n",
       "        vertical-align: top;\n",
       "    }\n",
       "\n",
       "    .dataframe thead th {\n",
       "        text-align: right;\n",
       "    }\n",
       "</style>\n",
       "<table border=\"1\" class=\"dataframe\">\n",
       "  <thead>\n",
       "    <tr style=\"text-align: right;\">\n",
       "      <th></th>\n",
       "      <th>d2la_p1</th>\n",
       "      <th>d2la_p2</th>\n",
       "    </tr>\n",
       "  </thead>\n",
       "  <tbody>\n",
       "    <tr>\n",
       "      <th>0</th>\n",
       "      <td>0.506888</td>\n",
       "      <td>1.628375</td>\n",
       "    </tr>\n",
       "    <tr>\n",
       "      <th>1</th>\n",
       "      <td>0.536731</td>\n",
       "      <td>1.759051</td>\n",
       "    </tr>\n",
       "    <tr>\n",
       "      <th>2</th>\n",
       "      <td>0.503952</td>\n",
       "      <td>1.650838</td>\n",
       "    </tr>\n",
       "    <tr>\n",
       "      <th>3</th>\n",
       "      <td>0.510180</td>\n",
       "      <td>1.877704</td>\n",
       "    </tr>\n",
       "    <tr>\n",
       "      <th>4</th>\n",
       "      <td>0.506071</td>\n",
       "      <td>1.612606</td>\n",
       "    </tr>\n",
       "  </tbody>\n",
       "</table>\n",
       "</div>"
      ],
      "text/plain": [
       "    d2la_p1   d2la_p2\n",
       "0  0.506888  1.628375\n",
       "1  0.536731  1.759051\n",
       "2  0.503952  1.650838\n",
       "3  0.510180  1.877704\n",
       "4  0.506071  1.612606"
      ]
     },
     "execution_count": 59,
     "metadata": {},
     "output_type": "execute_result"
    }
   ],
   "source": [
    "d2la_params = pd.DataFrame({'d2la_p1': d2la_p1_rand, 'd2la_p2': d2la_p2_rand}, columns = ['d2la_p1', 'd2la_p2'])\n",
    "d2la_params.head()"
   ]
  },
  {
   "cell_type": "code",
   "execution_count": 60,
   "metadata": {},
   "outputs": [],
   "source": [
    "# random\n",
    "random.seed(10)\n",
    "\n",
    "d2blmax_ca_p1_rand = np.random.normal(loc=d2blmax_ca_p1, scale=(d2blmax_ca_p1/10), size=100)\n",
    "d2blmax_ca_p2_rand = np.random.normal(loc=d2blmax_ca_p2, scale=(d2blmax_ca_p2/10), size=100)"
   ]
  },
  {
   "cell_type": "code",
   "execution_count": 61,
   "metadata": {},
   "outputs": [
    {
     "data": {
      "text/html": [
       "<div>\n",
       "<style scoped>\n",
       "    .dataframe tbody tr th:only-of-type {\n",
       "        vertical-align: middle;\n",
       "    }\n",
       "\n",
       "    .dataframe tbody tr th {\n",
       "        vertical-align: top;\n",
       "    }\n",
       "\n",
       "    .dataframe thead th {\n",
       "        text-align: right;\n",
       "    }\n",
       "</style>\n",
       "<table border=\"1\" class=\"dataframe\">\n",
       "  <thead>\n",
       "    <tr style=\"text-align: right;\">\n",
       "      <th></th>\n",
       "      <th>d2blmax_ca_p1</th>\n",
       "      <th>d2blmax_ca_p2</th>\n",
       "    </tr>\n",
       "  </thead>\n",
       "  <tbody>\n",
       "    <tr>\n",
       "      <th>0</th>\n",
       "      <td>0.062337</td>\n",
       "      <td>1.568491</td>\n",
       "    </tr>\n",
       "    <tr>\n",
       "      <th>1</th>\n",
       "      <td>0.059238</td>\n",
       "      <td>1.703349</td>\n",
       "    </tr>\n",
       "    <tr>\n",
       "      <th>2</th>\n",
       "      <td>0.067018</td>\n",
       "      <td>1.631133</td>\n",
       "    </tr>\n",
       "    <tr>\n",
       "      <th>3</th>\n",
       "      <td>0.059343</td>\n",
       "      <td>1.804713</td>\n",
       "    </tr>\n",
       "    <tr>\n",
       "      <th>4</th>\n",
       "      <td>0.052983</td>\n",
       "      <td>1.618311</td>\n",
       "    </tr>\n",
       "  </tbody>\n",
       "</table>\n",
       "</div>"
      ],
      "text/plain": [
       "   d2blmax_ca_p1  d2blmax_ca_p2\n",
       "0       0.062337       1.568491\n",
       "1       0.059238       1.703349\n",
       "2       0.067018       1.631133\n",
       "3       0.059343       1.804713\n",
       "4       0.052983       1.618311"
      ]
     },
     "execution_count": 61,
     "metadata": {},
     "output_type": "execute_result"
    }
   ],
   "source": [
    "d2blmax_ca_params = pd.DataFrame({'d2blmax_ca_p1': d2blmax_ca_p1_rand, 'd2blmax_ca_p2': d2blmax_ca_p2_rand}, \n",
    "                                 columns = ['d2blmax_ca_p1', 'd2blmax_ca_p2'])\n",
    "d2blmax_ca_params.head()"
   ]
  },
  {
   "cell_type": "code",
   "execution_count": 62,
   "metadata": {},
   "outputs": [],
   "source": [
    "# random\n",
    "random.seed(10)\n",
    "\n",
    "d2blmax_p1_rand = np.random.normal(loc=d2blmax_p1, scale=(d2blmax_p1/10), size=100)\n",
    "d2blmax_p2_rand = np.random.normal(loc=d2blmax_p2, scale=(d2blmax_p2/10), size=100)"
   ]
  },
  {
   "cell_type": "code",
   "execution_count": 63,
   "metadata": {},
   "outputs": [
    {
     "data": {
      "text/html": [
       "<div>\n",
       "<style scoped>\n",
       "    .dataframe tbody tr th:only-of-type {\n",
       "        vertical-align: middle;\n",
       "    }\n",
       "\n",
       "    .dataframe tbody tr th {\n",
       "        vertical-align: top;\n",
       "    }\n",
       "\n",
       "    .dataframe thead th {\n",
       "        text-align: right;\n",
       "    }\n",
       "</style>\n",
       "<table border=\"1\" class=\"dataframe\">\n",
       "  <thead>\n",
       "    <tr style=\"text-align: right;\">\n",
       "      <th></th>\n",
       "      <th>d2blmax_p1</th>\n",
       "      <th>d2blmax_p2</th>\n",
       "    </tr>\n",
       "  </thead>\n",
       "  <tbody>\n",
       "    <tr>\n",
       "      <th>0</th>\n",
       "      <td>0.115417</td>\n",
       "      <td>1.936345</td>\n",
       "    </tr>\n",
       "    <tr>\n",
       "      <th>1</th>\n",
       "      <td>0.132144</td>\n",
       "      <td>1.522294</td>\n",
       "    </tr>\n",
       "    <tr>\n",
       "      <th>2</th>\n",
       "      <td>0.111854</td>\n",
       "      <td>1.303754</td>\n",
       "    </tr>\n",
       "    <tr>\n",
       "      <th>3</th>\n",
       "      <td>0.113792</td>\n",
       "      <td>1.541028</td>\n",
       "    </tr>\n",
       "    <tr>\n",
       "      <th>4</th>\n",
       "      <td>0.111651</td>\n",
       "      <td>1.891749</td>\n",
       "    </tr>\n",
       "  </tbody>\n",
       "</table>\n",
       "</div>"
      ],
      "text/plain": [
       "   d2blmax_p1  d2blmax_p2\n",
       "0    0.115417    1.936345\n",
       "1    0.132144    1.522294\n",
       "2    0.111854    1.303754\n",
       "3    0.113792    1.541028\n",
       "4    0.111651    1.891749"
      ]
     },
     "execution_count": 63,
     "metadata": {},
     "output_type": "execute_result"
    }
   ],
   "source": [
    "d2blmax_params = pd.DataFrame({'d2blmax_p1': d2blmax_p1_rand, 'd2blmax_p2': d2blmax_p2_rand}, \n",
    "                                 columns = ['d2blmax_p1', 'd2blmax_p2'])\n",
    "d2blmax_params.head()"
   ]
  },
  {
   "cell_type": "markdown",
   "metadata": {},
   "source": [
    "### Calculate crown area from the random parameters"
   ]
  },
  {
   "cell_type": "code",
   "execution_count": 64,
   "metadata": {},
   "outputs": [],
   "source": [
    "# Calc crown area from random params\n",
    "\n",
    "ca_rand_p = []\n",
    "\n",
    "for i in range(100):\n",
    "\n",
    "    test_ca = carea_2pwr(np.arange(0,90,5), d2ca_p1_rand[i], d2ca_p2_rand[i])\n",
    "    ca_rand_p.append(test_ca)\n",
    "\n",
    "ca_opt = carea_2pwr(np.arange(0,90,5), d2ca_p1, d2ca_p2)"
   ]
  },
  {
   "cell_type": "code",
   "execution_count": 65,
   "metadata": {},
   "outputs": [
    {
     "name": "stdout",
     "output_type": "stream",
     "text": [
      "0.16400951909692635 1.483913740070136 [  0.           1.78681771   4.99784514   9.12193628  13.97929733\n",
      "  19.46665992  25.51464798  32.07250207  39.10100218  46.56866839\n",
      "  54.4495116   62.72160496  71.36612685  80.36669239  89.70887048\n",
      "  99.37982494 109.3680416  119.6631165 ]\n"
     ]
    }
   ],
   "source": [
    "print(d2ca_p1_rand[1], d2ca_p2_rand[1], ca_rand_p[1])"
   ]
  },
  {
   "cell_type": "code",
   "execution_count": 66,
   "metadata": {},
   "outputs": [
    {
     "data": {
      "text/plain": [
       "<matplotlib.legend.Legend at 0x7f7f5f503690>"
      ]
     },
     "execution_count": 66,
     "metadata": {},
     "output_type": "execute_result"
    },
    {
     "data": {
      "image/png": "[encoded data removed]",
      "text/plain": [
       "<Figure size 432x288 with 1 Axes>"
      ]
     },
     "metadata": {
      "needs_background": "light"
     },
     "output_type": "display_data"
    }
   ],
   "source": [
    "fig = plt.figure()\n",
    "ax = fig.add_axes([0, 0, 1, 1])\n",
    "ax.set_xlabel('dbh (cm)')\n",
    "ax.set_ylabel('crown_proj (m2)')\n",
    "ax.scatter(baad_acp['DBH (cm)'], baad_acp['a.cp'], s=40, color='#00b3b3', label='Data')\n",
    "ax.scatter(np.arange(0,90,5), ca_opt, s=40, color='red', label='Optimal params')\n",
    "ax.scatter(np.arange(0,90,5), ca_rand_p[7], s=40, color='black', label='random params')\n",
    "for i in range(100):\n",
    "    ax.scatter(np.arange(0,90,5), ca_rand_p[i], s=5, color='black', alpha=0.4)\n",
    "#ax.set_ylim(0,150)\n",
    "plt.legend()"
   ]
  },
  {
   "cell_type": "code",
   "execution_count": 67,
   "metadata": {},
   "outputs": [
    {
     "data": {
      "text/plain": [
       "(array([ 8.,  9., 10., 22., 21., 13., 10.,  3.,  3.,  1.]),\n",
       " array([0.11834626, 0.12619505, 0.13404384, 0.14189263, 0.14974142,\n",
       "        0.15759021, 0.165439  , 0.17328779, 0.18113658, 0.18898537,\n",
       "        0.19683416]),\n",
       " <a list of 10 Patch objects>)"
      ]
     },
     "execution_count": 67,
     "metadata": {},
     "output_type": "execute_result"
    },
    {
     "data": {
      "image/png": "[encoded data removed]",
      "text/plain": [
       "<Figure size 432x288 with 1 Axes>"
      ]
     },
     "metadata": {
      "needs_background": "light"
     },
     "output_type": "display_data"
    }
   ],
   "source": [
    "plt.hist(d2ca_p1_rand)"
   ]
  },
  {
   "cell_type": "code",
   "execution_count": 68,
   "metadata": {},
   "outputs": [
    {
     "data": {
      "text/plain": [
       "(array([ 3.,  4., 12., 18., 20., 16., 14.,  6.,  5.,  2.]),\n",
       " array([1.07148699, 1.13266599, 1.19384499, 1.25502399, 1.31620299,\n",
       "        1.37738199, 1.43856099, 1.49973999, 1.56091899, 1.62209799,\n",
       "        1.68327699]),\n",
       " <a list of 10 Patch objects>)"
      ]
     },
     "execution_count": 68,
     "metadata": {},
     "output_type": "execute_result"
    },
    {
     "data": {
      "image/png": "[encoded data removed]",
      "text/plain": [
       "<Figure size 432x288 with 1 Axes>"
      ]
     },
     "metadata": {
      "needs_background": "light"
     },
     "output_type": "display_data"
    }
   ],
   "source": [
    "plt.hist(d2ca_p2_rand)"
   ]
  },
  {
   "cell_type": "code",
   "execution_count": 72,
   "metadata": {},
   "outputs": [
    {
     "data": {
      "text/plain": [
       "[0, 31]"
      ]
     },
     "execution_count": 72,
     "metadata": {},
     "output_type": "execute_result"
    }
   ],
   "source": [
    "# d2ca_p2 > 1.77 caused problems\n",
    "d2ca_params.index[d2ca_params['d2ca_p2'] >= 1.6].to_list()"
   ]
  },
  {
   "cell_type": "code",
   "execution_count": 80,
   "metadata": {},
   "outputs": [
    {
     "data": {
      "text/plain": [
       "<matplotlib.collections.PathCollection at 0x7f7f63279d10>"
      ]
     },
     "execution_count": 80,
     "metadata": {},
     "output_type": "execute_result"
    },
    {
     "data": {
      "image/png": "[encoded data removed]",
      "text/plain": [
       "<Figure size 432x288 with 1 Axes>"
      ]
     },
     "metadata": {
      "needs_background": "light"
     },
     "output_type": "display_data"
    }
   ],
   "source": [
    "fig = plt.figure()\n",
    "ax = fig.add_axes([0, 0, 1, 1])\n",
    "ax.set_xlabel('dbh (cm)')\n",
    "ax.set_ylabel('crown_proj (m2)')\n",
    "ax.scatter(baad_acp['DBH (cm)'], baad_acp['a.cp'], s=40, color='#00b3b3', label='Data')\n",
    "ax.scatter(np.arange(0,90,5), ca_opt, s=40, color='red', label='Optimal params')\n",
    "ax.scatter(np.arange(0,90,5), ca_rand_p[0], s=4, color='black', label='random params')\n",
    "#ax.scatter(np.arange(0,90,5), ca_rand_p[7], s=4, color='black', label='random params')\n",
    "ax.scatter(np.arange(0,90,5), ca_rand_p[31], s=4, color='black', label='random params')\n",
    "ax.scatter(np.arange(0,90,5), ca_rand_p[37], s=4, color='black', label='random params')\n",
    "ax.scatter(np.arange(0,90,5), ca_rand_p[58], s=4, color='black', label='random params')\n",
    "ax.scatter(np.arange(0,90,5), ca_rand_p[74], s=4, color='black', label='random params')\n",
    "ax.scatter(np.arange(0,90,5), ca_rand_p[92], s=4, color='black', label='random params')\n",
    "\n",
    "\n",
    "#ax.scatter(np.arange(0,90,5), ca_rand_p[72], s=4, color='black', label='random params')\n",
    "#ax.scatter(np.arange(0,90,5), ca_rand_p[83], s=4, color='black', label='random params')\n",
    "#ax.scatter(np.arange(0,90,5), ca_rand_p[85], s=4, color='black', label='random params')\n",
    "#ax.scatter(np.arange(0,90,5), ca_rand_p[95], s=4, color='black', label='random params')"
   ]
  },
  {
   "cell_type": "code",
   "execution_count": 81,
   "metadata": {},
   "outputs": [
    {
     "data": {
      "text/plain": [
       "94"
      ]
     },
     "execution_count": 81,
     "metadata": {},
     "output_type": "execute_result"
    }
   ],
   "source": [
    "# drop the problem values from the dataframe and save to a csv\n",
    "\n",
    "d2ca_params_clean = d2ca_params.drop([d2ca_params.index[0], d2ca_params.index[31],d2ca_params.index[37], \n",
    "                                      d2ca_params.index[58], d2ca_params.index[74], d2ca_params.index[92]])\n",
    "len(d2ca_params_clean)"
   ]
  },
  {
   "cell_type": "code",
   "execution_count": 83,
   "metadata": {},
   "outputs": [],
   "source": [
    "# read out to a csv for use in the traits matrix\n",
    "#d2ca_params_clean.to_csv('/Users/kathrynmurenbeeld/Desktop/Desktop - Kathryn’s MacBook Pro/CLM/FATES/SCGSR_PARAMS/d2ca_params_clean_10spc_20210727.csv', index=False)\n"
   ]
  },
  {
   "cell_type": "markdown",
   "metadata": {},
   "source": [
    "### Calculate leaf area from the random parameters"
   ]
  },
  {
   "cell_type": "code",
   "execution_count": 84,
   "metadata": {},
   "outputs": [],
   "source": [
    "la_rand_p = []\n",
    "\n",
    "for i in range(100):\n",
    "\n",
    "    test_la = carea_2pwr(np.arange(0,90,5), d2la_p1_rand[i], d2la_p2_rand[i])\n",
    "    la_rand_p.append(test_la)\n",
    "\n",
    "la_opt = carea_2pwr(np.arange(0,90,5), d2la_p1, d2la_p2)"
   ]
  },
  {
   "cell_type": "code",
   "execution_count": 85,
   "metadata": {},
   "outputs": [
    {
     "data": {
      "text/plain": [
       "<matplotlib.legend.Legend at 0x7f7f638df9d0>"
      ]
     },
     "execution_count": 85,
     "metadata": {},
     "output_type": "execute_result"
    },
    {
     "data": {
      "image/png": "[encoded data removed]",
      "text/plain": [
       "<Figure size 432x288 with 1 Axes>"
      ]
     },
     "metadata": {
      "needs_background": "light"
     },
     "output_type": "display_data"
    }
   ],
   "source": [
    "fig = plt.figure()\n",
    "ax = fig.add_axes([0, 0, 1, 1])\n",
    "ax.set_xlabel('dbh (cm)')\n",
    "ax.set_ylabel('leaf_area (m2)')\n",
    "ax.scatter(baad_alf['DBH (cm)'], baad_alf['a.lf'], s=40, color='#00b3b3', label='Data')\n",
    "ax.scatter(np.arange(0,90,5), la_opt, s=40, color='red', label='Optimal params')\n",
    "ax.scatter(np.arange(0,90,5), la_rand_p[7], s=5, color='black', alpha=0.4, label='random params')\n",
    "for i in range(100):\n",
    "    ax.scatter(np.arange(0,90,5), la_rand_p[i], s=5, color='black', alpha=0.4)\n",
    "#ax.set_ylim(0,150)\n",
    "plt.legend()"
   ]
  },
  {
   "cell_type": "code",
   "execution_count": 86,
   "metadata": {},
   "outputs": [
    {
     "data": {
      "text/plain": [
       "(array([ 2.,  9., 12., 10., 14., 20., 14., 10.,  4.,  5.]),\n",
       " array([0.38368194, 0.40635388, 0.42902583, 0.45169777, 0.47436971,\n",
       "        0.49704165, 0.51971359, 0.54238553, 0.56505748, 0.58772942,\n",
       "        0.61040136]),\n",
       " <a list of 10 Patch objects>)"
      ]
     },
     "execution_count": 86,
     "metadata": {},
     "output_type": "execute_result"
    },
    {
     "data": {
      "image/png": "[encoded data removed]",
      "text/plain": [
       "<Figure size 432x288 with 1 Axes>"
      ]
     },
     "metadata": {
      "needs_background": "light"
     },
     "output_type": "display_data"
    }
   ],
   "source": [
    "plt.hist(d2la_p1_rand)"
   ]
  },
  {
   "cell_type": "code",
   "execution_count": 87,
   "metadata": {},
   "outputs": [
    {
     "data": {
      "text/plain": [
       "(array([ 5.,  8.,  7., 24., 19., 17.,  7.,  5.,  6.,  2.]),\n",
       " array([1.3645568 , 1.43832666, 1.51209652, 1.58586638, 1.65963624,\n",
       "        1.7334061 , 1.80717596, 1.88094582, 1.95471568, 2.02848554,\n",
       "        2.1022554 ]),\n",
       " <a list of 10 Patch objects>)"
      ]
     },
     "execution_count": 87,
     "metadata": {},
     "output_type": "execute_result"
    },
    {
     "data": {
      "image/png": "[encoded data removed]",
      "text/plain": [
       "<Figure size 432x288 with 1 Axes>"
      ]
     },
     "metadata": {
      "needs_background": "light"
     },
     "output_type": "display_data"
    }
   ],
   "source": [
    "plt.hist(d2la_p2_rand)"
   ]
  },
  {
   "cell_type": "code",
   "execution_count": 88,
   "metadata": {},
   "outputs": [
    {
     "data": {
      "text/plain": [
       "[20, 36, 46, 61, 62, 64, 66, 79, 81, 85]"
      ]
     },
     "execution_count": 88,
     "metadata": {},
     "output_type": "execute_result"
    }
   ],
   "source": [
    "# d2la_p2 > 1.95 caused problems\n",
    "d2la_params.index[d2la_params['d2la_p2'] > 1.90].to_list()"
   ]
  },
  {
   "cell_type": "code",
   "execution_count": 89,
   "metadata": {},
   "outputs": [
    {
     "data": {
      "text/plain": [
       "<matplotlib.collections.PathCollection at 0x7f7f63f0d650>"
      ]
     },
     "execution_count": 89,
     "metadata": {},
     "output_type": "execute_result"
    },
    {
     "data": {
      "image/png": "[encoded data removed]",
      "text/plain": [
       "<Figure size 432x288 with 1 Axes>"
      ]
     },
     "metadata": {
      "needs_background": "light"
     },
     "output_type": "display_data"
    }
   ],
   "source": [
    "fig = plt.figure()\n",
    "ax = fig.add_axes([0, 0, 1, 1])\n",
    "ax.set_xlabel('dbh (cm)')\n",
    "ax.set_ylabel('leaf_area (m2)')\n",
    "ax.scatter(baad_alf['DBH (cm)'], baad_alf['a.lf'], s=40, color='#00b3b3', label='Data')\n",
    "ax.scatter(np.arange(0,90,5), la_opt, s=40, color='red', label='Optimal params')\n",
    "ax.scatter(np.arange(0,90,5), la_rand_p[20], s=5, color='black', alpha=0.4, label='random params')\n",
    "ax.scatter(np.arange(0,90,5), la_rand_p[36], s=5, color='black', alpha=0.4)\n",
    "ax.scatter(np.arange(0,90,5), la_rand_p[46], s=5, color='black', alpha=0.4)\n",
    "ax.scatter(np.arange(0,90,5), la_rand_p[61], s=5, color='black', alpha=0.4)\n",
    "ax.scatter(np.arange(0,90,5), la_rand_p[62], s=5, color='black', alpha=0.4)\n",
    "ax.scatter(np.arange(0,90,5), la_rand_p[64], s=5, color='black', alpha=0.4)\n",
    "ax.scatter(np.arange(0,90,5), la_rand_p[66], s=5, color='black', alpha=0.4)\n",
    "ax.scatter(np.arange(0,90,5), la_rand_p[79], s=5, color='black', alpha=0.4)\n",
    "ax.scatter(np.arange(0,90,5), la_rand_p[81], s=5, color='black', alpha=0.4)\n",
    "ax.scatter(np.arange(0,90,5), la_rand_p[85], s=5, color='black', alpha=0.4)\n",
    "\n",
    "#ax.scatter(np.arange(0,90,5), la_rand_p[85], s=5, color='black', alpha=0.4)\n",
    "#ax.scatter(np.arange(0,90,5), la_rand_p[94], s=5, color='black', alpha=0.4)\n",
    "#ax.scatter(np.arange(0,90,5), la_rand_p[95], s=5, color='black', alpha=0.4)"
   ]
  },
  {
   "cell_type": "code",
   "execution_count": 90,
   "metadata": {},
   "outputs": [
    {
     "data": {
      "text/plain": [
       "90"
      ]
     },
     "execution_count": 90,
     "metadata": {},
     "output_type": "execute_result"
    }
   ],
   "source": [
    "d2la_params_clean = d2la_params.drop([d2la_params.index[20], d2la_params.index[36],d2la_params.index[46], \n",
    "                                      d2la_params.index[61], d2la_params.index[62], d2la_params.index[64],\n",
    "                                           d2la_params.index[66], d2la_params.index[79], d2la_params.index[81],\n",
    "                                        d2la_params.index[85]])\n",
    "\n",
    "\n",
    "len(d2la_params_clean)"
   ]
  },
  {
   "cell_type": "code",
   "execution_count": 92,
   "metadata": {},
   "outputs": [],
   "source": [
    "# read out to a csv for use in the traits matrix\n",
    "#d2la_params_clean.to_csv('/Users/kathrynmurenbeeld/Desktop/Desktop - Kathryn’s MacBook Pro/CLM/FATES/SCGSR_PARAMS/d2la_params_clean_10spc_20210727.csv', index=False)\n"
   ]
  },
  {
   "cell_type": "markdown",
   "metadata": {},
   "source": [
    "### Calculate leaf mass from the random parameters"
   ]
  },
  {
   "cell_type": "code",
   "execution_count": 93,
   "metadata": {},
   "outputs": [],
   "source": [
    "bl_rand_p = []\n",
    "\n",
    "for i in range(100):\n",
    "\n",
    "    test_bl = d2blmax_2pwr(np.arange(0,90,5), d2blmax_p1_rand[i], d2blmax_p2_rand[i])\n",
    "    bl_rand_p.append(test_bl)\n",
    "\n",
    "bl_opt = d2blmax_2pwr(np.arange(0,90,5), d2blmax_p1, d2blmax_p2)"
   ]
  },
  {
   "cell_type": "code",
   "execution_count": 94,
   "metadata": {},
   "outputs": [
    {
     "data": {
      "text/plain": [
       "<matplotlib.legend.Legend at 0x7f7f6409d050>"
      ]
     },
     "execution_count": 94,
     "metadata": {},
     "output_type": "execute_result"
    },
    {
     "data": {
      "image/png": "[encoded data removed]",
      "text/plain": [
       "<Figure size 432x288 with 1 Axes>"
      ]
     },
     "metadata": {
      "needs_background": "light"
     },
     "output_type": "display_data"
    }
   ],
   "source": [
    "fig = plt.figure()\n",
    "ax = fig.add_axes([0, 0, 1, 1])\n",
    "ax.set_xlabel('dbh (cm)')\n",
    "ax.set_ylabel('leaf_area (m2)')\n",
    "ax.scatter(baad_mlf['DBH (cm)'], baad_mlf['m.lf'], s=40, color='#00b3b3', label='Data')\n",
    "ax.scatter(np.arange(0,90,5), bl_opt, s=40, color='red', label='Optimal params')\n",
    "ax.scatter(np.arange(0,90,5), bl_rand_p[7], s=5, color='black', alpha=0.4, label='random params')\n",
    "for i in range(100):\n",
    "    ax.scatter(np.arange(0,90,5), bl_rand_p[i], s=5, color='black', alpha=0.4)\n",
    "#ax.set_ylim(0,150)\n",
    "plt.legend()"
   ]
  },
  {
   "cell_type": "code",
   "execution_count": 95,
   "metadata": {},
   "outputs": [
    {
     "data": {
      "text/plain": [
       "(array([ 1.,  3.,  9., 22., 24., 24.,  9.,  5.,  1.,  2.]),\n",
       " array([0.08558939, 0.09205034, 0.09851129, 0.10497223, 0.11143318,\n",
       "        0.11789413, 0.12435508, 0.13081603, 0.13727697, 0.14373792,\n",
       "        0.15019887]),\n",
       " <a list of 10 Patch objects>)"
      ]
     },
     "execution_count": 95,
     "metadata": {},
     "output_type": "execute_result"
    },
    {
     "data": {
      "image/png": "[encoded data removed]",
      "text/plain": [
       "<Figure size 432x288 with 1 Axes>"
      ]
     },
     "metadata": {
      "needs_background": "light"
     },
     "output_type": "display_data"
    }
   ],
   "source": [
    "plt.hist(d2blmax_p1_rand)"
   ]
  },
  {
   "cell_type": "code",
   "execution_count": 96,
   "metadata": {},
   "outputs": [
    {
     "data": {
      "text/plain": [
       "(array([ 3.,  3., 15., 19., 18., 16., 15.,  4.,  2.,  5.]),\n",
       " array([1.3037544 , 1.395976  , 1.48819759, 1.58041919, 1.67264078,\n",
       "        1.76486238, 1.85708397, 1.94930557, 2.04152716, 2.13374876,\n",
       "        2.22597035]),\n",
       " <a list of 10 Patch objects>)"
      ]
     },
     "execution_count": 96,
     "metadata": {},
     "output_type": "execute_result"
    },
    {
     "data": {
      "image/png": "[encoded data removed]",
      "text/plain": [
       "<Figure size 432x288 with 1 Axes>"
      ]
     },
     "metadata": {
      "needs_background": "light"
     },
     "output_type": "display_data"
    }
   ],
   "source": [
    "plt.hist(d2blmax_p2_rand)"
   ]
  },
  {
   "cell_type": "code",
   "execution_count": 104,
   "metadata": {},
   "outputs": [
    {
     "data": {
      "text/plain": [
       "[8, 25, 27, 41, 75, 76, 78, 83, 98]"
      ]
     },
     "execution_count": 104,
     "metadata": {},
     "output_type": "execute_result"
    }
   ],
   "source": [
    "# d2blmax_p2 > 2. caused problems\n",
    "d2blmax_params.index[d2blmax_params['d2blmax_p2'] > 2.].to_list()"
   ]
  },
  {
   "cell_type": "code",
   "execution_count": 106,
   "metadata": {},
   "outputs": [
    {
     "data": {
      "text/plain": [
       "<matplotlib.collections.PathCollection at 0x7f7f64bdf790>"
      ]
     },
     "execution_count": 106,
     "metadata": {},
     "output_type": "execute_result"
    },
    {
     "data": {
      "image/png": "[encoded data removed]",
      "text/plain": [
       "<Figure size 432x288 with 1 Axes>"
      ]
     },
     "metadata": {
      "needs_background": "light"
     },
     "output_type": "display_data"
    }
   ],
   "source": [
    "fig = plt.figure()\n",
    "ax = fig.add_axes([0, 0, 1, 1])\n",
    "ax.set_xlabel('dbh (cm)')\n",
    "ax.set_ylabel('leaf_mass (kg)')\n",
    "ax.scatter(baad_mlf['DBH (cm)'], baad_mlf['m.lf'], s=40, color='#00b3b3', label='Data')\n",
    "ax.scatter(np.arange(0,90,5), bl_opt, s=40, color='red', label='Optimal params')\n",
    "ax.scatter(np.arange(0,90,5), bl_rand_p[76], s=5, color='black', alpha=0.4, label='random params')\n",
    "ax.scatter(np.arange(0,90,5), bl_rand_p[83], s=5, color='black', alpha=0.4)\n",
    "ax.scatter(np.arange(0,90,5), bl_rand_p[8], s=5, color='black', alpha=0.4)\n",
    "ax.scatter(np.arange(0,90,5), bl_rand_p[41], s=5, color='black', alpha=0.4)\n",
    "ax.scatter(np.arange(0,90,5), bl_rand_p[75], s=5, color='black', alpha=0.4)\n",
    "#ax.scatter(np.arange(0,90,5), bl_rand_p[76], s=5, color='black', alpha=0.4)\n",
    "ax.scatter(np.arange(0,90,5), bl_rand_p[78], s=5, color='black', alpha=0.4)\n",
    "ax.scatter(np.arange(0,90,5), bl_rand_p[98], s=5, color='black', alpha=0.4)\n",
    "ax.scatter(np.arange(0,90,5), bl_rand_p[83], s=5, color='black', alpha=0.4)"
   ]
  },
  {
   "cell_type": "code",
   "execution_count": 107,
   "metadata": {},
   "outputs": [
    {
     "data": {
      "text/plain": [
       "93"
      ]
     },
     "execution_count": 107,
     "metadata": {},
     "output_type": "execute_result"
    }
   ],
   "source": [
    "d2blmax_params_clean = d2blmax_params.drop([d2blmax_params.index[8], d2blmax_params.index[41],d2blmax_params.index[75], \n",
    "                                      d2blmax_params.index[76], d2blmax_params.index[78], d2blmax_params.index[83],\n",
    "                                           d2blmax_params.index[98]])\n",
    "\n",
    "\n",
    "len(d2blmax_params_clean)\n"
   ]
  },
  {
   "cell_type": "code",
   "execution_count": 108,
   "metadata": {},
   "outputs": [],
   "source": [
    "# read out to a csv for use in the traits matrix\n",
    "d2blmax_params_clean.to_csv('/Users/kathrynmurenbeeld/Desktop/Desktop - Kathryn’s MacBook Pro/CLM/FATES/SCGSR_PARAMS/d2blmax_params_clean_10spc_20210727.csv', index=False)\n"
   ]
  },
  {
   "cell_type": "code",
   "execution_count": null,
   "metadata": {},
   "outputs": [],
   "source": []
  }
 ],
 "metadata": {
  "kernelspec": {
   "display_name": "Python 3",
   "language": "python",
   "name": "python3"
  },
  "language_info": {
   "codemirror_mode": {
    "name": "ipython",
    "version": 3
   },
   "file_extension": ".py",
   "mimetype": "text/x-python",
   "name": "python",
   "nbconvert_exporter": "python",
   "pygments_lexer": "ipython3",
   "version": "3.7.6"
  }
 },
 "nbformat": 4,
 "nbformat_minor": 2
}
