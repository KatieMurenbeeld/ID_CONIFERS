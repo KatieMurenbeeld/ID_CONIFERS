{
 "cells": [
  {
   "cell_type": "markdown",
   "metadata": {},
   "source": [
    "### Code for Optimizing FATES Allometric Functions\n",
    "\n",
    "#### Author: Katie Murenbeeld\n",
    "#### Date: 19 July 2021"
   ]
  },
  {
   "cell_type": "markdown",
   "metadata": {},
   "source": [
    "### 1. Load Libraries\n"
   ]
  },
  {
   "cell_type": "code",
   "execution_count": 1,
   "metadata": {},
   "outputs": [],
   "source": [
    "# Load appropriate libraries\n",
    "import xarray as xr\n",
    "import random\n",
    "import numpy as np\n",
    "import pandas as pd\n",
    "import scipy as sp\n",
    "import math as m\n",
    "from scipy import optimize\n",
    "from scipy.optimize import curve_fit\n",
    "import matplotlib.pyplot as plt"
   ]
  },
  {
   "cell_type": "markdown",
   "metadata": {},
   "source": [
    "### 2. Define allometric functions that FATES currently uses"
   ]
  },
  {
   "cell_type": "code",
   "execution_count": 2,
   "metadata": {},
   "outputs": [],
   "source": [
    "def d2h_chave2014(d,p1,p2,p3):\n",
    "    h = np.exp( p1 + p2*np.log(d) + p3*np.log(d)**2.0)\n",
    "    return(h)\n",
    "\n",
    "def d2h_poorter2006(d,p1,p2,p3):\n",
    "    h = p1*(1.0 - np.exp(p2*d**p3))\n",
    "    return(h)\n",
    "\n",
    "def d2h_2pwr(d,p1,p2):\n",
    "    h = p1*d**p2\n",
    "    return(h)\n",
    "\n",
    "def d2h_obrien(d,p1,p2):\n",
    "    h = 10.0**(np.log10(d)*p1+p2)\n",
    "    return(h)\n",
    "\n",
    "def d2h_martcano(d,p1,p2,p3):\n",
    "    h = (p1*d**p2)/(p3+d**p2)\n",
    "    return(h)\n",
    "\n",
    "def carea_2pwr(d, p1, p2):\n",
    "    c = p1 * d ** p2\n",
    "    return(c)\n",
    "\n",
    "def d2blmax_salda(d,p1,p2,p3,rho):\n",
    "    blmax = p1 * d**p2 * rho**p3\n",
    "    return(blmax)\n",
    "\n",
    "def d2blmax_2pwr(d,p1,p2):\n",
    "    c2b = 2.0\n",
    "    blmax    = (p1*d**p2) / c2b\n",
    "    return(blmax)\n",
    "\n",
    "def d2bagw_choj(dbh,p1,p2):\n",
    "    ln_agb = p1+(p2*np.log(dbh))\n",
    "    agb_choj = np.exp(ln_agb)\n",
    "    return agb_choj\n",
    "\n",
    "def d2bagw_sal(dbh,p1,p2,p3,p4):\n",
    "    agb_sal = allom_frac * p1 * (h_sal_mod**p2) * (dbh**p3) * (rho**p4)\n",
    "    return agb_sal\n",
    "\n",
    "def d2bagw_pow(dbh,p1,p2):\n",
    "    agb_pow = (p1*np.power(dbh,p2))/c2b\n",
    "    return agb_pow"
   ]
  },
  {
   "cell_type": "markdown",
   "metadata": {},
   "source": [
    "### 3) Load data\n",
    "\n",
    "Here we are using data from:\n",
    "\n",
    "1. Falster et al., 2011 A Biomass and Allometry Database (BAAD)\n",
    "2. USDA Forest Inventory Analysis (FIA) for Idaho\n",
    "3. USDA Height and diameter at breast height (dbh) data from the Boise Basin Experimental Forest (BBEF)\n",
    "\n",
    "We subset the data for Idaho or the western US. We are looking at common conifer species of Idaho. These include:\n",
    "\n",
    "* Ponderosa pine (*Pinus ponderosa*)\n",
    "* Lodgepole pine (*Pinus contorta*)\n",
    "* Western white pine (*Pinus monticola*)\n",
    "* Douglas-fir (*Pseudotsuga menziesii*)\n",
    "* Western hemlock (*Tsuga heterophylla*)\n",
    "* Western red cedar (*Thuja plicata*)\n",
    "* Western larch (*Larix occidentalis*)\n",
    "* Grand fir (*Abies grandis*)\n",
    "* Subalpine fir (*Abies lasiocarpa*)\n",
    "* Engelmann spruce (*Picea engelmanni*)\n",
    "\n",
    "For now, I am looking at the pines, which will comprise for PFT1, and Douglas-fir and W. hemlock which will comprise PFT4."
   ]
  },
  {
   "cell_type": "code",
   "execution_count": 3,
   "metadata": {},
   "outputs": [],
   "source": [
    "# Set the directories\n",
    "baad_dir = '/Users/kathrynmurenbeeld/Desktop/Desktop - Kathryn’s MacBook Pro/CLM/FATES/baad_downloads/baad_data/'\n",
    "baad_dir_out = '/Users/kathrynmurenbeeld/Desktop/Desktop - Kathryn’s MacBook Pro/CLM/FATES/baad_downloads/baad_data_out/'\n",
    "bbef_dir = '/Users/kathrynmurenbeeld/Desktop/Desktop - Kathryn’s MacBook Pro/BBEF/DATA/'\n",
    "bbef_dir_out = '/Users/kathrynmurenbeeld/Desktop/Desktop - Kathryn’s MacBook Pro/BBEF/DATA/'\n",
    "fia_dir = '/Users/kathrynmurenbeeld/Desktop/Desktop - Kathryn’s MacBook Pro/CLM/Benchmarking_Sensitivity/FIA/FIA_ID/'\n",
    "fia_dir_out = '/Users/kathrynmurenbeeld/Desktop/Desktop - Kathryn’s MacBook Pro/CLM/Benchmarking_Sensitivity/FIA/FIA_ID_OUT/'"
   ]
  },
  {
   "cell_type": "code",
   "execution_count": 4,
   "metadata": {},
   "outputs": [
    {
     "name": "stderr",
     "output_type": "stream",
     "text": [
      "/Users/kathrynmurenbeeld/opt/anaconda3/lib/python3.7/site-packages/IPython/core/interactiveshell.py:3063: DtypeWarning: Columns (102) have mixed types.Specify dtype option on import or set low_memory=False.\n",
      "  interactivity=interactivity, compiler=compiler, result=result)\n"
     ]
    }
   ],
   "source": [
    "# Read in the BAAD data\n",
    "baad_df = pd.read_csv(baad_dir + 'baad_data_2.csv').reset_index() \n",
    "baad_df = baad_df[['species', 'location', 'h.t', 'd.bh', 'a.lf', 'a.cp', 'm.lf', 'ma.ilf', 'n.lf', 'm.so']].copy()\n",
    "\n",
    "# Read in the BBEF data\n",
    "bbef_df = pd.read_csv(bbef_dir + 'BBEF-all-trees-height_DBH_calcs.csv')\n",
    "\n",
    "# Read in the FIA Idaho census data\n",
    "fia_df = pd.read_csv(fia_dir + 'ID_TREE.csv')\n",
    "fia_df = fia_df[['PLT_CN', 'COUNTYCD', 'INVYR', 'CONDID', 'AZIMUTH', 'SPCD', 'SPGRPCD', \n",
    "                       'DIA', 'HT', 'CR', 'CDENCD', 'BHAGE', 'FGROWCFGS', 'TPA_UNADJ',  \n",
    "                       'DRYBIO_BG', 'CARBON_AG', 'CARBON_BG', 'DRYBIO_AG']].copy()"
   ]
  },
  {
   "cell_type": "code",
   "execution_count": 5,
   "metadata": {},
   "outputs": [
    {
     "data": {
      "text/html": [
       "<div>\n",
       "<style scoped>\n",
       "    .dataframe tbody tr th:only-of-type {\n",
       "        vertical-align: middle;\n",
       "    }\n",
       "\n",
       "    .dataframe tbody tr th {\n",
       "        vertical-align: top;\n",
       "    }\n",
       "\n",
       "    .dataframe thead th {\n",
       "        text-align: right;\n",
       "    }\n",
       "</style>\n",
       "<table border=\"1\" class=\"dataframe\">\n",
       "  <thead>\n",
       "    <tr style=\"text-align: right;\">\n",
       "      <th></th>\n",
       "      <th>PLT_CN</th>\n",
       "      <th>COUNTYCD</th>\n",
       "      <th>INVYR</th>\n",
       "      <th>CONDID</th>\n",
       "      <th>AZIMUTH</th>\n",
       "      <th>SPCD</th>\n",
       "      <th>SPGRPCD</th>\n",
       "      <th>DIA</th>\n",
       "      <th>HT</th>\n",
       "      <th>CR</th>\n",
       "      <th>CDENCD</th>\n",
       "      <th>BHAGE</th>\n",
       "      <th>FGROWCFGS</th>\n",
       "      <th>TPA_UNADJ</th>\n",
       "      <th>DRYBIO_BG</th>\n",
       "      <th>CARBON_AG</th>\n",
       "      <th>CARBON_BG</th>\n",
       "      <th>DRYBIO_AG</th>\n",
       "      <th>SPECIES</th>\n",
       "    </tr>\n",
       "  </thead>\n",
       "  <tbody>\n",
       "    <tr>\n",
       "      <th>0</th>\n",
       "      <td>3156095010690</td>\n",
       "      <td>9</td>\n",
       "      <td>1991</td>\n",
       "      <td>1</td>\n",
       "      <td>89.0</td>\n",
       "      <td>202</td>\n",
       "      <td>10</td>\n",
       "      <td>10.6</td>\n",
       "      <td>57.0</td>\n",
       "      <td>65.0</td>\n",
       "      <td>NaN</td>\n",
       "      <td>28.0</td>\n",
       "      <td>0.643645</td>\n",
       "      <td>13.054000</td>\n",
       "      <td>110.124965</td>\n",
       "      <td>240.460065</td>\n",
       "      <td>55.062483</td>\n",
       "      <td>NaN</td>\n",
       "      <td>doug-fir</td>\n",
       "    </tr>\n",
       "    <tr>\n",
       "      <th>1</th>\n",
       "      <td>3156095010690</td>\n",
       "      <td>9</td>\n",
       "      <td>1991</td>\n",
       "      <td>1</td>\n",
       "      <td>133.0</td>\n",
       "      <td>202</td>\n",
       "      <td>10</td>\n",
       "      <td>6.8</td>\n",
       "      <td>45.0</td>\n",
       "      <td>45.0</td>\n",
       "      <td>NaN</td>\n",
       "      <td>32.0</td>\n",
       "      <td>0.260028</td>\n",
       "      <td>31.720993</td>\n",
       "      <td>37.630405</td>\n",
       "      <td>80.531243</td>\n",
       "      <td>18.815203</td>\n",
       "      <td>NaN</td>\n",
       "      <td>doug-fir</td>\n",
       "    </tr>\n",
       "  </tbody>\n",
       "</table>\n",
       "</div>"
      ],
      "text/plain": [
       "          PLT_CN  COUNTYCD  INVYR  CONDID  AZIMUTH  SPCD  SPGRPCD   DIA    HT  \\\n",
       "0  3156095010690         9   1991       1     89.0   202       10  10.6  57.0   \n",
       "1  3156095010690         9   1991       1    133.0   202       10   6.8  45.0   \n",
       "\n",
       "     CR  CDENCD  BHAGE  FGROWCFGS  TPA_UNADJ   DRYBIO_BG   CARBON_AG  \\\n",
       "0  65.0     NaN   28.0   0.643645  13.054000  110.124965  240.460065   \n",
       "1  45.0     NaN   32.0   0.260028  31.720993   37.630405   80.531243   \n",
       "\n",
       "   CARBON_BG  DRYBIO_AG   SPECIES  \n",
       "0  55.062483        NaN  doug-fir  \n",
       "1  18.815203        NaN  doug-fir  "
      ]
     },
     "execution_count": 5,
     "metadata": {},
     "output_type": "execute_result"
    }
   ],
   "source": [
    "# For the FIA data rename the species of interest\n",
    "\n",
    "conditions = [\n",
    "        (fia_df['SPCD'] == 202), # Douglas fir\n",
    "        (fia_df['SPCD'] == 242), # Western red cedar\n",
    "        (fia_df['SPCD'] == 19),  # Subalpine fir\n",
    "        (fia_df['SPCD'] == 119), # Western white pine\n",
    "        (fia_df['SPCD'] == 17),  # Grand fir\n",
    "        (fia_df['SPCD'] == 73),  # Western larch\n",
    "        (fia_df['SPCD'] == 122), # Ponderosa pine\n",
    "        (fia_df['SPCD'] == 263), # Western hemlock\n",
    "        (fia_df['SPCD'] == 108), # Lodgepole pine\n",
    "        (fia_df['SPCD'] == 93),  # Engleman spruce\n",
    "    ]\n",
    "choices = ['doug-fir', 'w_redcedar', 'subap_fir', 'ww_pine', 'grand_fir', 'w_larch', 'pondo_pine', 'w_hem', 'lodge_pine', 'engle_spruce']\n",
    "    \n",
    "fia_df['SPECIES'] = np.select(conditions, choices, default='none')\n",
    "\n",
    "fia_df.head(2)\n",
    "\n"
   ]
  },
  {
   "cell_type": "code",
   "execution_count": 6,
   "metadata": {},
   "outputs": [],
   "source": [
    "# For each dataset sort out for the 10 conifer species of interest for the SCGSR work. Scratch that. \n",
    "# Just the species for PFT1 ( 3 pine species) and PFT 4 (W. Hemlock and Douglas Fir).\n",
    "\n",
    "baad_2pfts = baad_df.loc[(baad_df['species'] == 'Pinus ponderosa') | (baad_df['species'] == 'Pinus monticola') | (baad_df['species'] == 'Pinus contorta') | (baad_df['species'] == 'Tsuga heterophylla') | (baad_df['species'] == 'Pseudotsuga menziesii')].copy()\n",
    "\n",
    "bbef_2pfts = bbef_df.loc[(bbef_df['Species'] == 'Ponderosa pine') | (bbef_df['Species'] == 'Lodgepole pine') | (bbef_df['Species'] == 'Douglas fir') | (bbef_df['Species'] == 'Douglas fir') | (bbef_df['Species'] == 'Douglas fir')].copy()\n",
    "\n",
    "fia_2pfts = fia_df.loc[(fia_df['SPECIES'] == 'pondo_pine') | (fia_df['SPECIES'] == 'lodge_pine') | (fia_df['SPECIES'] == 'ww_pine') | (fia_df['SPECIES'] == 'doug-fir') | (fia_df['SPECIES'] == 'w_hem')].copy()\n",
    "\n"
   ]
  },
  {
   "cell_type": "code",
   "execution_count": 7,
   "metadata": {},
   "outputs": [
    {
     "data": {
      "text/html": [
       "<div>\n",
       "<style scoped>\n",
       "    .dataframe tbody tr th:only-of-type {\n",
       "        vertical-align: middle;\n",
       "    }\n",
       "\n",
       "    .dataframe tbody tr th {\n",
       "        vertical-align: top;\n",
       "    }\n",
       "\n",
       "    .dataframe thead th {\n",
       "        text-align: right;\n",
       "    }\n",
       "</style>\n",
       "<table border=\"1\" class=\"dataframe\">\n",
       "  <thead>\n",
       "    <tr style=\"text-align: right;\">\n",
       "      <th></th>\n",
       "      <th>BBEF Study-name</th>\n",
       "      <th>Year</th>\n",
       "      <th>Plot ID</th>\n",
       "      <th>Tree ID</th>\n",
       "      <th>Species</th>\n",
       "      <th>DBH (inches)</th>\n",
       "      <th>Height (feet)</th>\n",
       "      <th>DBH (cm)</th>\n",
       "      <th>H (m)</th>\n",
       "      <th>AGB</th>\n",
       "      <th>Unnamed: 10</th>\n",
       "      <th>Unnamed: 11</th>\n",
       "      <th>param 1</th>\n",
       "      <th>param 2</th>\n",
       "    </tr>\n",
       "  </thead>\n",
       "  <tbody>\n",
       "    <tr>\n",
       "      <th>0</th>\n",
       "      <td>Amber Fuels</td>\n",
       "      <td>2013</td>\n",
       "      <td>451</td>\n",
       "      <td>1</td>\n",
       "      <td>Ponderosa pine</td>\n",
       "      <td>31.600000</td>\n",
       "      <td>127.0</td>\n",
       "      <td>80.264000</td>\n",
       "      <td>38.7096</td>\n",
       "      <td>7.961826</td>\n",
       "      <td>NaN</td>\n",
       "      <td>pines</td>\n",
       "      <td>-2.6177</td>\n",
       "      <td>2.4638</td>\n",
       "    </tr>\n",
       "    <tr>\n",
       "      <th>1</th>\n",
       "      <td>Amber Fuels</td>\n",
       "      <td>2013</td>\n",
       "      <td>451</td>\n",
       "      <td>2</td>\n",
       "      <td>Ponderosa pine</td>\n",
       "      <td>20.700001</td>\n",
       "      <td>102.0</td>\n",
       "      <td>52.578003</td>\n",
       "      <td>31.0896</td>\n",
       "      <td>5.063293</td>\n",
       "      <td>NaN</td>\n",
       "      <td>Doug fir</td>\n",
       "      <td>-2.4623</td>\n",
       "      <td>2.4852</td>\n",
       "    </tr>\n",
       "    <tr>\n",
       "      <th>2</th>\n",
       "      <td>Amber Fuels</td>\n",
       "      <td>2013</td>\n",
       "      <td>452</td>\n",
       "      <td>1</td>\n",
       "      <td>Ponderosa pine</td>\n",
       "      <td>19.000000</td>\n",
       "      <td>79.0</td>\n",
       "      <td>48.260000</td>\n",
       "      <td>24.0792</td>\n",
       "      <td>4.619666</td>\n",
       "      <td>NaN</td>\n",
       "      <td>firs</td>\n",
       "      <td>-3.1774</td>\n",
       "      <td>2.6426</td>\n",
       "    </tr>\n",
       "    <tr>\n",
       "      <th>3</th>\n",
       "      <td>Amber Fuels</td>\n",
       "      <td>2013</td>\n",
       "      <td>452</td>\n",
       "      <td>2</td>\n",
       "      <td>Ponderosa pine</td>\n",
       "      <td>16.900000</td>\n",
       "      <td>76.0</td>\n",
       "      <td>42.926000</td>\n",
       "      <td>23.1648</td>\n",
       "      <td>4.075513</td>\n",
       "      <td>NaN</td>\n",
       "      <td>NaN</td>\n",
       "      <td>NaN</td>\n",
       "      <td>NaN</td>\n",
       "    </tr>\n",
       "    <tr>\n",
       "      <th>4</th>\n",
       "      <td>Amber Fuels</td>\n",
       "      <td>2013</td>\n",
       "      <td>452</td>\n",
       "      <td>3</td>\n",
       "      <td>Ponderosa pine</td>\n",
       "      <td>44.900002</td>\n",
       "      <td>115.0</td>\n",
       "      <td>114.046005</td>\n",
       "      <td>35.0520</td>\n",
       "      <td>11.594535</td>\n",
       "      <td>NaN</td>\n",
       "      <td>NaN</td>\n",
       "      <td>NaN</td>\n",
       "      <td>NaN</td>\n",
       "    </tr>\n",
       "    <tr>\n",
       "      <th>...</th>\n",
       "      <td>...</td>\n",
       "      <td>...</td>\n",
       "      <td>...</td>\n",
       "      <td>...</td>\n",
       "      <td>...</td>\n",
       "      <td>...</td>\n",
       "      <td>...</td>\n",
       "      <td>...</td>\n",
       "      <td>...</td>\n",
       "      <td>...</td>\n",
       "      <td>...</td>\n",
       "      <td>...</td>\n",
       "      <td>...</td>\n",
       "      <td>...</td>\n",
       "    </tr>\n",
       "    <tr>\n",
       "      <th>5518</th>\n",
       "      <td>Watershed</td>\n",
       "      <td>2005</td>\n",
       "      <td>99</td>\n",
       "      <td>993</td>\n",
       "      <td>Douglas fir</td>\n",
       "      <td>6.600000</td>\n",
       "      <td>51.0</td>\n",
       "      <td>16.764000</td>\n",
       "      <td>15.5448</td>\n",
       "      <td>1.786973</td>\n",
       "      <td>NaN</td>\n",
       "      <td>NaN</td>\n",
       "      <td>NaN</td>\n",
       "      <td>NaN</td>\n",
       "    </tr>\n",
       "    <tr>\n",
       "      <th>5519</th>\n",
       "      <td>Watershed</td>\n",
       "      <td>2005</td>\n",
       "      <td>99</td>\n",
       "      <td>994</td>\n",
       "      <td>Douglas fir</td>\n",
       "      <td>6.900000</td>\n",
       "      <td>52.0</td>\n",
       "      <td>17.526000</td>\n",
       "      <td>15.8496</td>\n",
       "      <td>1.874797</td>\n",
       "      <td>NaN</td>\n",
       "      <td>NaN</td>\n",
       "      <td>NaN</td>\n",
       "      <td>NaN</td>\n",
       "    </tr>\n",
       "    <tr>\n",
       "      <th>5520</th>\n",
       "      <td>Watershed</td>\n",
       "      <td>2005</td>\n",
       "      <td>99</td>\n",
       "      <td>9990</td>\n",
       "      <td>Ponderosa pine</td>\n",
       "      <td>23.900000</td>\n",
       "      <td>96.0</td>\n",
       "      <td>60.705999</td>\n",
       "      <td>29.2608</td>\n",
       "      <td>5.905157</td>\n",
       "      <td>NaN</td>\n",
       "      <td>NaN</td>\n",
       "      <td>NaN</td>\n",
       "      <td>NaN</td>\n",
       "    </tr>\n",
       "    <tr>\n",
       "      <th>5521</th>\n",
       "      <td>Watershed</td>\n",
       "      <td>2005</td>\n",
       "      <td>99</td>\n",
       "      <td>9991</td>\n",
       "      <td>Ponderosa pine</td>\n",
       "      <td>32.500000</td>\n",
       "      <td>113.0</td>\n",
       "      <td>82.550000</td>\n",
       "      <td>34.4424</td>\n",
       "      <td>8.204703</td>\n",
       "      <td>NaN</td>\n",
       "      <td>NaN</td>\n",
       "      <td>NaN</td>\n",
       "      <td>NaN</td>\n",
       "    </tr>\n",
       "    <tr>\n",
       "      <th>5522</th>\n",
       "      <td>Watershed</td>\n",
       "      <td>2005</td>\n",
       "      <td>99</td>\n",
       "      <td>9992</td>\n",
       "      <td>Ponderosa pine</td>\n",
       "      <td>32.400002</td>\n",
       "      <td>122.0</td>\n",
       "      <td>82.296004</td>\n",
       "      <td>37.1856</td>\n",
       "      <td>8.177694</td>\n",
       "      <td>NaN</td>\n",
       "      <td>NaN</td>\n",
       "      <td>NaN</td>\n",
       "      <td>NaN</td>\n",
       "    </tr>\n",
       "  </tbody>\n",
       "</table>\n",
       "<p>5497 rows × 14 columns</p>\n",
       "</div>"
      ],
      "text/plain": [
       "     BBEF Study-name  Year Plot ID  Tree ID         Species  DBH (inches)  \\\n",
       "0        Amber Fuels  2013     451        1  Ponderosa pine     31.600000   \n",
       "1        Amber Fuels  2013     451        2  Ponderosa pine     20.700001   \n",
       "2        Amber Fuels  2013     452        1  Ponderosa pine     19.000000   \n",
       "3        Amber Fuels  2013     452        2  Ponderosa pine     16.900000   \n",
       "4        Amber Fuels  2013     452        3  Ponderosa pine     44.900002   \n",
       "...              ...   ...     ...      ...             ...           ...   \n",
       "5518       Watershed  2005      99      993     Douglas fir      6.600000   \n",
       "5519       Watershed  2005      99      994     Douglas fir      6.900000   \n",
       "5520       Watershed  2005      99     9990  Ponderosa pine     23.900000   \n",
       "5521       Watershed  2005      99     9991  Ponderosa pine     32.500000   \n",
       "5522       Watershed  2005      99     9992  Ponderosa pine     32.400002   \n",
       "\n",
       "      Height (feet)    DBH (cm)    H (m)       AGB   Unnamed: 10 Unnamed: 11  \\\n",
       "0             127.0   80.264000  38.7096   7.961826          NaN       pines   \n",
       "1             102.0   52.578003  31.0896   5.063293          NaN    Doug fir   \n",
       "2              79.0   48.260000  24.0792   4.619666          NaN        firs   \n",
       "3              76.0   42.926000  23.1648   4.075513          NaN         NaN   \n",
       "4             115.0  114.046005  35.0520  11.594535          NaN         NaN   \n",
       "...             ...         ...      ...        ...          ...         ...   \n",
       "5518           51.0   16.764000  15.5448   1.786973          NaN         NaN   \n",
       "5519           52.0   17.526000  15.8496   1.874797          NaN         NaN   \n",
       "5520           96.0   60.705999  29.2608   5.905157          NaN         NaN   \n",
       "5521          113.0   82.550000  34.4424   8.204703          NaN         NaN   \n",
       "5522          122.0   82.296004  37.1856   8.177694          NaN         NaN   \n",
       "\n",
       "      param 1  param 2  \n",
       "0     -2.6177   2.4638  \n",
       "1     -2.4623   2.4852  \n",
       "2     -3.1774   2.6426  \n",
       "3         NaN      NaN  \n",
       "4         NaN      NaN  \n",
       "...       ...      ...  \n",
       "5518      NaN      NaN  \n",
       "5519      NaN      NaN  \n",
       "5520      NaN      NaN  \n",
       "5521      NaN      NaN  \n",
       "5522      NaN      NaN  \n",
       "\n",
       "[5497 rows x 14 columns]"
      ]
     },
     "execution_count": 7,
     "metadata": {},
     "output_type": "execute_result"
    }
   ],
   "source": [
    "bbef_2pfts"
   ]
  },
  {
   "cell_type": "code",
   "execution_count": 8,
   "metadata": {},
   "outputs": [],
   "source": [
    "# Clean up and convert USDA FS data to metric \n",
    "baad_2pfts['DBH (cm)'] = baad_2pfts['d.bh']*100\n",
    "\n",
    "bbef_2pfts['DBH (m)'] = bbef_2pfts['DBH (cm)']/100\n",
    "bbef_2pfts = bbef_2pfts.drop(columns = ['Unnamed: 10', 'Unnamed: 11', 'param 1', 'param 2'])\n",
    "\n",
    "fia_2pfts['HT (m)'] = fia_2pfts['HT'] * 0.3048\n",
    "fia_2pfts['DBH (cm)'] = fia_2pfts['DIA'] * 2.54\n",
    "fia_2pfts['DBH (m)'] = fia_2pfts['DIA'] * 0.0254"
   ]
  },
  {
   "cell_type": "code",
   "execution_count": 9,
   "metadata": {},
   "outputs": [
    {
     "data": {
      "text/html": [
       "<div>\n",
       "<style scoped>\n",
       "    .dataframe tbody tr th:only-of-type {\n",
       "        vertical-align: middle;\n",
       "    }\n",
       "\n",
       "    .dataframe tbody tr th {\n",
       "        vertical-align: top;\n",
       "    }\n",
       "\n",
       "    .dataframe thead th {\n",
       "        text-align: right;\n",
       "    }\n",
       "</style>\n",
       "<table border=\"1\" class=\"dataframe\">\n",
       "  <thead>\n",
       "    <tr style=\"text-align: right;\">\n",
       "      <th></th>\n",
       "      <th>species</th>\n",
       "      <th>location</th>\n",
       "      <th>h.t</th>\n",
       "      <th>d.bh</th>\n",
       "      <th>a.lf</th>\n",
       "      <th>a.cp</th>\n",
       "      <th>m.lf</th>\n",
       "      <th>ma.ilf</th>\n",
       "      <th>n.lf</th>\n",
       "      <th>m.so</th>\n",
       "      <th>DBH (cm)</th>\n",
       "    </tr>\n",
       "  </thead>\n",
       "  <tbody>\n",
       "    <tr>\n",
       "      <th>3428</th>\n",
       "      <td>Pinus ponderosa</td>\n",
       "      <td>northern Rocky Mountains U.S.A.</td>\n",
       "      <td>0.70104</td>\n",
       "      <td>NaN</td>\n",
       "      <td>NaN</td>\n",
       "      <td>0.186793</td>\n",
       "      <td>0.084007</td>\n",
       "      <td>NaN</td>\n",
       "      <td>NaN</td>\n",
       "      <td>NaN</td>\n",
       "      <td>NaN</td>\n",
       "    </tr>\n",
       "    <tr>\n",
       "      <th>3433</th>\n",
       "      <td>Pinus monticola</td>\n",
       "      <td>northern Rocky Mountains U.S.A.</td>\n",
       "      <td>0.85344</td>\n",
       "      <td>NaN</td>\n",
       "      <td>NaN</td>\n",
       "      <td>0.385989</td>\n",
       "      <td>0.078019</td>\n",
       "      <td>NaN</td>\n",
       "      <td>NaN</td>\n",
       "      <td>NaN</td>\n",
       "      <td>NaN</td>\n",
       "    </tr>\n",
       "  </tbody>\n",
       "</table>\n",
       "</div>"
      ],
      "text/plain": [
       "              species                         location      h.t  d.bh  a.lf  \\\n",
       "3428  Pinus ponderosa  northern Rocky Mountains U.S.A.  0.70104   NaN   NaN   \n",
       "3433  Pinus monticola  northern Rocky Mountains U.S.A.  0.85344   NaN   NaN   \n",
       "\n",
       "          a.cp      m.lf  ma.ilf  n.lf  m.so  DBH (cm)  \n",
       "3428  0.186793  0.084007     NaN   NaN   NaN       NaN  \n",
       "3433  0.385989  0.078019     NaN   NaN   NaN       NaN  "
      ]
     },
     "execution_count": 9,
     "metadata": {},
     "output_type": "execute_result"
    }
   ],
   "source": [
    "baad_2pfts.head(2)\n",
    "#bbef_2pfts"
   ]
  },
  {
   "cell_type": "code",
   "execution_count": 10,
   "metadata": {},
   "outputs": [
    {
     "name": "stdout",
     "output_type": "stream",
     "text": [
      "max =  location\n",
      "Coast Range  Oregon, USA                                                                     48.190000\n",
      "Coast Range  Roseburg Oregon, USA                                                             6.380000\n",
      "Coastal Range Corvallis  Oregon, USA                                                          2.197000\n",
      "Elk Creek                                                                                    26.300000\n",
      "Gavin Lake                                                                                    5.040000\n",
      "Ostrander Road, Kelso, WA, USA                                                               15.080000\n",
      "Pilchuck Bridge, WA, USA                                                                     20.400000\n",
      "Priest River Experimental Forest                                                             44.989998\n",
      "Pringle Butte and Lookout Mountain                                                           13.700000\n",
      "Robertson Main                                                                               24.250000\n",
      "central Oregon, USA                                                                          20.150000\n",
      "eastern side of the Oregon Cascade Range, USA on a private forestland (Crown Pacific Co.)    35.750000\n",
      "northern Rocky Mountains U.S.A.                                                              44.013120\n",
      "western Montana, USA                                                                         22.070000\n",
      "Name: h.t, dtype: float64 \n",
      "min =  location\n",
      "Coast Range  Oregon, USA                                                                     38.06000\n",
      "Coast Range  Roseburg Oregon, USA                                                             4.35000\n",
      "Coastal Range Corvallis  Oregon, USA                                                          0.76000\n",
      "Elk Creek                                                                                    19.42000\n",
      "Gavin Lake                                                                                    0.39000\n",
      "Ostrander Road, Kelso, WA, USA                                                               12.15000\n",
      "Pilchuck Bridge, WA, USA                                                                     14.33000\n",
      "Priest River Experimental Forest                                                              3.57000\n",
      "Pringle Butte and Lookout Mountain                                                            2.11000\n",
      "Robertson Main                                                                               14.43000\n",
      "central Oregon, USA                                                                           1.66000\n",
      "eastern side of the Oregon Cascade Range, USA on a private forestland (Crown Pacific Co.)     2.99614\n",
      "northern Rocky Mountains U.S.A.                                                               0.70104\n",
      "western Montana, USA                                                                          1.75000\n",
      "Name: h.t, dtype: float64\n"
     ]
    }
   ],
   "source": [
    "# Review the max and min height by location (BAAD only)\n",
    "print(\"max = \", baad_2pfts.groupby('location')['h.t'].max(), \"\\nmin = \", baad_2pfts.groupby('location')['h.t'].min())\n"
   ]
  },
  {
   "cell_type": "code",
   "execution_count": 11,
   "metadata": {},
   "outputs": [
    {
     "name": "stdout",
     "output_type": "stream",
     "text": [
      "mean\n",
      " location\n",
      "Coast Range  Oregon, USA                                                                     43.669167\n",
      "Coast Range  Roseburg Oregon, USA                                                             5.563333\n",
      "Coastal Range Corvallis  Oregon, USA                                                          1.727650\n",
      "Elk Creek                                                                                    23.059167\n",
      "Gavin Lake                                                                                    1.804070\n",
      "Ostrander Road, Kelso, WA, USA                                                               13.376667\n",
      "Pilchuck Bridge, WA, USA                                                                     17.466250\n",
      "Priest River Experimental Forest                                                             27.480488\n",
      "Pringle Butte and Lookout Mountain                                                            9.044694\n",
      "Robertson Main                                                                               19.275000\n",
      "central Oregon, USA                                                                           7.442581\n",
      "eastern side of the Oregon Cascade Range, USA on a private forestland (Crown Pacific Co.)    18.044303\n",
      "northern Rocky Mountains U.S.A.                                                               8.610924\n",
      "western Montana, USA                                                                          8.865385\n",
      "Name: h.t, dtype: float64\n"
     ]
    }
   ],
   "source": [
    "# Review the mean height by location (BAAD only)\n",
    "print(\"mean\\n\", baad_2pfts.groupby('location')['h.t'].mean())\n"
   ]
  },
  {
   "cell_type": "code",
   "execution_count": 12,
   "metadata": {},
   "outputs": [
    {
     "name": "stdout",
     "output_type": "stream",
     "text": [
      "BAAD\n",
      " count    554.000000\n",
      "mean       9.457290\n",
      "std       11.004398\n",
      "min        0.390000\n",
      "25%        1.768750\n",
      "50%        4.420040\n",
      "75%       12.832500\n",
      "max       48.190000\n",
      "Name: h.t, dtype: float64 \n",
      "BBEF count    5497.000000\n",
      "mean       16.466325\n",
      "std         9.849402\n",
      "min         0.304800\n",
      "25%         8.991600\n",
      "50%        15.910560\n",
      "75%        22.981920\n",
      "max       269.443200\n",
      "Name: H (m), dtype: float64 \n",
      "FIA count    123117.000000\n",
      "mean         55.950267\n",
      "std          24.666293\n",
      "min           1.000000\n",
      "25%          39.000000\n",
      "50%          54.000000\n",
      "75%          71.000000\n",
      "max         200.000000\n",
      "Name: HT, dtype: float64\n"
     ]
    }
   ],
   "source": [
    "# Review basic stats on height\n",
    "print(\"BAAD\\n\", baad_2pfts['h.t'].describe(), \"\\nBBEF\", bbef_2pfts['H (m)'].describe(), \"\\nFIA\", fia_2pfts['HT'].describe())\n",
    "\n",
    "# There is no way there is a 269 m tall tree at BBEF\n"
   ]
  },
  {
   "cell_type": "code",
   "execution_count": 13,
   "metadata": {},
   "outputs": [
    {
     "data": {
      "text/plain": [
       "count    5496.000000\n",
       "mean       16.420296\n",
       "std         9.240118\n",
       "min         0.304800\n",
       "25%         8.991600\n",
       "50%        15.910560\n",
       "75%        22.981920\n",
       "max        48.158400\n",
       "Name: H (m), dtype: float64"
      ]
     },
     "execution_count": 13,
     "metadata": {},
     "output_type": "execute_result"
    }
   ],
   "source": [
    "# Drop the index with the max height (269.4432m) from the bbef_2pfts\n",
    "\n",
    "indx = bbef_2pfts[ (bbef_2pfts['H (m)'] == bbef_2pfts['H (m)'].max())].index\n",
    "bbef_2pfts.drop(indx, inplace=True)\n",
    "\n",
    "bbef_2pfts['H (m)'].describe()"
   ]
  },
  {
   "cell_type": "code",
   "execution_count": 14,
   "metadata": {},
   "outputs": [
    {
     "data": {
      "text/plain": [
       "Int64Index([998], dtype='int64')"
      ]
     },
     "execution_count": 14,
     "metadata": {},
     "output_type": "execute_result"
    }
   ],
   "source": [
    "indx"
   ]
  },
  {
   "cell_type": "code",
   "execution_count": 15,
   "metadata": {},
   "outputs": [
    {
     "name": "stdout",
     "output_type": "stream",
     "text": [
      "BAAD\n",
      " count    365.000000\n",
      "mean       0.209651\n",
      "std        0.193406\n",
      "min        0.002540\n",
      "25%        0.071120\n",
      "50%        0.150121\n",
      "75%        0.274320\n",
      "max        0.863600\n",
      "Name: d.bh, dtype: float64 \n",
      "BBEF count    5496.000000\n",
      "mean        0.270919\n",
      "std         0.203308\n",
      "min         0.002540\n",
      "25%         0.132080\n",
      "50%         0.223520\n",
      "75%         0.355600\n",
      "max         2.870200\n",
      "Name: DBH (m), dtype: float64 \n",
      "FIA count    123117.000000\n",
      "mean          0.265688\n",
      "std           0.167102\n",
      "min           0.025400\n",
      "25%           0.157480\n",
      "50%           0.220980\n",
      "75%           0.327660\n",
      "max           1.747520\n",
      "Name: DBH (m), dtype: float64\n"
     ]
    }
   ],
   "source": [
    "# Review basic stats on dbh\n",
    "print(\"BAAD\\n\", baad_2pfts['d.bh'].describe(), \"\\nBBEF\", bbef_2pfts['DBH (m)'].describe(), \"\\nFIA\", fia_2pfts['DBH (m)'].describe())\n",
    "\n"
   ]
  },
  {
   "cell_type": "code",
   "execution_count": 16,
   "metadata": {},
   "outputs": [
    {
     "data": {
      "text/html": [
       "<div>\n",
       "<style scoped>\n",
       "    .dataframe tbody tr th:only-of-type {\n",
       "        vertical-align: middle;\n",
       "    }\n",
       "\n",
       "    .dataframe tbody tr th {\n",
       "        vertical-align: top;\n",
       "    }\n",
       "\n",
       "    .dataframe thead th {\n",
       "        text-align: right;\n",
       "    }\n",
       "</style>\n",
       "<table border=\"1\" class=\"dataframe\">\n",
       "  <thead>\n",
       "    <tr style=\"text-align: right;\">\n",
       "      <th></th>\n",
       "      <th>DBH(m)</th>\n",
       "      <th>H(m)</th>\n",
       "      <th>DBH(cm)</th>\n",
       "    </tr>\n",
       "  </thead>\n",
       "  <tbody>\n",
       "    <tr>\n",
       "      <th>0</th>\n",
       "      <td>NaN</td>\n",
       "      <td>0.70104</td>\n",
       "      <td>NaN</td>\n",
       "    </tr>\n",
       "    <tr>\n",
       "      <th>1</th>\n",
       "      <td>NaN</td>\n",
       "      <td>0.85344</td>\n",
       "      <td>NaN</td>\n",
       "    </tr>\n",
       "    <tr>\n",
       "      <th>2</th>\n",
       "      <td>NaN</td>\n",
       "      <td>0.85344</td>\n",
       "      <td>NaN</td>\n",
       "    </tr>\n",
       "    <tr>\n",
       "      <th>3</th>\n",
       "      <td>NaN</td>\n",
       "      <td>0.85344</td>\n",
       "      <td>NaN</td>\n",
       "    </tr>\n",
       "    <tr>\n",
       "      <th>4</th>\n",
       "      <td>NaN</td>\n",
       "      <td>1.06680</td>\n",
       "      <td>NaN</td>\n",
       "    </tr>\n",
       "    <tr>\n",
       "      <th>...</th>\n",
       "      <td>...</td>\n",
       "      <td>...</td>\n",
       "      <td>...</td>\n",
       "    </tr>\n",
       "    <tr>\n",
       "      <th>135374</th>\n",
       "      <td>0.14224</td>\n",
       "      <td>6.09600</td>\n",
       "      <td>14.224</td>\n",
       "    </tr>\n",
       "    <tr>\n",
       "      <th>135375</th>\n",
       "      <td>0.38354</td>\n",
       "      <td>14.32560</td>\n",
       "      <td>38.354</td>\n",
       "    </tr>\n",
       "    <tr>\n",
       "      <th>135376</th>\n",
       "      <td>NaN</td>\n",
       "      <td>NaN</td>\n",
       "      <td>NaN</td>\n",
       "    </tr>\n",
       "    <tr>\n",
       "      <th>135377</th>\n",
       "      <td>0.15748</td>\n",
       "      <td>9.75360</td>\n",
       "      <td>15.748</td>\n",
       "    </tr>\n",
       "    <tr>\n",
       "      <th>135378</th>\n",
       "      <td>0.13462</td>\n",
       "      <td>6.70560</td>\n",
       "      <td>13.462</td>\n",
       "    </tr>\n",
       "  </tbody>\n",
       "</table>\n",
       "<p>135379 rows × 3 columns</p>\n",
       "</div>"
      ],
      "text/plain": [
       "         DBH(m)      H(m)  DBH(cm)\n",
       "0           NaN   0.70104      NaN\n",
       "1           NaN   0.85344      NaN\n",
       "2           NaN   0.85344      NaN\n",
       "3           NaN   0.85344      NaN\n",
       "4           NaN   1.06680      NaN\n",
       "...         ...       ...      ...\n",
       "135374  0.14224   6.09600   14.224\n",
       "135375  0.38354  14.32560   38.354\n",
       "135376      NaN       NaN      NaN\n",
       "135377  0.15748   9.75360   15.748\n",
       "135378  0.13462   6.70560   13.462\n",
       "\n",
       "[135379 rows x 3 columns]"
      ]
     },
     "execution_count": 16,
     "metadata": {},
     "output_type": "execute_result"
    }
   ],
   "source": [
    "# Combine all of the DBH and H datasets into one dataframe\n",
    "TOT_DBH = pd.concat([baad_2pfts['d.bh'], bbef_2pfts['DBH (m)'], fia_2pfts['DBH (m)']], axis=0, ignore_index=True)\n",
    "TOT_H = pd.concat([baad_2pfts['h.t'], bbef_2pfts['H (m)'], fia_2pfts['HT (m)']], axis=0, ignore_index=True)\n",
    "\n",
    "TOT = pd.concat([pd.DataFrame(TOT_DBH, columns=['DBH(m)']), pd.DataFrame(TOT_H, columns=['H(m)'])], axis=1)\n",
    "TOT['DBH(cm)'] = TOT['DBH(m)'] * 100\n",
    "TOT"
   ]
  },
  {
   "cell_type": "code",
   "execution_count": 17,
   "metadata": {},
   "outputs": [],
   "source": [
    "# Find the mean height for specified ranges of DBH. \n",
    "# Here for a dbh of 10cm I took the measurements from 5-15cm to represent 10cm dbh. \n",
    "# Repeat the process up to 90cm.\n",
    "# These values will be used to calculate parameters from the allometric equations (this acutally may not be necessary)\n",
    "\n",
    "# Set dbh_mod to the ranges of dbh needed for calculation. In this case I want an array from 10-90 in steps of 10.\n",
    "dbh_mod = np.arange(10, 100, 10) \n",
    "\n",
    "baad_mean_h = []\n",
    "\n",
    "for i in dbh_mod:\n",
    "    mask =  (baad_2pfts['d.bh']>= ((i/100) - 0.05)) & (baad_2pfts['d.bh']<((i/100) + 0.05))\n",
    "    tmp_ = baad_2pfts.loc[mask].copy()\n",
    "    stats = tmp_['h.t'].mean()\n",
    "    baad_mean_h.append(stats)\n",
    "    \n",
    "bbef_mean_h = []\n",
    "\n",
    "for i in dbh_mod:\n",
    "    mask =  (bbef_2pfts['DBH (m)']>= ((i/100) - 0.05)) & (bbef_2pfts['DBH (m)']<((i/100) + 0.05))\n",
    "    tmp_ = bbef_2pfts.loc[mask].copy()\n",
    "    stats = tmp_['H (m)'].mean()\n",
    "    bbef_mean_h.append(stats)\n",
    "\n",
    "fia_mean_h = []\n",
    "\n",
    "for i in dbh_mod:\n",
    "    mask =  (fia_2pfts['DBH (m)']>= ((i/100) - 0.05)) & (fia_2pfts['DBH (m)']<((i/100) + 0.05))\n",
    "    tmp_ = fia_2pfts.loc[mask].copy()\n",
    "    stats = tmp_['HT (m)'].mean()\n",
    "    fia_mean_h.append(stats)\n",
    "    \n",
    "tot_mean_h = []\n",
    "\n",
    "for i in dbh_mod:\n",
    "    mask =  (TOT['DBH(m)']>= ((i/100) - 0.05)) & (TOT['DBH(m)']<((i/100) + 0.05))\n",
    "    tot_ = TOT.loc[mask].copy()\n",
    "    stats = tot_['H(m)'].mean()\n",
    "    tot_mean_h.append(stats)"
   ]
  },
  {
   "cell_type": "markdown",
   "metadata": {},
   "source": [
    "### 3) Fit parameters for the allometric functions using curve_fit()\n"
   ]
  },
  {
   "cell_type": "code",
   "execution_count": 18,
   "metadata": {},
   "outputs": [],
   "source": [
    "## Create a vector or dataframe with the height and dbh values for each of the three datasets and for the combined \n",
    "## (TOT) dataset\n",
    "\n",
    "BBEF_DBH = bbef_2pfts['DBH (cm)'].values\n",
    "BAAD_DBH = baad_2pfts['DBH (cm)'].values\n",
    "FIA_DBH = fia_2pfts['DBH (cm)'].values\n",
    "TOT_DBH = TOT['DBH(cm)'].values\n",
    "\n",
    "BBEF_H = bbef_2pfts['H (m)'].values\n",
    "BAAD_H = baad_2pfts['h.t'].values\n",
    "FIA_H = fia_2pfts['HT (m)'].values\n",
    "TOT_H = TOT['H(m)'].values\n",
    "\n",
    "BAAD_Hobs = baad_mean_h\n",
    "BBEF_Hobs = bbef_mean_h\n",
    "FIA_Hobs = fia_mean_h\n",
    "TOT_Hobs = tot_mean_h\n"
   ]
  },
  {
   "cell_type": "code",
   "execution_count": 19,
   "metadata": {},
   "outputs": [],
   "source": [
    "# If you would like you can define an objective/cost function for the d2h function. In this case RMSE.\n",
    "# Then I want to create an objective function. I will use RMSE\n",
    "\n",
    "def d2h_error(dbh,Hobs,p1,p2):\n",
    "    h = 10**((np.log10(dbh))*p1+p2)\n",
    "    RMSE = np.sqrt(np.mean((h-Hobs)**2)) # best to use numpy\n",
    "    return RMSE"
   ]
  },
  {
   "cell_type": "code",
   "execution_count": 20,
   "metadata": {},
   "outputs": [
    {
     "name": "stdout",
     "output_type": "stream",
     "text": [
      "0.520829753919819\n"
     ]
    }
   ],
   "source": [
    "RMSE = d2h_error(10,6.24,0.65,0.18)\n",
    "print(RMSE)"
   ]
  },
  {
   "cell_type": "markdown",
   "metadata": {},
   "source": [
    "### 3.1) For the d2h allometries fit the data to all of the functions. Then just the datasets to the O'Brien function.\n",
    "\n",
    "We will also randomly sample and optimize the parameters to get a distribution of p1 and p2 for the O'Brien equation."
   ]
  },
  {
   "cell_type": "code",
   "execution_count": 21,
   "metadata": {},
   "outputs": [
    {
     "name": "stdout",
     "output_type": "stream",
     "text": [
      "[0.55351031 0.46426406]\n",
      "[33.83788175 -0.03459321  0.95645277]\n",
      "[2.91250036 0.55350904]\n",
      "[-0.58613253  1.53484833 -0.1416356 ]\n",
      "[41.27875582  1.11514326 47.02661292]\n"
     ]
    },
    {
     "name": "stderr",
     "output_type": "stream",
     "text": [
      "/Users/kathrynmurenbeeld/opt/anaconda3/lib/python3.7/site-packages/ipykernel_launcher.py:14: RuntimeWarning: divide by zero encountered in log10\n",
      "  \n",
      "/Users/kathrynmurenbeeld/opt/anaconda3/lib/python3.7/site-packages/ipykernel_launcher.py:2: RuntimeWarning: divide by zero encountered in log\n",
      "  \n"
     ]
    },
    {
     "data": {
      "text/plain": [
       "<matplotlib.legend.Legend at 0x7fad3cf4ed10>"
      ]
     },
     "execution_count": 21,
     "metadata": {},
     "output_type": "execute_result"
    },
    {
     "data": {
      "image/png": "[encoded data removed]",
      "text/plain": [
       "<Figure size 432x288 with 1 Axes>"
      ]
     },
     "metadata": {
      "needs_background": "light"
     },
     "output_type": "display_data"
    }
   ],
   "source": [
    "TOT_na = TOT.dropna(subset = ['DBH(cm)', 'H(m)']).copy()\n",
    "\n",
    "pars_obrien, cov_obrien = curve_fit(f=d2h_obrien, xdata=TOT_na['DBH(cm)'].dropna(), ydata=TOT_na['H(m)'].dropna())\n",
    "print(pars_obrien)\n",
    "pars_poorter2006, cov_poorter2006 = curve_fit(f=d2h_poorter2006, xdata=TOT_na['DBH(cm)'].dropna(), ydata=TOT_na['H(m)'].dropna(), p0=[10,-0.01,1])\n",
    "print(pars_poorter2006)\n",
    "pars_2pwr, cov_2pwr = curve_fit(f=d2h_2pwr, xdata=TOT_na['DBH(cm)'].dropna(), ydata=TOT_na['H(m)'].dropna())\n",
    "print(pars_2pwr)\n",
    "pars_chave2014, cov_chave2014 = curve_fit(f=d2h_chave2014, xdata=TOT_na['DBH(cm)'].dropna(), ydata=TOT_na['H(m)'].dropna())\n",
    "print(pars_chave2014)\n",
    "pars_martcano, cov_martcano = curve_fit(f=d2h_martcano, xdata=TOT_na['DBH(cm)'].dropna(), ydata=TOT_na['H(m)'].dropna(), p0=[10,1,100])\n",
    "print(pars_martcano)\n",
    "fig = plt.figure()\n",
    "ax = fig.add_axes([0, 0, 1, 1])\n",
    "ax.set_xlabel('dbh')\n",
    "ax.set_ylabel('height')\n",
    "ax.scatter(TOT['DBH(cm)'], TOT['H(m)'], s=40, color='#00b3b3', label='Data')\n",
    "ax.plot(np.arange(140), d2h_obrien(np.arange(140), *pars_obrien), linestyle='-.', linewidth=2, color='black', label=\"O'Brien\")\n",
    "ax.plot(np.arange(140), d2h_poorter2006(np.arange(140), *pars_poorter2006), linestyle='--', linewidth=2, color='orange', label=\"Poorter\")\n",
    "ax.plot(np.arange(140), d2h_2pwr(np.arange(140), *pars_2pwr), linestyle='--', linewidth=2, color='blue', label=\"2-param power\")\n",
    "ax.plot(np.arange(140), d2h_chave2014(np.arange(140), *pars_chave2014), linestyle='--', linewidth=2, color='purple', label=\"Chave\")\n",
    "\n",
    "ax.plot(np.arange(140), d2h_martcano(np.arange(140), *pars_martcano), linestyle='--', linewidth=2, color='red', label=\"Martinez-Cano\")\n",
    "ax.set_xlim(0,140)\n",
    "ax.legend()"
   ]
  },
  {
   "cell_type": "code",
   "execution_count": 22,
   "metadata": {},
   "outputs": [
    {
     "name": "stdout",
     "output_type": "stream",
     "text": [
      "[0.84276166 0.0412515 ]\n",
      "[0.63029409 0.34579944]\n",
      "[0.54789134 0.47262309]\n"
     ]
    },
    {
     "name": "stderr",
     "output_type": "stream",
     "text": [
      "/Users/kathrynmurenbeeld/opt/anaconda3/lib/python3.7/site-packages/ipykernel_launcher.py:14: RuntimeWarning: divide by zero encountered in log10\n",
      "  \n",
      "/Users/kathrynmurenbeeld/opt/anaconda3/lib/python3.7/site-packages/ipykernel_launcher.py:14: RuntimeWarning: divide by zero encountered in log10\n",
      "  \n",
      "/Users/kathrynmurenbeeld/opt/anaconda3/lib/python3.7/site-packages/ipykernel_launcher.py:14: RuntimeWarning: divide by zero encountered in log10\n",
      "  \n"
     ]
    },
    {
     "data": {
      "text/plain": [
       "<matplotlib.legend.Legend at 0x7fad418d6210>"
      ]
     },
     "execution_count": 22,
     "metadata": {},
     "output_type": "execute_result"
    },
    {
     "data": {
      "image/png": "[encoded data removed]",
      "text/plain": [
       "<Figure size 432x288 with 1 Axes>"
      ]
     },
     "metadata": {
      "needs_background": "light"
     },
     "output_type": "display_data"
    }
   ],
   "source": [
    "# Just using the O'Brien equation. Create optimal parameters for each of the three datasets.\n",
    "\n",
    "baad_df2 = baad_2pfts.dropna(subset=['DBH (cm)'])\n",
    "parsbaad_obrien, covbaad_obrien = curve_fit(f=d2h_obrien, xdata=baad_df2['DBH (cm)'], ydata=baad_df2['h.t'])\n",
    "print(parsbaad_obrien)\n",
    "parsbbef_obrien, covbbef_obrien = curve_fit(f=d2h_obrien, xdata=BBEF_DBH, ydata=BBEF_H)\n",
    "print(parsbbef_obrien)\n",
    "parsfia_obrien, covfia_obrien = curve_fit(f=d2h_obrien, xdata=fia_2pfts['DBH (cm)'].dropna(), ydata=fia_2pfts['HT (m)'].dropna())\n",
    "print(parsfia_obrien)\n",
    "fig = plt.figure()\n",
    "ax = fig.add_axes([0, 0, 1, 1])\n",
    "ax.set_xlabel('dbh')\n",
    "ax.set_ylabel('height')\n",
    "ax.scatter(fia_2pfts['DBH (cm)'], fia_2pfts['HT (m)'], s=40, color='#00b3b3', label='Data')\n",
    "ax.scatter(BBEF_DBH, BBEF_H, s=40, color='#00b3b3', label='Data')\n",
    "ax.scatter(baad_2pfts['DBH (cm)'], baad_2pfts['h.t'], s=40, color='#00b3b3', label='Data')\n",
    "ax.plot(np.arange(140), d2h_obrien(np.arange(140), *parsbbef_obrien), linestyle='-.', linewidth=2, color='black', label=\"BBEF\")\n",
    "ax.plot(np.arange(140), d2h_obrien(np.arange(140), *parsfia_obrien), linestyle='-.', linewidth=2, color='blue', label=\"FIA\")\n",
    "ax.plot(np.arange(140), d2h_obrien(np.arange(140), *parsbaad_obrien), linestyle='-.', linewidth=2, color='red', label=\"BAAD\")\n",
    "ax.set_xlim(0,140)\n",
    "ax.legend()\n",
    "\n"
   ]
  },
  {
   "cell_type": "code",
   "execution_count": 23,
   "metadata": {},
   "outputs": [],
   "source": [
    "# From the total dataset, sample 1000 random samples and calculate the optimal parameters for O'Brien.\n",
    "# Repeat the sampling and optimization 100 times.\n",
    "# Create histograms for the two parameters.\n",
    "\n",
    "smp_opt_d2h = []\n",
    "\n",
    "def d2h_params(data):\n",
    "    smp_mean_h = []\n",
    "    for i in dbh_mod:\n",
    "        smp = data.sample(1000).dropna()\n",
    "            \n",
    "    smp_opt, smp_cov = curve_fit(f=d2h_obrien, xdata=smp['DBH(cm)'], ydata=smp['H(m)'])\n",
    "    smp_opt_d2h.append(smp_opt)\n",
    "    return smp_opt"
   ]
  },
  {
   "cell_type": "code",
   "execution_count": 25,
   "metadata": {},
   "outputs": [],
   "source": [
    "smp_opt_d2h = []\n",
    "\n",
    "for x in range(1,101):\n",
    "    d2h_params(TOT)\n",
    "    D2H_PARAMS_DF = smp_opt_d2h\n",
    "\n",
    "d2h_params_df = pd.DataFrame(D2H_PARAMS_DF, columns=['d2h_p1', 'd2h_p2'])"
   ]
  },
  {
   "cell_type": "code",
   "execution_count": 26,
   "metadata": {},
   "outputs": [
    {
     "data": {
      "text/plain": [
       "(array([ 2.,  3.,  9., 21., 20., 21., 11.,  7.,  4.,  2.]),\n",
       " array([0.50856429, 0.5187589 , 0.52895352, 0.53914813, 0.54934275,\n",
       "        0.55953737, 0.56973198, 0.5799266 , 0.59012121, 0.60031583,\n",
       "        0.61051045]),\n",
       " <a list of 10 Patch objects>)"
      ]
     },
     "execution_count": 26,
     "metadata": {},
     "output_type": "execute_result"
    },
    {
     "data": {
      "image/png": "[encoded data removed]",
      "text/plain": [
       "<Figure size 432x288 with 1 Axes>"
      ]
     },
     "metadata": {
      "needs_background": "light"
     },
     "output_type": "display_data"
    }
   ],
   "source": [
    "plt.hist(d2h_params_df['d2h_p1'])"
   ]
  },
  {
   "cell_type": "code",
   "execution_count": 27,
   "metadata": {},
   "outputs": [
    {
     "data": {
      "text/plain": [
       "(array([ 2.,  4.,  6., 10., 20., 21., 17., 12.,  6.,  2.]),\n",
       " array([0.3801738 , 0.39480164, 0.40942948, 0.42405732, 0.43868515,\n",
       "        0.45331299, 0.46794083, 0.48256867, 0.49719651, 0.51182435,\n",
       "        0.52645218]),\n",
       " <a list of 10 Patch objects>)"
      ]
     },
     "execution_count": 27,
     "metadata": {},
     "output_type": "execute_result"
    },
    {
     "data": {
      "image/png": "[encoded data removed]",
      "text/plain": [
       "<Figure size 432x288 with 1 Axes>"
      ]
     },
     "metadata": {
      "needs_background": "light"
     },
     "output_type": "display_data"
    }
   ],
   "source": [
    "plt.hist(d2h_params_df['d2h_p2'])"
   ]
  },
  {
   "cell_type": "code",
   "execution_count": 28,
   "metadata": {},
   "outputs": [],
   "source": [
    "# read out to a csv for use in the traits matrix\n",
    "#d2h_params_df.to_csv('/Users/kathrynmurenbeeld/Desktop/Desktop - Kathryn’s MacBook Pro/CLM/FATES/SCGSR_PARAMS/d2f_params_20210720.csv', index=False)\n"
   ]
  },
  {
   "cell_type": "markdown",
   "metadata": {},
   "source": [
    "### 3.2) We will optimize for the leaf biomass and crown area allometries using the BAAD data. "
   ]
  },
  {
   "cell_type": "markdown",
   "metadata": {},
   "source": [
    "#### First, projected crown area ($m^2$)"
   ]
  },
  {
   "cell_type": "code",
   "execution_count": 29,
   "metadata": {},
   "outputs": [
    {
     "data": {
      "text/html": [
       "<div>\n",
       "<style scoped>\n",
       "    .dataframe tbody tr th:only-of-type {\n",
       "        vertical-align: middle;\n",
       "    }\n",
       "\n",
       "    .dataframe tbody tr th {\n",
       "        vertical-align: top;\n",
       "    }\n",
       "\n",
       "    .dataframe thead th {\n",
       "        text-align: right;\n",
       "    }\n",
       "</style>\n",
       "<table border=\"1\" class=\"dataframe\">\n",
       "  <thead>\n",
       "    <tr style=\"text-align: right;\">\n",
       "      <th></th>\n",
       "      <th>species</th>\n",
       "      <th>location</th>\n",
       "      <th>h.t</th>\n",
       "      <th>d.bh</th>\n",
       "      <th>a.lf</th>\n",
       "      <th>a.cp</th>\n",
       "      <th>m.lf</th>\n",
       "      <th>ma.ilf</th>\n",
       "      <th>n.lf</th>\n",
       "      <th>m.so</th>\n",
       "      <th>DBH (cm)</th>\n",
       "    </tr>\n",
       "  </thead>\n",
       "  <tbody>\n",
       "    <tr>\n",
       "      <th>3477</th>\n",
       "      <td>Pinus ponderosa</td>\n",
       "      <td>northern Rocky Mountains U.S.A.</td>\n",
       "      <td>1.402080</td>\n",
       "      <td>0.00762</td>\n",
       "      <td>NaN</td>\n",
       "      <td>0.263407</td>\n",
       "      <td>0.066997</td>\n",
       "      <td>NaN</td>\n",
       "      <td>NaN</td>\n",
       "      <td>NaN</td>\n",
       "      <td>0.762</td>\n",
       "    </tr>\n",
       "    <tr>\n",
       "      <th>3485</th>\n",
       "      <td>Pinus monticola</td>\n",
       "      <td>northern Rocky Mountains U.S.A.</td>\n",
       "      <td>1.584960</td>\n",
       "      <td>0.01016</td>\n",
       "      <td>NaN</td>\n",
       "      <td>0.531921</td>\n",
       "      <td>0.366010</td>\n",
       "      <td>NaN</td>\n",
       "      <td>NaN</td>\n",
       "      <td>NaN</td>\n",
       "      <td>1.016</td>\n",
       "    </tr>\n",
       "    <tr>\n",
       "      <th>3488</th>\n",
       "      <td>Pinus ponderosa</td>\n",
       "      <td>northern Rocky Mountains U.S.A.</td>\n",
       "      <td>1.615440</td>\n",
       "      <td>0.01016</td>\n",
       "      <td>NaN</td>\n",
       "      <td>0.656693</td>\n",
       "      <td>0.074980</td>\n",
       "      <td>NaN</td>\n",
       "      <td>NaN</td>\n",
       "      <td>NaN</td>\n",
       "      <td>1.016</td>\n",
       "    </tr>\n",
       "    <tr>\n",
       "      <th>3489</th>\n",
       "      <td>Pinus monticola</td>\n",
       "      <td>northern Rocky Mountains U.S.A.</td>\n",
       "      <td>1.615440</td>\n",
       "      <td>0.00762</td>\n",
       "      <td>NaN</td>\n",
       "      <td>0.656693</td>\n",
       "      <td>0.309990</td>\n",
       "      <td>NaN</td>\n",
       "      <td>NaN</td>\n",
       "      <td>NaN</td>\n",
       "      <td>0.762</td>\n",
       "    </tr>\n",
       "    <tr>\n",
       "      <th>3492</th>\n",
       "      <td>Pinus monticola</td>\n",
       "      <td>northern Rocky Mountains U.S.A.</td>\n",
       "      <td>1.645920</td>\n",
       "      <td>0.01270</td>\n",
       "      <td>NaN</td>\n",
       "      <td>0.893832</td>\n",
       "      <td>0.397989</td>\n",
       "      <td>NaN</td>\n",
       "      <td>NaN</td>\n",
       "      <td>NaN</td>\n",
       "      <td>1.270</td>\n",
       "    </tr>\n",
       "    <tr>\n",
       "      <th>...</th>\n",
       "      <td>...</td>\n",
       "      <td>...</td>\n",
       "      <td>...</td>\n",
       "      <td>...</td>\n",
       "      <td>...</td>\n",
       "      <td>...</td>\n",
       "      <td>...</td>\n",
       "      <td>...</td>\n",
       "      <td>...</td>\n",
       "      <td>...</td>\n",
       "      <td>...</td>\n",
       "    </tr>\n",
       "    <tr>\n",
       "      <th>11641</th>\n",
       "      <td>Pinus ponderosa</td>\n",
       "      <td>Priest River Experimental Forest</td>\n",
       "      <td>3.570000</td>\n",
       "      <td>0.04830</td>\n",
       "      <td>6.221753</td>\n",
       "      <td>0.833229</td>\n",
       "      <td>0.808352</td>\n",
       "      <td>NaN</td>\n",
       "      <td>NaN</td>\n",
       "      <td>NaN</td>\n",
       "      <td>4.830</td>\n",
       "    </tr>\n",
       "    <tr>\n",
       "      <th>11642</th>\n",
       "      <td>Pinus ponderosa</td>\n",
       "      <td>Priest River Experimental Forest</td>\n",
       "      <td>31.929997</td>\n",
       "      <td>0.70610</td>\n",
       "      <td>970.338487</td>\n",
       "      <td>36.513951</td>\n",
       "      <td>135.146738</td>\n",
       "      <td>NaN</td>\n",
       "      <td>NaN</td>\n",
       "      <td>NaN</td>\n",
       "      <td>70.610</td>\n",
       "    </tr>\n",
       "    <tr>\n",
       "      <th>11643</th>\n",
       "      <td>Pinus ponderosa</td>\n",
       "      <td>Priest River Experimental Forest</td>\n",
       "      <td>6.920000</td>\n",
       "      <td>0.11430</td>\n",
       "      <td>36.523412</td>\n",
       "      <td>4.856518</td>\n",
       "      <td>4.806629</td>\n",
       "      <td>NaN</td>\n",
       "      <td>NaN</td>\n",
       "      <td>NaN</td>\n",
       "      <td>11.430</td>\n",
       "    </tr>\n",
       "    <tr>\n",
       "      <th>11644</th>\n",
       "      <td>Pinus ponderosa</td>\n",
       "      <td>Priest River Experimental Forest</td>\n",
       "      <td>5.849999</td>\n",
       "      <td>0.11940</td>\n",
       "      <td>34.204490</td>\n",
       "      <td>3.397947</td>\n",
       "      <td>4.770014</td>\n",
       "      <td>NaN</td>\n",
       "      <td>NaN</td>\n",
       "      <td>NaN</td>\n",
       "      <td>11.940</td>\n",
       "    </tr>\n",
       "    <tr>\n",
       "      <th>11645</th>\n",
       "      <td>Pinus ponderosa</td>\n",
       "      <td>Priest River Experimental Forest</td>\n",
       "      <td>35.139998</td>\n",
       "      <td>0.60200</td>\n",
       "      <td>398.966600</td>\n",
       "      <td>27.216280</td>\n",
       "      <td>54.388049</td>\n",
       "      <td>NaN</td>\n",
       "      <td>NaN</td>\n",
       "      <td>NaN</td>\n",
       "      <td>60.200</td>\n",
       "    </tr>\n",
       "  </tbody>\n",
       "</table>\n",
       "<p>171 rows × 11 columns</p>\n",
       "</div>"
      ],
      "text/plain": [
       "               species                          location        h.t     d.bh  \\\n",
       "3477   Pinus ponderosa   northern Rocky Mountains U.S.A.   1.402080  0.00762   \n",
       "3485   Pinus monticola   northern Rocky Mountains U.S.A.   1.584960  0.01016   \n",
       "3488   Pinus ponderosa   northern Rocky Mountains U.S.A.   1.615440  0.01016   \n",
       "3489   Pinus monticola   northern Rocky Mountains U.S.A.   1.615440  0.00762   \n",
       "3492   Pinus monticola   northern Rocky Mountains U.S.A.   1.645920  0.01270   \n",
       "...                ...                               ...        ...      ...   \n",
       "11641  Pinus ponderosa  Priest River Experimental Forest   3.570000  0.04830   \n",
       "11642  Pinus ponderosa  Priest River Experimental Forest  31.929997  0.70610   \n",
       "11643  Pinus ponderosa  Priest River Experimental Forest   6.920000  0.11430   \n",
       "11644  Pinus ponderosa  Priest River Experimental Forest   5.849999  0.11940   \n",
       "11645  Pinus ponderosa  Priest River Experimental Forest  35.139998  0.60200   \n",
       "\n",
       "             a.lf       a.cp        m.lf  ma.ilf  n.lf  m.so  DBH (cm)  \n",
       "3477          NaN   0.263407    0.066997     NaN   NaN   NaN     0.762  \n",
       "3485          NaN   0.531921    0.366010     NaN   NaN   NaN     1.016  \n",
       "3488          NaN   0.656693    0.074980     NaN   NaN   NaN     1.016  \n",
       "3489          NaN   0.656693    0.309990     NaN   NaN   NaN     0.762  \n",
       "3492          NaN   0.893832    0.397989     NaN   NaN   NaN     1.270  \n",
       "...           ...        ...         ...     ...   ...   ...       ...  \n",
       "11641    6.221753   0.833229    0.808352     NaN   NaN   NaN     4.830  \n",
       "11642  970.338487  36.513951  135.146738     NaN   NaN   NaN    70.610  \n",
       "11643   36.523412   4.856518    4.806629     NaN   NaN   NaN    11.430  \n",
       "11644   34.204490   3.397947    4.770014     NaN   NaN   NaN    11.940  \n",
       "11645  398.966600  27.216280   54.388049     NaN   NaN   NaN    60.200  \n",
       "\n",
       "[171 rows x 11 columns]"
      ]
     },
     "execution_count": 29,
     "metadata": {},
     "output_type": "execute_result"
    }
   ],
   "source": [
    "baad_2pfts.dropna(subset=['a.cp', 'DBH (cm)'])"
   ]
  },
  {
   "cell_type": "code",
   "execution_count": 30,
   "metadata": {},
   "outputs": [
    {
     "name": "stdout",
     "output_type": "stream",
     "text": [
      "[0.06375559 1.54726309]\n"
     ]
    },
    {
     "data": {
      "text/plain": [
       "[<matplotlib.lines.Line2D at 0x7fad3de5c550>]"
      ]
     },
     "execution_count": 30,
     "metadata": {},
     "output_type": "execute_result"
    },
    {
     "data": {
      "image/png": "[encoded data removed]",
      "text/plain": [
       "<Figure size 432x288 with 1 Axes>"
      ]
     },
     "metadata": {
      "needs_background": "light"
     },
     "output_type": "display_data"
    }
   ],
   "source": [
    "baad_acp = baad_2pfts.dropna(subset=['a.cp', 'DBH (cm)'])\n",
    "crownarea_pars, crownarea_cov = curve_fit(f=carea_2pwr, xdata=baad_acp['DBH (cm)'], ydata=baad_acp['a.cp'])\n",
    "print(crownarea_pars)\n",
    "fig = plt.figure()\n",
    "ax = fig.add_axes([0, 0, 1, 1])\n",
    "ax.set_xlabel('dbh (cm)')\n",
    "ax.set_ylabel('crown_proj (m2)')\n",
    "ax.scatter(baad_acp['DBH (cm)'], baad_acp['a.cp'], s=40, color='#00b3b3', label='Data')\n",
    "ax.plot(np.arange(140), carea_2pwr(np.arange(140), *crownarea_pars), linestyle='--', linewidth=2, color='black')\n"
   ]
  },
  {
   "cell_type": "code",
   "execution_count": 31,
   "metadata": {},
   "outputs": [
    {
     "data": {
      "text/plain": [
       "(array([145.,  33.,  20.,  14.,   9.,   9.,  10.,   2.,   4.,   2.,   6.,\n",
       "          4.,   1.,   1.,   0.,   3.,   0.,   1.,   0.,   0.,   0.,   1.,\n",
       "          1.,   0.,   0.,   0.,   0.,   1.,   0.,   0.,   1.,   0.,   0.,\n",
       "          0.,   0.,   0.,   0.,   1.,   0.,   0.,   0.,   0.,   0.,   0.,\n",
       "          0.,   0.,   0.,   0.,   0.,   1.]),\n",
       " array([6.36172512e-03, 2.35283169e+00, 4.69930165e+00, 7.04577161e+00,\n",
       "        9.39224158e+00, 1.17387115e+01, 1.40851815e+01, 1.64316515e+01,\n",
       "        1.87781214e+01, 2.11245914e+01, 2.34710614e+01, 2.58175313e+01,\n",
       "        2.81640013e+01, 3.05104712e+01, 3.28569412e+01, 3.52034112e+01,\n",
       "        3.75498811e+01, 3.98963511e+01, 4.22428211e+01, 4.45892910e+01,\n",
       "        4.69357610e+01, 4.92822309e+01, 5.16287009e+01, 5.39751709e+01,\n",
       "        5.63216408e+01, 5.86681108e+01, 6.10145808e+01, 6.33610507e+01,\n",
       "        6.57075207e+01, 6.80539906e+01, 7.04004606e+01, 7.27469306e+01,\n",
       "        7.50934005e+01, 7.74398705e+01, 7.97863405e+01, 8.21328104e+01,\n",
       "        8.44792804e+01, 8.68257503e+01, 8.91722203e+01, 9.15186903e+01,\n",
       "        9.38651602e+01, 9.62116302e+01, 9.85581002e+01, 1.00904570e+02,\n",
       "        1.03251040e+02, 1.05597510e+02, 1.07943980e+02, 1.10290450e+02,\n",
       "        1.12636920e+02, 1.14983390e+02, 1.17329860e+02]),\n",
       " <a list of 50 Patch objects>)"
      ]
     },
     "execution_count": 31,
     "metadata": {},
     "output_type": "execute_result"
    },
    {
     "data": {
      "image/png": "[encoded data removed]",
      "text/plain": [
       "<Figure size 432x288 with 1 Axes>"
      ]
     },
     "metadata": {
      "needs_background": "light"
     },
     "output_type": "display_data"
    }
   ],
   "source": [
    "plt.hist(baad_2pfts['a.cp'].dropna(), bins=50)"
   ]
  },
  {
   "cell_type": "code",
   "execution_count": 32,
   "metadata": {},
   "outputs": [
    {
     "data": {
      "text/plain": [
       "count    270.000000\n",
       "mean       6.931763\n",
       "std       13.229655\n",
       "min        0.006362\n",
       "25%        0.321719\n",
       "50%        2.069152\n",
       "75%        7.705647\n",
       "max      117.329860\n",
       "Name: a.cp, dtype: float64"
      ]
     },
     "execution_count": 32,
     "metadata": {},
     "output_type": "execute_result"
    }
   ],
   "source": [
    "baad_2pfts['a.cp'].describe()"
   ]
  },
  {
   "cell_type": "code",
   "execution_count": 33,
   "metadata": {},
   "outputs": [
    {
     "data": {
      "text/plain": [
       "count    270.000000\n",
       "mean       0.453849\n",
       "std        2.017091\n",
       "min       -5.057456\n",
       "25%       -1.134076\n",
       "50%        0.726739\n",
       "75%        2.041757\n",
       "max        4.764989\n",
       "Name: a.cp, dtype: float64"
      ]
     },
     "execution_count": 33,
     "metadata": {},
     "output_type": "execute_result"
    }
   ],
   "source": [
    "acp_log = np.log(baad_2pfts['a.cp'])\n",
    "acp_log.describe()"
   ]
  },
  {
   "cell_type": "markdown",
   "metadata": {},
   "source": [
    "#### Then, leaf area ($m^2$)"
   ]
  },
  {
   "cell_type": "code",
   "execution_count": 34,
   "metadata": {},
   "outputs": [
    {
     "data": {
      "text/html": [
       "<div>\n",
       "<style scoped>\n",
       "    .dataframe tbody tr th:only-of-type {\n",
       "        vertical-align: middle;\n",
       "    }\n",
       "\n",
       "    .dataframe tbody tr th {\n",
       "        vertical-align: top;\n",
       "    }\n",
       "\n",
       "    .dataframe thead th {\n",
       "        text-align: right;\n",
       "    }\n",
       "</style>\n",
       "<table border=\"1\" class=\"dataframe\">\n",
       "  <thead>\n",
       "    <tr style=\"text-align: right;\">\n",
       "      <th></th>\n",
       "      <th>species</th>\n",
       "      <th>location</th>\n",
       "      <th>h.t</th>\n",
       "      <th>d.bh</th>\n",
       "      <th>a.lf</th>\n",
       "      <th>a.cp</th>\n",
       "      <th>m.lf</th>\n",
       "      <th>ma.ilf</th>\n",
       "      <th>n.lf</th>\n",
       "      <th>m.so</th>\n",
       "      <th>DBH (cm)</th>\n",
       "    </tr>\n",
       "  </thead>\n",
       "  <tbody>\n",
       "    <tr>\n",
       "      <th>5992</th>\n",
       "      <td>Pinus ponderosa</td>\n",
       "      <td>eastern side of the Oregon Cascade Range, USA ...</td>\n",
       "      <td>32.60</td>\n",
       "      <td>0.627241</td>\n",
       "      <td>548.52</td>\n",
       "      <td>NaN</td>\n",
       "      <td>75.39</td>\n",
       "      <td>0.139586</td>\n",
       "      <td>NaN</td>\n",
       "      <td>NaN</td>\n",
       "      <td>62.724080</td>\n",
       "    </tr>\n",
       "    <tr>\n",
       "      <th>5993</th>\n",
       "      <td>Pinus ponderosa</td>\n",
       "      <td>eastern side of the Oregon Cascade Range, USA ...</td>\n",
       "      <td>33.60</td>\n",
       "      <td>0.544669</td>\n",
       "      <td>627.68</td>\n",
       "      <td>NaN</td>\n",
       "      <td>85.41</td>\n",
       "      <td>0.137430</td>\n",
       "      <td>NaN</td>\n",
       "      <td>NaN</td>\n",
       "      <td>54.466945</td>\n",
       "    </tr>\n",
       "    <tr>\n",
       "      <th>5994</th>\n",
       "      <td>Pinus ponderosa</td>\n",
       "      <td>eastern side of the Oregon Cascade Range, USA ...</td>\n",
       "      <td>34.10</td>\n",
       "      <td>0.661811</td>\n",
       "      <td>593.09</td>\n",
       "      <td>NaN</td>\n",
       "      <td>94.95</td>\n",
       "      <td>0.159400</td>\n",
       "      <td>NaN</td>\n",
       "      <td>NaN</td>\n",
       "      <td>66.181146</td>\n",
       "    </tr>\n",
       "    <tr>\n",
       "      <th>5995</th>\n",
       "      <td>Pinus ponderosa</td>\n",
       "      <td>eastern side of the Oregon Cascade Range, USA ...</td>\n",
       "      <td>31.70</td>\n",
       "      <td>0.677967</td>\n",
       "      <td>415.71</td>\n",
       "      <td>NaN</td>\n",
       "      <td>62.74</td>\n",
       "      <td>0.154386</td>\n",
       "      <td>NaN</td>\n",
       "      <td>NaN</td>\n",
       "      <td>67.796716</td>\n",
       "    </tr>\n",
       "    <tr>\n",
       "      <th>5996</th>\n",
       "      <td>Pinus ponderosa</td>\n",
       "      <td>eastern side of the Oregon Cascade Range, USA ...</td>\n",
       "      <td>33.50</td>\n",
       "      <td>0.608698</td>\n",
       "      <td>575.45</td>\n",
       "      <td>NaN</td>\n",
       "      <td>83.92</td>\n",
       "      <td>0.143859</td>\n",
       "      <td>NaN</td>\n",
       "      <td>NaN</td>\n",
       "      <td>60.869755</td>\n",
       "    </tr>\n",
       "    <tr>\n",
       "      <th>...</th>\n",
       "      <td>...</td>\n",
       "      <td>...</td>\n",
       "      <td>...</td>\n",
       "      <td>...</td>\n",
       "      <td>...</td>\n",
       "      <td>...</td>\n",
       "      <td>...</td>\n",
       "      <td>...</td>\n",
       "      <td>...</td>\n",
       "      <td>...</td>\n",
       "      <td>...</td>\n",
       "    </tr>\n",
       "    <tr>\n",
       "      <th>15491</th>\n",
       "      <td>Pseudotsuga menziesii</td>\n",
       "      <td>Elk Creek</td>\n",
       "      <td>21.62</td>\n",
       "      <td>0.176000</td>\n",
       "      <td>40.22</td>\n",
       "      <td>NaN</td>\n",
       "      <td>6.80</td>\n",
       "      <td>NaN</td>\n",
       "      <td>NaN</td>\n",
       "      <td>NaN</td>\n",
       "      <td>17.600000</td>\n",
       "    </tr>\n",
       "    <tr>\n",
       "      <th>15492</th>\n",
       "      <td>Pseudotsuga menziesii</td>\n",
       "      <td>Robertson Main</td>\n",
       "      <td>17.85</td>\n",
       "      <td>0.171000</td>\n",
       "      <td>83.17</td>\n",
       "      <td>NaN</td>\n",
       "      <td>15.22</td>\n",
       "      <td>NaN</td>\n",
       "      <td>NaN</td>\n",
       "      <td>NaN</td>\n",
       "      <td>17.100000</td>\n",
       "    </tr>\n",
       "    <tr>\n",
       "      <th>15493</th>\n",
       "      <td>Pseudotsuga menziesii</td>\n",
       "      <td>Robertson Main</td>\n",
       "      <td>20.57</td>\n",
       "      <td>0.230000</td>\n",
       "      <td>76.22</td>\n",
       "      <td>NaN</td>\n",
       "      <td>13.50</td>\n",
       "      <td>NaN</td>\n",
       "      <td>NaN</td>\n",
       "      <td>NaN</td>\n",
       "      <td>23.000000</td>\n",
       "    </tr>\n",
       "    <tr>\n",
       "      <th>15494</th>\n",
       "      <td>Pseudotsuga menziesii</td>\n",
       "      <td>Robertson Main</td>\n",
       "      <td>14.43</td>\n",
       "      <td>0.099000</td>\n",
       "      <td>25.14</td>\n",
       "      <td>NaN</td>\n",
       "      <td>4.12</td>\n",
       "      <td>NaN</td>\n",
       "      <td>NaN</td>\n",
       "      <td>NaN</td>\n",
       "      <td>9.900000</td>\n",
       "    </tr>\n",
       "    <tr>\n",
       "      <th>15495</th>\n",
       "      <td>Pseudotsuga menziesii</td>\n",
       "      <td>Robertson Main</td>\n",
       "      <td>24.25</td>\n",
       "      <td>0.324000</td>\n",
       "      <td>123.73</td>\n",
       "      <td>NaN</td>\n",
       "      <td>22.89</td>\n",
       "      <td>NaN</td>\n",
       "      <td>NaN</td>\n",
       "      <td>NaN</td>\n",
       "      <td>32.400000</td>\n",
       "    </tr>\n",
       "  </tbody>\n",
       "</table>\n",
       "<p>283 rows × 11 columns</p>\n",
       "</div>"
      ],
      "text/plain": [
       "                     species  \\\n",
       "5992         Pinus ponderosa   \n",
       "5993         Pinus ponderosa   \n",
       "5994         Pinus ponderosa   \n",
       "5995         Pinus ponderosa   \n",
       "5996         Pinus ponderosa   \n",
       "...                      ...   \n",
       "15491  Pseudotsuga menziesii   \n",
       "15492  Pseudotsuga menziesii   \n",
       "15493  Pseudotsuga menziesii   \n",
       "15494  Pseudotsuga menziesii   \n",
       "15495  Pseudotsuga menziesii   \n",
       "\n",
       "                                                location    h.t      d.bh  \\\n",
       "5992   eastern side of the Oregon Cascade Range, USA ...  32.60  0.627241   \n",
       "5993   eastern side of the Oregon Cascade Range, USA ...  33.60  0.544669   \n",
       "5994   eastern side of the Oregon Cascade Range, USA ...  34.10  0.661811   \n",
       "5995   eastern side of the Oregon Cascade Range, USA ...  31.70  0.677967   \n",
       "5996   eastern side of the Oregon Cascade Range, USA ...  33.50  0.608698   \n",
       "...                                                  ...    ...       ...   \n",
       "15491                                          Elk Creek  21.62  0.176000   \n",
       "15492                                     Robertson Main  17.85  0.171000   \n",
       "15493                                     Robertson Main  20.57  0.230000   \n",
       "15494                                     Robertson Main  14.43  0.099000   \n",
       "15495                                     Robertson Main  24.25  0.324000   \n",
       "\n",
       "         a.lf  a.cp   m.lf    ma.ilf  n.lf  m.so   DBH (cm)  \n",
       "5992   548.52   NaN  75.39  0.139586   NaN   NaN  62.724080  \n",
       "5993   627.68   NaN  85.41  0.137430   NaN   NaN  54.466945  \n",
       "5994   593.09   NaN  94.95  0.159400   NaN   NaN  66.181146  \n",
       "5995   415.71   NaN  62.74  0.154386   NaN   NaN  67.796716  \n",
       "5996   575.45   NaN  83.92  0.143859   NaN   NaN  60.869755  \n",
       "...       ...   ...    ...       ...   ...   ...        ...  \n",
       "15491   40.22   NaN   6.80       NaN   NaN   NaN  17.600000  \n",
       "15492   83.17   NaN  15.22       NaN   NaN   NaN  17.100000  \n",
       "15493   76.22   NaN  13.50       NaN   NaN   NaN  23.000000  \n",
       "15494   25.14   NaN   4.12       NaN   NaN   NaN   9.900000  \n",
       "15495  123.73   NaN  22.89       NaN   NaN   NaN  32.400000  \n",
       "\n",
       "[283 rows x 11 columns]"
      ]
     },
     "execution_count": 34,
     "metadata": {},
     "output_type": "execute_result"
    }
   ],
   "source": [
    "baad_2pfts.dropna(subset=['a.lf', 'DBH (cm)'])"
   ]
  },
  {
   "cell_type": "code",
   "execution_count": 35,
   "metadata": {},
   "outputs": [
    {
     "name": "stdout",
     "output_type": "stream",
     "text": [
      "[0.45220542 1.69916984]\n"
     ]
    },
    {
     "data": {
      "text/plain": [
       "[<matplotlib.lines.Line2D at 0x7fad3df9b6d0>]"
      ]
     },
     "execution_count": 35,
     "metadata": {},
     "output_type": "execute_result"
    },
    {
     "data": {
      "image/png": "[encoded data removed]",
      "text/plain": [
       "<Figure size 432x288 with 1 Axes>"
      ]
     },
     "metadata": {
      "needs_background": "light"
     },
     "output_type": "display_data"
    }
   ],
   "source": [
    "baad_alf = baad_2pfts.dropna(subset=['a.lf', 'DBH (cm)'])\n",
    "leafarea_pars, leafarea_cov = curve_fit(f=carea_2pwr, xdata=baad_alf['DBH (cm)'], ydata=baad_alf['a.lf'])\n",
    "print(leafarea_pars)\n",
    "fig = plt.figure()\n",
    "ax = fig.add_axes([0, 0, 1, 1])\n",
    "ax.set_xlabel('dbh (cm)')\n",
    "ax.set_ylabel('leaf area (m2)')\n",
    "ax.scatter(baad_alf['DBH (cm)'], baad_alf['a.lf'], s=40, color='#00b3b3', label='Data')\n",
    "ax.plot(np.arange(140), carea_2pwr(np.arange(140), *leafarea_pars), linestyle='--', linewidth=2, color='black')\n",
    "#ax.set_xlim(0,100)"
   ]
  },
  {
   "cell_type": "code",
   "execution_count": 36,
   "metadata": {},
   "outputs": [
    {
     "data": {
      "text/plain": [
       "(array([219.,  43.,  18.,  14.,  12.,   5.,   4.,   2.,   4.,   4.,   2.,\n",
       "          0.,   3.,   1.,   3.]),\n",
       " array([2.65147650e-02, 6.56656984e+01, 1.31304882e+02, 1.96944066e+02,\n",
       "        2.62583249e+02, 3.28222433e+02, 3.93861616e+02, 4.59500800e+02,\n",
       "        5.25139984e+02, 5.90779167e+02, 6.56418351e+02, 7.22057535e+02,\n",
       "        7.87696718e+02, 8.53335902e+02, 9.18975085e+02, 9.84614269e+02]),\n",
       " <a list of 15 Patch objects>)"
      ]
     },
     "execution_count": 36,
     "metadata": {},
     "output_type": "execute_result"
    },
    {
     "data": {
      "image/png": "[encoded data removed]",
      "text/plain": [
       "<Figure size 432x288 with 1 Axes>"
      ]
     },
     "metadata": {
      "needs_background": "light"
     },
     "output_type": "display_data"
    }
   ],
   "source": [
    "plt.hist(baad_2pfts['a.lf'].dropna(), bins=15)"
   ]
  },
  {
   "cell_type": "code",
   "execution_count": 37,
   "metadata": {},
   "outputs": [
    {
     "data": {
      "text/plain": [
       "count    334.000000\n",
       "mean     103.222800\n",
       "std      177.846543\n",
       "min        0.026515\n",
       "25%        4.655000\n",
       "50%       31.100000\n",
       "75%      108.190000\n",
       "max      984.614269\n",
       "Name: a.lf, dtype: float64"
      ]
     },
     "execution_count": 37,
     "metadata": {},
     "output_type": "execute_result"
    }
   ],
   "source": [
    "baad_2pfts['a.lf'].describe()"
   ]
  },
  {
   "cell_type": "code",
   "execution_count": 38,
   "metadata": {},
   "outputs": [
    {
     "data": {
      "text/plain": [
       "count    334.000000\n",
       "mean       3.060019\n",
       "std        2.225335\n",
       "min       -3.630054\n",
       "25%        1.537926\n",
       "50%        3.437173\n",
       "75%        4.683887\n",
       "max        6.892250\n",
       "Name: a.lf, dtype: float64"
      ]
     },
     "execution_count": 38,
     "metadata": {},
     "output_type": "execute_result"
    }
   ],
   "source": [
    "alf_log = np.log(baad_2pfts['a.lf'])\n",
    "alf_log.describe()"
   ]
  },
  {
   "cell_type": "markdown",
   "metadata": {},
   "source": [
    "#### Calculate the leaf crown exponent difference"
   ]
  },
  {
   "cell_type": "code",
   "execution_count": 39,
   "metadata": {},
   "outputs": [
    {
     "name": "stdout",
     "output_type": "stream",
     "text": [
      "-0.15190675072595683\n"
     ]
    }
   ],
   "source": [
    "leaf_crown_exponent_diff = crownarea_pars[1] - leafarea_pars[1]\n",
    "print(leaf_crown_exponent_diff)"
   ]
  },
  {
   "cell_type": "markdown",
   "metadata": {},
   "source": [
    "#### Next, the leaf mass (kg)"
   ]
  },
  {
   "cell_type": "code",
   "execution_count": 40,
   "metadata": {},
   "outputs": [
    {
     "data": {
      "text/html": [
       "<div>\n",
       "<style scoped>\n",
       "    .dataframe tbody tr th:only-of-type {\n",
       "        vertical-align: middle;\n",
       "    }\n",
       "\n",
       "    .dataframe tbody tr th {\n",
       "        vertical-align: top;\n",
       "    }\n",
       "\n",
       "    .dataframe thead th {\n",
       "        text-align: right;\n",
       "    }\n",
       "</style>\n",
       "<table border=\"1\" class=\"dataframe\">\n",
       "  <thead>\n",
       "    <tr style=\"text-align: right;\">\n",
       "      <th></th>\n",
       "      <th>species</th>\n",
       "      <th>location</th>\n",
       "      <th>h.t</th>\n",
       "      <th>d.bh</th>\n",
       "      <th>a.lf</th>\n",
       "      <th>a.cp</th>\n",
       "      <th>m.lf</th>\n",
       "      <th>ma.ilf</th>\n",
       "      <th>n.lf</th>\n",
       "      <th>m.so</th>\n",
       "      <th>DBH (cm)</th>\n",
       "    </tr>\n",
       "  </thead>\n",
       "  <tbody>\n",
       "    <tr>\n",
       "      <th>3477</th>\n",
       "      <td>Pinus ponderosa</td>\n",
       "      <td>northern Rocky Mountains U.S.A.</td>\n",
       "      <td>1.40208</td>\n",
       "      <td>0.00762</td>\n",
       "      <td>NaN</td>\n",
       "      <td>0.263407</td>\n",
       "      <td>0.066997</td>\n",
       "      <td>NaN</td>\n",
       "      <td>NaN</td>\n",
       "      <td>NaN</td>\n",
       "      <td>0.762</td>\n",
       "    </tr>\n",
       "    <tr>\n",
       "      <th>3485</th>\n",
       "      <td>Pinus monticola</td>\n",
       "      <td>northern Rocky Mountains U.S.A.</td>\n",
       "      <td>1.58496</td>\n",
       "      <td>0.01016</td>\n",
       "      <td>NaN</td>\n",
       "      <td>0.531921</td>\n",
       "      <td>0.366010</td>\n",
       "      <td>NaN</td>\n",
       "      <td>NaN</td>\n",
       "      <td>NaN</td>\n",
       "      <td>1.016</td>\n",
       "    </tr>\n",
       "    <tr>\n",
       "      <th>3488</th>\n",
       "      <td>Pinus ponderosa</td>\n",
       "      <td>northern Rocky Mountains U.S.A.</td>\n",
       "      <td>1.61544</td>\n",
       "      <td>0.01016</td>\n",
       "      <td>NaN</td>\n",
       "      <td>0.656693</td>\n",
       "      <td>0.074980</td>\n",
       "      <td>NaN</td>\n",
       "      <td>NaN</td>\n",
       "      <td>NaN</td>\n",
       "      <td>1.016</td>\n",
       "    </tr>\n",
       "    <tr>\n",
       "      <th>3489</th>\n",
       "      <td>Pinus monticola</td>\n",
       "      <td>northern Rocky Mountains U.S.A.</td>\n",
       "      <td>1.61544</td>\n",
       "      <td>0.00762</td>\n",
       "      <td>NaN</td>\n",
       "      <td>0.656693</td>\n",
       "      <td>0.309990</td>\n",
       "      <td>NaN</td>\n",
       "      <td>NaN</td>\n",
       "      <td>NaN</td>\n",
       "      <td>0.762</td>\n",
       "    </tr>\n",
       "    <tr>\n",
       "      <th>3492</th>\n",
       "      <td>Pinus monticola</td>\n",
       "      <td>northern Rocky Mountains U.S.A.</td>\n",
       "      <td>1.64592</td>\n",
       "      <td>0.01270</td>\n",
       "      <td>NaN</td>\n",
       "      <td>0.893832</td>\n",
       "      <td>0.397989</td>\n",
       "      <td>NaN</td>\n",
       "      <td>NaN</td>\n",
       "      <td>NaN</td>\n",
       "      <td>1.270</td>\n",
       "    </tr>\n",
       "    <tr>\n",
       "      <th>...</th>\n",
       "      <td>...</td>\n",
       "      <td>...</td>\n",
       "      <td>...</td>\n",
       "      <td>...</td>\n",
       "      <td>...</td>\n",
       "      <td>...</td>\n",
       "      <td>...</td>\n",
       "      <td>...</td>\n",
       "      <td>...</td>\n",
       "      <td>...</td>\n",
       "      <td>...</td>\n",
       "    </tr>\n",
       "    <tr>\n",
       "      <th>15491</th>\n",
       "      <td>Pseudotsuga menziesii</td>\n",
       "      <td>Elk Creek</td>\n",
       "      <td>21.62000</td>\n",
       "      <td>0.17600</td>\n",
       "      <td>40.22</td>\n",
       "      <td>NaN</td>\n",
       "      <td>6.800000</td>\n",
       "      <td>NaN</td>\n",
       "      <td>NaN</td>\n",
       "      <td>NaN</td>\n",
       "      <td>17.600</td>\n",
       "    </tr>\n",
       "    <tr>\n",
       "      <th>15492</th>\n",
       "      <td>Pseudotsuga menziesii</td>\n",
       "      <td>Robertson Main</td>\n",
       "      <td>17.85000</td>\n",
       "      <td>0.17100</td>\n",
       "      <td>83.17</td>\n",
       "      <td>NaN</td>\n",
       "      <td>15.220000</td>\n",
       "      <td>NaN</td>\n",
       "      <td>NaN</td>\n",
       "      <td>NaN</td>\n",
       "      <td>17.100</td>\n",
       "    </tr>\n",
       "    <tr>\n",
       "      <th>15493</th>\n",
       "      <td>Pseudotsuga menziesii</td>\n",
       "      <td>Robertson Main</td>\n",
       "      <td>20.57000</td>\n",
       "      <td>0.23000</td>\n",
       "      <td>76.22</td>\n",
       "      <td>NaN</td>\n",
       "      <td>13.500000</td>\n",
       "      <td>NaN</td>\n",
       "      <td>NaN</td>\n",
       "      <td>NaN</td>\n",
       "      <td>23.000</td>\n",
       "    </tr>\n",
       "    <tr>\n",
       "      <th>15494</th>\n",
       "      <td>Pseudotsuga menziesii</td>\n",
       "      <td>Robertson Main</td>\n",
       "      <td>14.43000</td>\n",
       "      <td>0.09900</td>\n",
       "      <td>25.14</td>\n",
       "      <td>NaN</td>\n",
       "      <td>4.120000</td>\n",
       "      <td>NaN</td>\n",
       "      <td>NaN</td>\n",
       "      <td>NaN</td>\n",
       "      <td>9.900</td>\n",
       "    </tr>\n",
       "    <tr>\n",
       "      <th>15495</th>\n",
       "      <td>Pseudotsuga menziesii</td>\n",
       "      <td>Robertson Main</td>\n",
       "      <td>24.25000</td>\n",
       "      <td>0.32400</td>\n",
       "      <td>123.73</td>\n",
       "      <td>NaN</td>\n",
       "      <td>22.890000</td>\n",
       "      <td>NaN</td>\n",
       "      <td>NaN</td>\n",
       "      <td>NaN</td>\n",
       "      <td>32.400</td>\n",
       "    </tr>\n",
       "  </tbody>\n",
       "</table>\n",
       "<p>250 rows × 11 columns</p>\n",
       "</div>"
      ],
      "text/plain": [
       "                     species                         location       h.t  \\\n",
       "3477         Pinus ponderosa  northern Rocky Mountains U.S.A.   1.40208   \n",
       "3485         Pinus monticola  northern Rocky Mountains U.S.A.   1.58496   \n",
       "3488         Pinus ponderosa  northern Rocky Mountains U.S.A.   1.61544   \n",
       "3489         Pinus monticola  northern Rocky Mountains U.S.A.   1.61544   \n",
       "3492         Pinus monticola  northern Rocky Mountains U.S.A.   1.64592   \n",
       "...                      ...                              ...       ...   \n",
       "15491  Pseudotsuga menziesii                        Elk Creek  21.62000   \n",
       "15492  Pseudotsuga menziesii                   Robertson Main  17.85000   \n",
       "15493  Pseudotsuga menziesii                   Robertson Main  20.57000   \n",
       "15494  Pseudotsuga menziesii                   Robertson Main  14.43000   \n",
       "15495  Pseudotsuga menziesii                   Robertson Main  24.25000   \n",
       "\n",
       "          d.bh    a.lf      a.cp       m.lf  ma.ilf  n.lf  m.so  DBH (cm)  \n",
       "3477   0.00762     NaN  0.263407   0.066997     NaN   NaN   NaN     0.762  \n",
       "3485   0.01016     NaN  0.531921   0.366010     NaN   NaN   NaN     1.016  \n",
       "3488   0.01016     NaN  0.656693   0.074980     NaN   NaN   NaN     1.016  \n",
       "3489   0.00762     NaN  0.656693   0.309990     NaN   NaN   NaN     0.762  \n",
       "3492   0.01270     NaN  0.893832   0.397989     NaN   NaN   NaN     1.270  \n",
       "...        ...     ...       ...        ...     ...   ...   ...       ...  \n",
       "15491  0.17600   40.22       NaN   6.800000     NaN   NaN   NaN    17.600  \n",
       "15492  0.17100   83.17       NaN  15.220000     NaN   NaN   NaN    17.100  \n",
       "15493  0.23000   76.22       NaN  13.500000     NaN   NaN   NaN    23.000  \n",
       "15494  0.09900   25.14       NaN   4.120000     NaN   NaN   NaN     9.900  \n",
       "15495  0.32400  123.73       NaN  22.890000     NaN   NaN   NaN    32.400  \n",
       "\n",
       "[250 rows x 11 columns]"
      ]
     },
     "execution_count": 40,
     "metadata": {},
     "output_type": "execute_result"
    }
   ],
   "source": [
    "baad_2pfts.dropna(subset=['m.lf', 'DBH (cm)'])"
   ]
  },
  {
   "cell_type": "code",
   "execution_count": 41,
   "metadata": {},
   "outputs": [
    {
     "name": "stdout",
     "output_type": "stream",
     "text": [
      "[0.02262068 1.95947429]\n"
     ]
    },
    {
     "data": {
      "text/plain": [
       "[<matplotlib.lines.Line2D at 0x7fad3dfa7d10>]"
      ]
     },
     "execution_count": 41,
     "metadata": {},
     "output_type": "execute_result"
    },
    {
     "data": {
      "image/png": "[encoded data removed]",
      "text/plain": [
       "<Figure size 432x288 with 1 Axes>"
      ]
     },
     "metadata": {
      "needs_background": "light"
     },
     "output_type": "display_data"
    }
   ],
   "source": [
    "baad_mlf = baad_2pfts.dropna(subset=['m.lf', 'DBH (cm)'])\n",
    "leafmass_pars, leafmass_cov = curve_fit(f=carea_2pwr, xdata=baad_mlf['DBH (cm)'], ydata=baad_mlf['m.lf'])\n",
    "print(leafmass_pars)\n",
    "fig = plt.figure()\n",
    "ax = fig.add_axes([0, 0, 1, 1])\n",
    "ax.set_xlabel('dbh (cm)')\n",
    "ax.set_ylabel('leaf mass (kg)')\n",
    "ax.scatter(baad_mlf['DBH (cm)'], baad_mlf['m.lf'], s=40, color='#00b3b3', label='Data')\n",
    "ax.plot(np.arange(140), carea_2pwr(np.arange(140), *leafmass_pars), linestyle='--', linewidth=2, color='black')"
   ]
  },
  {
   "cell_type": "code",
   "execution_count": 268,
   "metadata": {},
   "outputs": [
    {
     "name": "stdout",
     "output_type": "stream",
     "text": [
      "[0.045242   1.95947088]\n"
     ]
    },
    {
     "data": {
      "text/plain": [
       "[<matplotlib.lines.Line2D at 0x7fad53063910>]"
      ]
     },
     "execution_count": 268,
     "metadata": {},
     "output_type": "execute_result"
    },
    {
     "data": {
      "image/png": "[encoded data removed]",
      "text/plain": [
       "<Figure size 432x288 with 1 Axes>"
      ]
     },
     "metadata": {
      "needs_background": "light"
     },
     "output_type": "display_data"
    }
   ],
   "source": [
    "baad_mlf = baad_2pfts.dropna(subset=['m.lf', 'DBH (cm)'])\n",
    "leafmass_pars2, leafmass_cov2 = curve_fit(f=d2blmax_2pwr, xdata=baad_mlf['DBH (cm)'], ydata=baad_mlf['m.lf'])\n",
    "print(leafmass_pars2)\n",
    "fig = plt.figure()\n",
    "ax = fig.add_axes([0, 0, 1, 1])\n",
    "ax.set_xlabel('dbh (cm)')\n",
    "ax.set_ylabel('leaf mass (kg)')\n",
    "ax.scatter(baad_mlf['DBH (cm)'], baad_mlf['m.lf'], s=40, color='#00b3b3', label='Data')\n",
    "ax.plot(np.arange(140), d2blmax_2pwr(np.arange(140), *leafmass_pars2), linestyle='--', linewidth=2, color='black')"
   ]
  },
  {
   "cell_type": "code",
   "execution_count": 43,
   "metadata": {},
   "outputs": [
    {
     "data": {
      "text/html": [
       "<div>\n",
       "<style scoped>\n",
       "    .dataframe tbody tr th:only-of-type {\n",
       "        vertical-align: middle;\n",
       "    }\n",
       "\n",
       "    .dataframe tbody tr th {\n",
       "        vertical-align: top;\n",
       "    }\n",
       "\n",
       "    .dataframe thead th {\n",
       "        text-align: right;\n",
       "    }\n",
       "</style>\n",
       "<table border=\"1\" class=\"dataframe\">\n",
       "  <thead>\n",
       "    <tr style=\"text-align: right;\">\n",
       "      <th></th>\n",
       "      <th>DBH (cm)</th>\n",
       "      <th>m.lf</th>\n",
       "    </tr>\n",
       "  </thead>\n",
       "  <tbody>\n",
       "    <tr>\n",
       "      <th>DBH (cm)</th>\n",
       "      <td>457.129230</td>\n",
       "      <td>611.940991</td>\n",
       "    </tr>\n",
       "    <tr>\n",
       "      <th>m.lf</th>\n",
       "      <td>611.940991</td>\n",
       "      <td>1107.662742</td>\n",
       "    </tr>\n",
       "  </tbody>\n",
       "</table>\n",
       "</div>"
      ],
      "text/plain": [
       "            DBH (cm)         m.lf\n",
       "DBH (cm)  457.129230   611.940991\n",
       "m.lf      611.940991  1107.662742"
      ]
     },
     "execution_count": 43,
     "metadata": {},
     "output_type": "execute_result"
    }
   ],
   "source": [
    "mlf_df = baad_mlf[['DBH (cm)','m.lf']].copy()\n",
    "mlf_cov = mlf_df.cov()\n",
    "mlf_cov"
   ]
  },
  {
   "cell_type": "code",
   "execution_count": 44,
   "metadata": {},
   "outputs": [
    {
     "data": {
      "text/plain": [
       "(array([0.04699126, 0.00677548, 0.00415272, 0.00196708, 0.00218564,\n",
       "        0.00131138, 0.00087426, 0.00065569, 0.00043713, 0.00021856,\n",
       "        0.        , 0.        , 0.00021856, 0.        , 0.00021856]),\n",
       " array([2.65800000e-03, 1.51527208e+01, 3.03027836e+01, 4.54528464e+01,\n",
       "        6.06029092e+01, 7.57529720e+01, 9.09030348e+01, 1.06053098e+02,\n",
       "        1.21203160e+02, 1.36353223e+02, 1.51503286e+02, 1.66653349e+02,\n",
       "        1.81803412e+02, 1.96953474e+02, 2.12103537e+02, 2.27253600e+02]),\n",
       " <a list of 15 Patch objects>)"
      ]
     },
     "execution_count": 44,
     "metadata": {},
     "output_type": "execute_result"
    },
    {
     "data": {
      "image/png": "[encoded data removed]",
      "text/plain": [
       "<Figure size 432x288 with 1 Axes>"
      ]
     },
     "metadata": {
      "needs_background": "light"
     },
     "output_type": "display_data"
    }
   ],
   "source": [
    "plt.hist(baad_2pfts['m.lf'].dropna(), bins=15, density=True)"
   ]
  },
  {
   "cell_type": "code",
   "execution_count": 45,
   "metadata": {},
   "outputs": [
    {
     "data": {
      "text/plain": [
       "count    302.000000\n",
       "mean      17.691518\n",
       "std       31.310988\n",
       "min        0.002658\n",
       "25%        0.475628\n",
       "50%        4.110000\n",
       "75%       18.165588\n",
       "max      227.253600\n",
       "Name: m.lf, dtype: float64"
      ]
     },
     "execution_count": 45,
     "metadata": {},
     "output_type": "execute_result"
    }
   ],
   "source": [
    "baad_2pfts['m.lf'].describe()"
   ]
  },
  {
   "cell_type": "code",
   "execution_count": 46,
   "metadata": {},
   "outputs": [
    {
     "data": {
      "text/plain": [
       "count    302.000000\n",
       "mean       1.054723\n",
       "std        2.409439\n",
       "min       -5.930181\n",
       "25%       -0.743270\n",
       "50%        1.413420\n",
       "75%        2.899524\n",
       "max        5.426067\n",
       "Name: m.lf, dtype: float64"
      ]
     },
     "execution_count": 46,
     "metadata": {},
     "output_type": "execute_result"
    }
   ],
   "source": [
    "mlf_log = np.log(baad_2pfts['m.lf'])\n",
    "mlf_log.describe()"
   ]
  },
  {
   "cell_type": "markdown",
   "metadata": {},
   "source": [
    "### From the distributions of the leaf and crown data generate samples to then calculate parameter values from"
   ]
  },
  {
   "cell_type": "code",
   "execution_count": 47,
   "metadata": {},
   "outputs": [],
   "source": [
    "acp = np.random.lognormal(mean=0.453849, sigma=2.017091, size=100)\n",
    "#plt.hist(acp, bins=100)\n",
    "#plt.show()"
   ]
  },
  {
   "cell_type": "code",
   "execution_count": 48,
   "metadata": {},
   "outputs": [],
   "source": [
    "alf = np.random.lognormal(mean=3.060019, sigma=2.225335, size=100)\n",
    "#plt.hist(alf, bins=100)\n",
    "#plt.show()"
   ]
  },
  {
   "cell_type": "code",
   "execution_count": 49,
   "metadata": {},
   "outputs": [],
   "source": [
    "mlf = np.random.lognormal(mean=1.054723, sigma=2.409439, size=100)\n",
    "#plt.hist(mlf, bins=100)\n",
    "#plt.show()"
   ]
  },
  {
   "cell_type": "code",
   "execution_count": 50,
   "metadata": {},
   "outputs": [
    {
     "data": {
      "text/plain": [
       "0.0"
      ]
     },
     "execution_count": 50,
     "metadata": {},
     "output_type": "execute_result"
    }
   ],
   "source": [
    "np.log(1)"
   ]
  },
  {
   "cell_type": "markdown",
   "metadata": {},
   "source": [
    "### 3.3 Diameter to above ground biomass (d2bagw)\n",
    "Here I will test the Chojnacky (2014), the Saldarriaga et al. (1998) and the FATES 2 parameter power functions."
   ]
  },
  {
   "cell_type": "code",
   "execution_count": 51,
   "metadata": {},
   "outputs": [],
   "source": [
    "# From Delucia (2000), in montane ponderosa pine at dbh=50, agb=945. We will use this as a guide.\n",
    "# We need to create an objective/cost function. Use RMSE for now.\n",
    "\n",
    "def RMSE_d2bagw(agb_mod):\n",
    "    RMSE_d2bagw = np.sqrt(np.mean((agb_mod-agb_obs)**2)) \n",
    "    return RMSE_d2bagw\n",
    "\n",
    "# For d2abagw we will calculate the "
   ]
  },
  {
   "cell_type": "code",
   "execution_count": 63,
   "metadata": {},
   "outputs": [
    {
     "name": "stdout",
     "output_type": "stream",
     "text": [
      "agb_choj = 1119.6173798341167 agb_pow= 597.720312368773\n"
     ]
    }
   ],
   "source": [
    "# Test the functions at dbh=50 to find RMSE for observed agb at dbh 50.\n",
    "dbh_bagw = 50\n",
    "agb_obs=945\n",
    "allom_frac=0.6\n",
    "c2b=2\n",
    "\n",
    "# Chojnacky with default parameters for pines with density < 0.45\n",
    "agb_choj = d2bagw_choj(dbh_bagw,-2.6177,2.4638)\n",
    "\n",
    "# Saldarriaga with default parameters\n",
    "#agb_sal = d2bagw_sal(dbh_bagw,0.284,0.57,1.94,1)\n",
    "\n",
    "# 2-parameter with default parameters\n",
    "agb_pow = d2bagw_pow(dbh_bagw,0.1,2.4)\n",
    "\n",
    "#print(\"agb_choj =\", agb_choj, \"agb_sal=\",agb_sal,\"agb_pow=\",agb_pow)\n",
    "print(\"agb_choj =\", agb_choj, \"agb_pow=\",agb_pow)"
   ]
  },
  {
   "cell_type": "code",
   "execution_count": 64,
   "metadata": {},
   "outputs": [
    {
     "name": "stdout",
     "output_type": "stream",
     "text": [
      "choj RMSE= 174.61737983411672 , power RMSE= 347.27968763122703\n"
     ]
    }
   ],
   "source": [
    "# Calculate the RMSE for each of the functions\n",
    "\n",
    "RMSE_choj = RMSE_d2bagw(agb_choj)\n",
    "\n",
    "#RMSE_sal = RMSE_d2bagw(agb_sal)\n",
    "\n",
    "RMSE_pow = RMSE_d2bagw(agb_pow)\n",
    "\n",
    "#print(\"choj RMSE=\",RMSE_choj,\", sal RMSE=\",RMSE_sal,\", power RMSE=\",RMSE_pow)\n",
    "print(\"choj RMSE=\",RMSE_choj,\", power RMSE=\",RMSE_pow)"
   ]
  },
  {
   "cell_type": "markdown",
   "metadata": {},
   "source": [
    "Well, they are all terrible.  How can I make them fit better?"
   ]
  },
  {
   "cell_type": "code",
   "execution_count": 69,
   "metadata": {},
   "outputs": [
    {
     "data": {
      "text/plain": [
       "218.40367110124382"
      ]
     },
     "execution_count": 69,
     "metadata": {},
     "output_type": "execute_result"
    }
   ],
   "source": [
    "# From the FIA data, calculate per acre above ground caron by multiplying the CARBON_AG * TPA_UNADJ\n",
    "\n",
    "# Drop rows with na for CARBON_AG == 0.000\n",
    "fia_agb = fia_2pfts.dropna(subset = ['DRYBIO_BG']).copy()\n",
    "\n",
    "fia_agb['AGB'] = (fia_agb['CARBON_AG'] * fia_agb['TPA_UNADJ'])\n",
    "\n",
    "# Convert lbC/ac to gC/m^2 to match FATES\n",
    "\n",
    "fia_agb['AGB'] = (fia_agb['AGB'].values * 453.592 * 0.000247105)\n",
    "fia_agb['AGB'].mean()\n"
   ]
  },
  {
   "cell_type": "code",
   "execution_count": 66,
   "metadata": {},
   "outputs": [
    {
     "data": {
      "text/plain": [
       "<matplotlib.collections.PathCollection at 0x7fad40aa9990>"
      ]
     },
     "execution_count": 66,
     "metadata": {},
     "output_type": "execute_result"
    },
    {
     "data": {
      "image/png": "[encoded data removed]",
      "text/plain": [
       "<Figure size 432x288 with 1 Axes>"
      ]
     },
     "metadata": {
      "needs_background": "light"
     },
     "output_type": "display_data"
    }
   ],
   "source": [
    "fig = plt.figure()\n",
    "ax = fig.add_axes([0, 0, 1, 1])\n",
    "ax.set_xlabel('dbh')\n",
    "ax.set_ylabel('AGB (lbC/tree)')\n",
    "ax.scatter(fia_2pfts['DBH (cm)'], fia_2pfts['CARBON_AG'], s=40, color='#00b3b3', label='Data')"
   ]
  },
  {
   "cell_type": "code",
   "execution_count": 70,
   "metadata": {},
   "outputs": [
    {
     "data": {
      "text/plain": [
       "<matplotlib.collections.PathCollection at 0x7fad40acd490>"
      ]
     },
     "execution_count": 70,
     "metadata": {},
     "output_type": "execute_result"
    },
    {
     "data": {
      "image/png": "[encoded data removed]",
      "text/plain": [
       "<Figure size 432x288 with 1 Axes>"
      ]
     },
     "metadata": {
      "needs_background": "light"
     },
     "output_type": "display_data"
    }
   ],
   "source": [
    "fig = plt.figure()\n",
    "ax = fig.add_axes([0, 0, 1, 1])\n",
    "ax.set_xlabel('dbh')\n",
    "ax.set_ylabel('AGB (gC/m^2)')\n",
    "#ax.scatter(fia_agb['DBH (cm)'], fia_agb['AGB'], s=40, color='#00b3b3', label='Data')\n",
    "ax.scatter(fia_agb['DBH (cm)'], fia_agb['AGB'], s=40, color='#00b3b3', label='Data')\n"
   ]
  },
  {
   "cell_type": "code",
   "execution_count": 71,
   "metadata": {},
   "outputs": [],
   "source": [
    "fia_pft1 = fia_agb.loc[(fia_2pfts['SPCD'] == 122) | (fia_agb['SPCD'] == 119) | (fia_agb['SPCD'] == 108)]\n",
    "fia_pft4 = fia_agb.loc[(fia_2pfts['SPCD'] == 263) | (fia_agb['SPCD'] == 202)]"
   ]
  },
  {
   "cell_type": "code",
   "execution_count": 72,
   "metadata": {},
   "outputs": [
    {
     "data": {
      "text/plain": [
       "<matplotlib.collections.PathCollection at 0x7fad43d17c90>"
      ]
     },
     "execution_count": 72,
     "metadata": {},
     "output_type": "execute_result"
    },
    {
     "data": {
      "image/png": "[encoded data removed]",
      "text/plain": [
       "<Figure size 432x288 with 1 Axes>"
      ]
     },
     "metadata": {
      "needs_background": "light"
     },
     "output_type": "display_data"
    }
   ],
   "source": [
    "fig = plt.figure()\n",
    "ax = fig.add_axes([0, 0, 1, 1])\n",
    "ax.set_xlabel('dbh')\n",
    "ax.set_ylabel('AGB (gC/m^2)')\n",
    "ax.scatter(fia_pft1['DBH (cm)'], fia_pft1['AGB'], s=40, color='#00b3b3', label='Data')\n",
    "ax.scatter(fia_pft4['DBH (cm)'], fia_pft4['AGB'], s=40, color='#ffa500', label='Data')"
   ]
  },
  {
   "cell_type": "code",
   "execution_count": 73,
   "metadata": {},
   "outputs": [
    {
     "data": {
      "text/html": [
       "<div>\n",
       "<style scoped>\n",
       "    .dataframe tbody tr th:only-of-type {\n",
       "        vertical-align: middle;\n",
       "    }\n",
       "\n",
       "    .dataframe tbody tr th {\n",
       "        vertical-align: top;\n",
       "    }\n",
       "\n",
       "    .dataframe thead th {\n",
       "        text-align: right;\n",
       "    }\n",
       "</style>\n",
       "<table border=\"1\" class=\"dataframe\">\n",
       "  <thead>\n",
       "    <tr style=\"text-align: right;\">\n",
       "      <th></th>\n",
       "      <th>PLT_CN</th>\n",
       "      <th>COUNTYCD</th>\n",
       "      <th>INVYR</th>\n",
       "      <th>CONDID</th>\n",
       "      <th>AZIMUTH</th>\n",
       "      <th>SPCD</th>\n",
       "      <th>SPGRPCD</th>\n",
       "      <th>DIA</th>\n",
       "      <th>HT</th>\n",
       "      <th>CR</th>\n",
       "      <th>...</th>\n",
       "      <th>TPA_UNADJ</th>\n",
       "      <th>DRYBIO_BG</th>\n",
       "      <th>CARBON_AG</th>\n",
       "      <th>CARBON_BG</th>\n",
       "      <th>DRYBIO_AG</th>\n",
       "      <th>SPECIES</th>\n",
       "      <th>HT (m)</th>\n",
       "      <th>DBH (cm)</th>\n",
       "      <th>DBH (m)</th>\n",
       "      <th>AGB</th>\n",
       "    </tr>\n",
       "  </thead>\n",
       "  <tbody>\n",
       "    <tr>\n",
       "      <th>0</th>\n",
       "      <td>3156095010690</td>\n",
       "      <td>9</td>\n",
       "      <td>1991</td>\n",
       "      <td>1</td>\n",
       "      <td>89.0</td>\n",
       "      <td>202</td>\n",
       "      <td>10</td>\n",
       "      <td>10.6</td>\n",
       "      <td>57.0</td>\n",
       "      <td>65.0</td>\n",
       "      <td>...</td>\n",
       "      <td>13.054000</td>\n",
       "      <td>110.124965</td>\n",
       "      <td>240.460065</td>\n",
       "      <td>55.062483</td>\n",
       "      <td>NaN</td>\n",
       "      <td>doug-fir</td>\n",
       "      <td>17.3736</td>\n",
       "      <td>26.924</td>\n",
       "      <td>0.26924</td>\n",
       "      <td>351.830502</td>\n",
       "    </tr>\n",
       "    <tr>\n",
       "      <th>1</th>\n",
       "      <td>3156095010690</td>\n",
       "      <td>9</td>\n",
       "      <td>1991</td>\n",
       "      <td>1</td>\n",
       "      <td>133.0</td>\n",
       "      <td>202</td>\n",
       "      <td>10</td>\n",
       "      <td>6.8</td>\n",
       "      <td>45.0</td>\n",
       "      <td>45.0</td>\n",
       "      <td>...</td>\n",
       "      <td>31.720993</td>\n",
       "      <td>37.630405</td>\n",
       "      <td>80.531243</td>\n",
       "      <td>18.815203</td>\n",
       "      <td>NaN</td>\n",
       "      <td>doug-fir</td>\n",
       "      <td>13.7160</td>\n",
       "      <td>17.272</td>\n",
       "      <td>0.17272</td>\n",
       "      <td>286.324226</td>\n",
       "    </tr>\n",
       "    <tr>\n",
       "      <th>3</th>\n",
       "      <td>3156095010690</td>\n",
       "      <td>9</td>\n",
       "      <td>1991</td>\n",
       "      <td>1</td>\n",
       "      <td>253.0</td>\n",
       "      <td>202</td>\n",
       "      <td>10</td>\n",
       "      <td>20.7</td>\n",
       "      <td>87.0</td>\n",
       "      <td>75.0</td>\n",
       "      <td>...</td>\n",
       "      <td>3.423000</td>\n",
       "      <td>568.025095</td>\n",
       "      <td>1261.636193</td>\n",
       "      <td>284.012548</td>\n",
       "      <td>NaN</td>\n",
       "      <td>doug-fir</td>\n",
       "      <td>26.5176</td>\n",
       "      <td>52.578</td>\n",
       "      <td>0.52578</td>\n",
       "      <td>484.047474</td>\n",
       "    </tr>\n",
       "    <tr>\n",
       "      <th>4</th>\n",
       "      <td>3156095010690</td>\n",
       "      <td>9</td>\n",
       "      <td>1991</td>\n",
       "      <td>1</td>\n",
       "      <td>285.0</td>\n",
       "      <td>202</td>\n",
       "      <td>10</td>\n",
       "      <td>17.3</td>\n",
       "      <td>78.0</td>\n",
       "      <td>75.0</td>\n",
       "      <td>...</td>\n",
       "      <td>4.901000</td>\n",
       "      <td>368.684807</td>\n",
       "      <td>816.035383</td>\n",
       "      <td>184.342404</td>\n",
       "      <td>NaN</td>\n",
       "      <td>doug-fir</td>\n",
       "      <td>23.7744</td>\n",
       "      <td>43.942</td>\n",
       "      <td>0.43942</td>\n",
       "      <td>448.270967</td>\n",
       "    </tr>\n",
       "    <tr>\n",
       "      <th>5</th>\n",
       "      <td>3156095010690</td>\n",
       "      <td>9</td>\n",
       "      <td>1991</td>\n",
       "      <td>1</td>\n",
       "      <td>47.0</td>\n",
       "      <td>202</td>\n",
       "      <td>10</td>\n",
       "      <td>1.4</td>\n",
       "      <td>12.0</td>\n",
       "      <td>25.0</td>\n",
       "      <td>...</td>\n",
       "      <td>60.000000</td>\n",
       "      <td>0.698412</td>\n",
       "      <td>1.129724</td>\n",
       "      <td>0.349206</td>\n",
       "      <td>NaN</td>\n",
       "      <td>doug-fir</td>\n",
       "      <td>3.6576</td>\n",
       "      <td>3.556</td>\n",
       "      <td>0.03556</td>\n",
       "      <td>7.597497</td>\n",
       "    </tr>\n",
       "    <tr>\n",
       "      <th>...</th>\n",
       "      <td>...</td>\n",
       "      <td>...</td>\n",
       "      <td>...</td>\n",
       "      <td>...</td>\n",
       "      <td>...</td>\n",
       "      <td>...</td>\n",
       "      <td>...</td>\n",
       "      <td>...</td>\n",
       "      <td>...</td>\n",
       "      <td>...</td>\n",
       "      <td>...</td>\n",
       "      <td>...</td>\n",
       "      <td>...</td>\n",
       "      <td>...</td>\n",
       "      <td>...</td>\n",
       "      <td>...</td>\n",
       "      <td>...</td>\n",
       "      <td>...</td>\n",
       "      <td>...</td>\n",
       "      <td>...</td>\n",
       "      <td>...</td>\n",
       "    </tr>\n",
       "    <tr>\n",
       "      <th>269937</th>\n",
       "      <td>354845607489998</td>\n",
       "      <td>81</td>\n",
       "      <td>2019</td>\n",
       "      <td>1</td>\n",
       "      <td>305.0</td>\n",
       "      <td>108</td>\n",
       "      <td>21</td>\n",
       "      <td>5.3</td>\n",
       "      <td>30.0</td>\n",
       "      <td>80.0</td>\n",
       "      <td>...</td>\n",
       "      <td>6.018046</td>\n",
       "      <td>11.534544</td>\n",
       "      <td>24.284499</td>\n",
       "      <td>5.767272</td>\n",
       "      <td>48.568998</td>\n",
       "      <td>lodge_pine</td>\n",
       "      <td>9.1440</td>\n",
       "      <td>13.462</td>\n",
       "      <td>0.13462</td>\n",
       "      <td>16.380667</td>\n",
       "    </tr>\n",
       "    <tr>\n",
       "      <th>269938</th>\n",
       "      <td>354845607489998</td>\n",
       "      <td>81</td>\n",
       "      <td>2019</td>\n",
       "      <td>1</td>\n",
       "      <td>356.0</td>\n",
       "      <td>108</td>\n",
       "      <td>21</td>\n",
       "      <td>5.6</td>\n",
       "      <td>20.0</td>\n",
       "      <td>75.0</td>\n",
       "      <td>...</td>\n",
       "      <td>6.018046</td>\n",
       "      <td>8.629705</td>\n",
       "      <td>18.241712</td>\n",
       "      <td>4.314853</td>\n",
       "      <td>36.483424</td>\n",
       "      <td>lodge_pine</td>\n",
       "      <td>6.0960</td>\n",
       "      <td>14.224</td>\n",
       "      <td>0.14224</td>\n",
       "      <td>12.304615</td>\n",
       "    </tr>\n",
       "    <tr>\n",
       "      <th>269939</th>\n",
       "      <td>354845607489998</td>\n",
       "      <td>81</td>\n",
       "      <td>2019</td>\n",
       "      <td>1</td>\n",
       "      <td>186.0</td>\n",
       "      <td>202</td>\n",
       "      <td>10</td>\n",
       "      <td>15.1</td>\n",
       "      <td>47.0</td>\n",
       "      <td>75.0</td>\n",
       "      <td>...</td>\n",
       "      <td>6.018046</td>\n",
       "      <td>163.560614</td>\n",
       "      <td>360.897561</td>\n",
       "      <td>81.780307</td>\n",
       "      <td>721.795121</td>\n",
       "      <td>doug-fir</td>\n",
       "      <td>14.3256</td>\n",
       "      <td>38.354</td>\n",
       "      <td>0.38354</td>\n",
       "      <td>243.436878</td>\n",
       "    </tr>\n",
       "    <tr>\n",
       "      <th>269942</th>\n",
       "      <td>354845607489998</td>\n",
       "      <td>81</td>\n",
       "      <td>2019</td>\n",
       "      <td>1</td>\n",
       "      <td>234.0</td>\n",
       "      <td>108</td>\n",
       "      <td>21</td>\n",
       "      <td>6.2</td>\n",
       "      <td>32.0</td>\n",
       "      <td>75.0</td>\n",
       "      <td>...</td>\n",
       "      <td>6.018046</td>\n",
       "      <td>19.063873</td>\n",
       "      <td>40.572438</td>\n",
       "      <td>9.531937</td>\n",
       "      <td>81.144876</td>\n",
       "      <td>lodge_pine</td>\n",
       "      <td>9.7536</td>\n",
       "      <td>15.748</td>\n",
       "      <td>0.15748</td>\n",
       "      <td>27.367399</td>\n",
       "    </tr>\n",
       "    <tr>\n",
       "      <th>269943</th>\n",
       "      <td>354845607489998</td>\n",
       "      <td>81</td>\n",
       "      <td>2019</td>\n",
       "      <td>1</td>\n",
       "      <td>343.0</td>\n",
       "      <td>108</td>\n",
       "      <td>21</td>\n",
       "      <td>5.3</td>\n",
       "      <td>22.0</td>\n",
       "      <td>90.0</td>\n",
       "      <td>...</td>\n",
       "      <td>6.018046</td>\n",
       "      <td>8.149632</td>\n",
       "      <td>17.158002</td>\n",
       "      <td>4.074816</td>\n",
       "      <td>34.316004</td>\n",
       "      <td>lodge_pine</td>\n",
       "      <td>6.7056</td>\n",
       "      <td>13.462</td>\n",
       "      <td>0.13462</td>\n",
       "      <td>11.573618</td>\n",
       "    </tr>\n",
       "  </tbody>\n",
       "</table>\n",
       "<p>118052 rows × 23 columns</p>\n",
       "</div>"
      ],
      "text/plain": [
       "                 PLT_CN  COUNTYCD  INVYR  CONDID  AZIMUTH  SPCD  SPGRPCD  \\\n",
       "0         3156095010690         9   1991       1     89.0   202       10   \n",
       "1         3156095010690         9   1991       1    133.0   202       10   \n",
       "3         3156095010690         9   1991       1    253.0   202       10   \n",
       "4         3156095010690         9   1991       1    285.0   202       10   \n",
       "5         3156095010690         9   1991       1     47.0   202       10   \n",
       "...                 ...       ...    ...     ...      ...   ...      ...   \n",
       "269937  354845607489998        81   2019       1    305.0   108       21   \n",
       "269938  354845607489998        81   2019       1    356.0   108       21   \n",
       "269939  354845607489998        81   2019       1    186.0   202       10   \n",
       "269942  354845607489998        81   2019       1    234.0   108       21   \n",
       "269943  354845607489998        81   2019       1    343.0   108       21   \n",
       "\n",
       "         DIA    HT    CR  ...  TPA_UNADJ   DRYBIO_BG    CARBON_AG   CARBON_BG  \\\n",
       "0       10.6  57.0  65.0  ...  13.054000  110.124965   240.460065   55.062483   \n",
       "1        6.8  45.0  45.0  ...  31.720993   37.630405    80.531243   18.815203   \n",
       "3       20.7  87.0  75.0  ...   3.423000  568.025095  1261.636193  284.012548   \n",
       "4       17.3  78.0  75.0  ...   4.901000  368.684807   816.035383  184.342404   \n",
       "5        1.4  12.0  25.0  ...  60.000000    0.698412     1.129724    0.349206   \n",
       "...      ...   ...   ...  ...        ...         ...          ...         ...   \n",
       "269937   5.3  30.0  80.0  ...   6.018046   11.534544    24.284499    5.767272   \n",
       "269938   5.6  20.0  75.0  ...   6.018046    8.629705    18.241712    4.314853   \n",
       "269939  15.1  47.0  75.0  ...   6.018046  163.560614   360.897561   81.780307   \n",
       "269942   6.2  32.0  75.0  ...   6.018046   19.063873    40.572438    9.531937   \n",
       "269943   5.3  22.0  90.0  ...   6.018046    8.149632    17.158002    4.074816   \n",
       "\n",
       "         DRYBIO_AG     SPECIES   HT (m)  DBH (cm)  DBH (m)         AGB  \n",
       "0              NaN    doug-fir  17.3736    26.924  0.26924  351.830502  \n",
       "1              NaN    doug-fir  13.7160    17.272  0.17272  286.324226  \n",
       "3              NaN    doug-fir  26.5176    52.578  0.52578  484.047474  \n",
       "4              NaN    doug-fir  23.7744    43.942  0.43942  448.270967  \n",
       "5              NaN    doug-fir   3.6576     3.556  0.03556    7.597497  \n",
       "...            ...         ...      ...       ...      ...         ...  \n",
       "269937   48.568998  lodge_pine   9.1440    13.462  0.13462   16.380667  \n",
       "269938   36.483424  lodge_pine   6.0960    14.224  0.14224   12.304615  \n",
       "269939  721.795121    doug-fir  14.3256    38.354  0.38354  243.436878  \n",
       "269942   81.144876  lodge_pine   9.7536    15.748  0.15748   27.367399  \n",
       "269943   34.316004  lodge_pine   6.7056    13.462  0.13462   11.573618  \n",
       "\n",
       "[118052 rows x 23 columns]"
      ]
     },
     "execution_count": 73,
     "metadata": {},
     "output_type": "execute_result"
    }
   ],
   "source": [
    "fia_agb = fia_agb.dropna(subset=['AGB', 'DBH (cm)'])\n",
    "fia_agb"
   ]
  },
  {
   "cell_type": "code",
   "execution_count": 74,
   "metadata": {},
   "outputs": [
    {
     "name": "stdout",
     "output_type": "stream",
     "text": [
      "[0.89355118 1.36203131]\n",
      "[0.72792586 0.9359454  1.36203084 1.42626814]\n",
      "[4.88700458 1.36206117]\n"
     ]
    },
    {
     "name": "stderr",
     "output_type": "stream",
     "text": [
      "/Users/kathrynmurenbeeld/opt/anaconda3/lib/python3.7/site-packages/ipykernel_launcher.py:35: RuntimeWarning: divide by zero encountered in log\n"
     ]
    },
    {
     "data": {
      "text/plain": [
       "<matplotlib.legend.Legend at 0x7fad43db9b10>"
      ]
     },
     "execution_count": 74,
     "metadata": {},
     "output_type": "execute_result"
    },
    {
     "data": {
      "image/png": "[encoded data removed]",
      "text/plain": [
       "<Figure size 432x288 with 1 Axes>"
      ]
     },
     "metadata": {
      "needs_background": "light"
     },
     "output_type": "display_data"
    }
   ],
   "source": [
    "#fia_agb = fia_2pfts.dropna(subset=['AGB', 'DBH (cm)'])\n",
    "\n",
    "# Define constants for the functions\n",
    "\n",
    "# In d2bagw_sal\n",
    "allom_frac = 0.6 \n",
    "rho = 0.367 # Density of tree from USDA Survey of Tree Density, value for S. Idaho ponderosa pine\n",
    "h_sal_mod = 29 # Observed height at dbh=50 from baad\n",
    "# In d2bagw_pow\n",
    "c2b = 2\n",
    "\n",
    "pars_choj, cov_choj = curve_fit(f=d2bagw_choj, xdata=fia_agb['DBH (cm)'], ydata=fia_agb['AGB'])\n",
    "print(pars_choj)\n",
    "pars_sal, cov_sal = curve_fit(f=d2bagw_sal, xdata=fia_agb['DBH (cm)'], ydata=fia_agb['AGB'])\n",
    "print(pars_sal)\n",
    "pars_pow, cov_pow = curve_fit(f=d2bagw_pow, xdata=fia_agb['DBH (cm)'], ydata=fia_agb['AGB'])\n",
    "print(pars_pow)\n",
    "\n",
    "fig = plt.figure()\n",
    "ax = fig.add_axes([0, 0, 1, 1])\n",
    "ax.set_xlabel('dbh (cm)')\n",
    "ax.set_ylabel('AGB (gC/m^2)')\n",
    "ax.scatter(fia_agb['DBH (cm)'], fia_agb['AGB'], s=40, color='#00b3b3', label='Data')\n",
    "ax.plot(np.arange(140), d2bagw_choj(np.arange(140), *pars_choj), linestyle='-.', linewidth=2, color='black', label=\"Chojnacky\")\n",
    "ax.plot(np.arange(140), d2bagw_sal(np.arange(140), *pars_sal), linestyle='--', linewidth=2, color='orange', label=\"Saldriagga\")\n",
    "ax.plot(np.arange(140), d2bagw_pow(np.arange(140), *pars_pow), linestyle='--', linewidth=2, color='blue', label=\"2-param power\")\n",
    "\n",
    "ax.legend()\n",
    "\n"
   ]
  },
  {
   "cell_type": "code",
   "execution_count": 75,
   "metadata": {},
   "outputs": [],
   "source": [
    "## Something happened to the AGB with the conversion from lbC/tree to gC/m^2. Scewing the parameters. \n",
    "## Maybe mask for dbh>75 & agb <1000?\n",
    "## I think just don't worry about the d2agb parameters."
   ]
  },
  {
   "cell_type": "code",
   "execution_count": 76,
   "metadata": {},
   "outputs": [
    {
     "name": "stdout",
     "output_type": "stream",
     "text": [
      "[-1.53024522  2.15347754]\n",
      "[0.09186371 0.84767401 2.15347752 1.48279119]\n",
      "[0.43296559 2.1534773 ]\n"
     ]
    },
    {
     "name": "stderr",
     "output_type": "stream",
     "text": [
      "/Users/kathrynmurenbeeld/opt/anaconda3/lib/python3.7/site-packages/ipykernel_launcher.py:35: RuntimeWarning: divide by zero encountered in log\n"
     ]
    },
    {
     "data": {
      "text/plain": [
       "<matplotlib.legend.Legend at 0x7fad44eac510>"
      ]
     },
     "execution_count": 76,
     "metadata": {},
     "output_type": "execute_result"
    },
    {
     "data": {
      "image/png": "[encoded data removed]",
      "text/plain": [
       "<Figure size 432x288 with 1 Axes>"
      ]
     },
     "metadata": {
      "needs_background": "light"
     },
     "output_type": "display_data"
    }
   ],
   "source": [
    "fia_cag = fia_2pfts.dropna(subset=['CARBON_AG', 'DBH (cm)'])\n",
    "\n",
    "# Define constants for the functions\n",
    "\n",
    "# In d2bagw_sal\n",
    "allom_frac = 0.6 \n",
    "rho = 0.367 # Density of tree from USDA Survey of Tree Density, value for S. Idaho ponderosa pine\n",
    "h_sal_mod = 29 # Observed height at dbh=50 from baad\n",
    "# In d2bagw_pow\n",
    "c2b = 2\n",
    "\n",
    "pars_choj, cov_choj = curve_fit(f=d2bagw_choj, xdata=fia_cag['DBH (cm)'], ydata=fia_cag['CARBON_AG'])\n",
    "print(pars_choj)\n",
    "pars_sal, cov_sal = curve_fit(f=d2bagw_sal, xdata=fia_cag['DBH (cm)'], ydata=fia_cag['CARBON_AG'])\n",
    "print(pars_sal)\n",
    "pars_pow, cov_pow = curve_fit(f=d2bagw_pow, xdata=fia_cag['DBH (cm)'], ydata=fia_cag['CARBON_AG'])\n",
    "print(pars_pow)\n",
    "\n",
    "fig = plt.figure()\n",
    "ax = fig.add_axes([0, 0, 1, 1])\n",
    "ax.set_xlabel('dbh (cm)')\n",
    "ax.set_ylabel('AGB (lbC/tree)')\n",
    "ax.scatter(fia_cag['DBH (cm)'], fia_cag['CARBON_AG'], s=40, color='#00b3b3', label='Data')\n",
    "ax.plot(np.arange(140), d2bagw_choj(np.arange(140), *pars_choj), linestyle='-.', linewidth=2, color='black', label=\"Chojnacky\")\n",
    "ax.plot(np.arange(140), d2bagw_sal(np.arange(140), *pars_sal), linestyle='--', linewidth=2, color='orange', label=\"Saldriagga\")\n",
    "ax.plot(np.arange(140), d2bagw_pow(np.arange(140), *pars_pow), linestyle='--', linewidth=2, color='blue', label=\"2-param power\")\n",
    "\n",
    "ax.legend()\n",
    "\n"
   ]
  },
  {
   "cell_type": "markdown",
   "metadata": {},
   "source": [
    "### For the d2ca, d2blmax, and d2agb chose a mean and variance and ramdonly sample 100 times. These will be brought over to the SCGSR Trait Matrix"
   ]
  },
  {
   "cell_type": "code",
   "execution_count": 264,
   "metadata": {},
   "outputs": [],
   "source": [
    "# Dbh to project crown area, 2pwr\n",
    "d2ca_p1 = crownarea_pars[0]\n",
    "d2ca_p2 = crownarea_pars[1]\n",
    "# Dbh to leaf area, 2pwr\n",
    "d2la_p1 = leafarea_pars[0]\n",
    "d2la_p2 = leafarea_pars[1]\n",
    "\n",
    "# d2lf_ediff = crown area p2 - leaf area p2\n",
    "crown_exp_diff = crownarea_pars[1] - leafarea_pars[1]\n",
    "\n",
    "# d2leaf mass, carea 2pwr\n",
    "d2blmax_ca_p1 = leafmass_pars[0]\n",
    "d2blmax_ca_p2 = leafmass_pars[1]\n",
    "\n",
    "# Dbh to leaf biomass d2blmax, 2pwr\n",
    "d2blmax_p1 = leafmass_pars2[0]\n",
    "d2blmax_p2 = leafmass_pars2[1] # crown_to_dbh_exp(crownare_exp)\n"
   ]
  },
  {
   "cell_type": "code",
   "execution_count": 267,
   "metadata": {},
   "outputs": [
    {
     "name": "stdout",
     "output_type": "stream",
     "text": [
      "0.04524200489706767 1.9594708797115525\n"
     ]
    }
   ],
   "source": [
    "print(d2blmax_p1, d2blmax_p2)"
   ]
  },
  {
   "cell_type": "code",
   "execution_count": 229,
   "metadata": {},
   "outputs": [],
   "source": [
    "# could create a range of p1 and p2, then a for loop to recalculate crown area or leaf \n",
    "# random\n",
    "random.seed(10)\n",
    "\n",
    "d2ca_p1_rand = np.random.normal(loc=d2ca_p1, scale=(d2ca_p1/10), size=100)\n",
    "d2ca_p2_rand = np.random.normal(loc=d2ca_p2, scale=(d2ca_p2/10), size=100)\n"
   ]
  },
  {
   "cell_type": "code",
   "execution_count": 95,
   "metadata": {},
   "outputs": [
    {
     "data": {
      "text/html": [
       "<div>\n",
       "<style scoped>\n",
       "    .dataframe tbody tr th:only-of-type {\n",
       "        vertical-align: middle;\n",
       "    }\n",
       "\n",
       "    .dataframe tbody tr th {\n",
       "        vertical-align: top;\n",
       "    }\n",
       "\n",
       "    .dataframe thead th {\n",
       "        text-align: right;\n",
       "    }\n",
       "</style>\n",
       "<table border=\"1\" class=\"dataframe\">\n",
       "  <thead>\n",
       "    <tr style=\"text-align: right;\">\n",
       "      <th></th>\n",
       "      <th>d2ca_p1</th>\n",
       "      <th>d2ca_p2</th>\n",
       "    </tr>\n",
       "  </thead>\n",
       "  <tbody>\n",
       "    <tr>\n",
       "      <th>0</th>\n",
       "      <td>0.061404</td>\n",
       "      <td>1.551010</td>\n",
       "    </tr>\n",
       "    <tr>\n",
       "      <th>1</th>\n",
       "      <td>0.055723</td>\n",
       "      <td>1.928905</td>\n",
       "    </tr>\n",
       "    <tr>\n",
       "      <th>2</th>\n",
       "      <td>0.073851</td>\n",
       "      <td>1.661455</td>\n",
       "    </tr>\n",
       "    <tr>\n",
       "      <th>3</th>\n",
       "      <td>0.058962</td>\n",
       "      <td>1.324716</td>\n",
       "    </tr>\n",
       "    <tr>\n",
       "      <th>4</th>\n",
       "      <td>0.059590</td>\n",
       "      <td>1.511618</td>\n",
       "    </tr>\n",
       "  </tbody>\n",
       "</table>\n",
       "</div>"
      ],
      "text/plain": [
       "    d2ca_p1   d2ca_p2\n",
       "0  0.061404  1.551010\n",
       "1  0.055723  1.928905\n",
       "2  0.073851  1.661455\n",
       "3  0.058962  1.324716\n",
       "4  0.059590  1.511618"
      ]
     },
     "execution_count": 95,
     "metadata": {},
     "output_type": "execute_result"
    }
   ],
   "source": [
    "d2ca_params = pd.DataFrame({'d2ca_p1': d2ca_p1_rand, 'd2ca_p2': d2ca_p2_rand}, columns = ['d2ca_p1', 'd2ca_p2'])\n",
    "d2ca_params.head()"
   ]
  },
  {
   "cell_type": "code",
   "execution_count": 246,
   "metadata": {},
   "outputs": [],
   "source": [
    "# random\n",
    "random.seed(10)\n",
    "\n",
    "d2la_p1_rand = np.random.normal(loc=d2la_p1, scale=(d2la_p1/10), size=100)\n",
    "d2la_p2_rand = np.random.normal(loc=d2la_p2, scale=(d2la_p2/10), size=100)"
   ]
  },
  {
   "cell_type": "code",
   "execution_count": 247,
   "metadata": {},
   "outputs": [
    {
     "data": {
      "text/html": [
       "<div>\n",
       "<style scoped>\n",
       "    .dataframe tbody tr th:only-of-type {\n",
       "        vertical-align: middle;\n",
       "    }\n",
       "\n",
       "    .dataframe tbody tr th {\n",
       "        vertical-align: top;\n",
       "    }\n",
       "\n",
       "    .dataframe thead th {\n",
       "        text-align: right;\n",
       "    }\n",
       "</style>\n",
       "<table border=\"1\" class=\"dataframe\">\n",
       "  <thead>\n",
       "    <tr style=\"text-align: right;\">\n",
       "      <th></th>\n",
       "      <th>d2la_p1</th>\n",
       "      <th>d2la_p2</th>\n",
       "    </tr>\n",
       "  </thead>\n",
       "  <tbody>\n",
       "    <tr>\n",
       "      <th>0</th>\n",
       "      <td>0.424301</td>\n",
       "      <td>1.559801</td>\n",
       "    </tr>\n",
       "    <tr>\n",
       "      <th>1</th>\n",
       "      <td>0.485938</td>\n",
       "      <td>1.990083</td>\n",
       "    </tr>\n",
       "    <tr>\n",
       "      <th>2</th>\n",
       "      <td>0.345137</td>\n",
       "      <td>1.589702</td>\n",
       "    </tr>\n",
       "    <tr>\n",
       "      <th>3</th>\n",
       "      <td>0.486237</td>\n",
       "      <td>1.641415</td>\n",
       "    </tr>\n",
       "    <tr>\n",
       "      <th>4</th>\n",
       "      <td>0.448857</td>\n",
       "      <td>1.439759</td>\n",
       "    </tr>\n",
       "  </tbody>\n",
       "</table>\n",
       "</div>"
      ],
      "text/plain": [
       "    d2la_p1   d2la_p2\n",
       "0  0.424301  1.559801\n",
       "1  0.485938  1.990083\n",
       "2  0.345137  1.589702\n",
       "3  0.486237  1.641415\n",
       "4  0.448857  1.439759"
      ]
     },
     "execution_count": 247,
     "metadata": {},
     "output_type": "execute_result"
    }
   ],
   "source": [
    "d2la_params = pd.DataFrame({'d2la_p1': d2la_p1_rand, 'd2la_p2': d2la_p2_rand}, columns = ['d2la_p1', 'd2la_p2'])\n",
    "d2la_params.head()"
   ]
  },
  {
   "cell_type": "code",
   "execution_count": 227,
   "metadata": {},
   "outputs": [],
   "source": [
    "# random\n",
    "random.seed(10)\n",
    "\n",
    "d2blmax_ca_p1_rand = np.random.normal(loc=d2blmax_ca_p1, scale=(d2blmax_ca_p1/10), size=100)\n",
    "d2blmax_ca_p2_rand = np.random.normal(loc=d2blmax_ca_p2, scale=(d2blmax_ca_p2/10), size=100)"
   ]
  },
  {
   "cell_type": "code",
   "execution_count": 100,
   "metadata": {},
   "outputs": [
    {
     "data": {
      "text/html": [
       "<div>\n",
       "<style scoped>\n",
       "    .dataframe tbody tr th:only-of-type {\n",
       "        vertical-align: middle;\n",
       "    }\n",
       "\n",
       "    .dataframe tbody tr th {\n",
       "        vertical-align: top;\n",
       "    }\n",
       "\n",
       "    .dataframe thead th {\n",
       "        text-align: right;\n",
       "    }\n",
       "</style>\n",
       "<table border=\"1\" class=\"dataframe\">\n",
       "  <thead>\n",
       "    <tr style=\"text-align: right;\">\n",
       "      <th></th>\n",
       "      <th>d2blmax_ca_p1</th>\n",
       "      <th>d2blmax_ca_p2</th>\n",
       "    </tr>\n",
       "  </thead>\n",
       "  <tbody>\n",
       "    <tr>\n",
       "      <th>0</th>\n",
       "      <td>0.027955</td>\n",
       "      <td>1.774501</td>\n",
       "    </tr>\n",
       "    <tr>\n",
       "      <th>1</th>\n",
       "      <td>0.022717</td>\n",
       "      <td>1.901886</td>\n",
       "    </tr>\n",
       "    <tr>\n",
       "      <th>2</th>\n",
       "      <td>0.021844</td>\n",
       "      <td>2.044070</td>\n",
       "    </tr>\n",
       "    <tr>\n",
       "      <th>3</th>\n",
       "      <td>0.025576</td>\n",
       "      <td>1.871947</td>\n",
       "    </tr>\n",
       "    <tr>\n",
       "      <th>4</th>\n",
       "      <td>0.026493</td>\n",
       "      <td>1.693301</td>\n",
       "    </tr>\n",
       "  </tbody>\n",
       "</table>\n",
       "</div>"
      ],
      "text/plain": [
       "   d2blmax_ca_p1  d2blmax_ca_p2\n",
       "0       0.027955       1.774501\n",
       "1       0.022717       1.901886\n",
       "2       0.021844       2.044070\n",
       "3       0.025576       1.871947\n",
       "4       0.026493       1.693301"
      ]
     },
     "execution_count": 100,
     "metadata": {},
     "output_type": "execute_result"
    }
   ],
   "source": [
    "d2blmax_ca_params = pd.DataFrame({'d2blmax_ca_p1': d2blmax_ca_p1_rand, 'd2blmax_ca_p2': d2blmax_ca_p2_rand}, \n",
    "                                 columns = ['d2blmax_ca_p1', 'd2blmax_ca_p2'])\n",
    "d2blmax_ca_params.head()"
   ]
  },
  {
   "cell_type": "code",
   "execution_count": 215,
   "metadata": {},
   "outputs": [],
   "source": [
    "# random\n",
    "random.seed(10)\n",
    "\n",
    "d2blmax_p1_rand = np.random.normal(loc=d2blmax_p1, scale=(d2blmax_p1/10), size=100)\n",
    "d2blmax_p2_rand = np.random.normal(loc=d2blmax_p2, scale=(d2blmax_p2/10), size=100)"
   ]
  },
  {
   "cell_type": "code",
   "execution_count": 216,
   "metadata": {},
   "outputs": [
    {
     "data": {
      "text/html": [
       "<div>\n",
       "<style scoped>\n",
       "    .dataframe tbody tr th:only-of-type {\n",
       "        vertical-align: middle;\n",
       "    }\n",
       "\n",
       "    .dataframe tbody tr th {\n",
       "        vertical-align: top;\n",
       "    }\n",
       "\n",
       "    .dataframe thead th {\n",
       "        text-align: right;\n",
       "    }\n",
       "</style>\n",
       "<table border=\"1\" class=\"dataframe\">\n",
       "  <thead>\n",
       "    <tr style=\"text-align: right;\">\n",
       "      <th></th>\n",
       "      <th>d2blmax_p1</th>\n",
       "      <th>d2blmax_p2</th>\n",
       "    </tr>\n",
       "  </thead>\n",
       "  <tbody>\n",
       "    <tr>\n",
       "      <th>0</th>\n",
       "      <td>0.043254</td>\n",
       "      <td>2.052089</td>\n",
       "    </tr>\n",
       "    <tr>\n",
       "      <th>1</th>\n",
       "      <td>0.050199</td>\n",
       "      <td>2.222637</td>\n",
       "    </tr>\n",
       "    <tr>\n",
       "      <th>2</th>\n",
       "      <td>0.053798</td>\n",
       "      <td>1.855323</td>\n",
       "    </tr>\n",
       "    <tr>\n",
       "      <th>3</th>\n",
       "      <td>0.047724</td>\n",
       "      <td>1.854535</td>\n",
       "    </tr>\n",
       "    <tr>\n",
       "      <th>4</th>\n",
       "      <td>0.048998</td>\n",
       "      <td>2.134884</td>\n",
       "    </tr>\n",
       "  </tbody>\n",
       "</table>\n",
       "</div>"
      ],
      "text/plain": [
       "   d2blmax_p1  d2blmax_p2\n",
       "0    0.043254    2.052089\n",
       "1    0.050199    2.222637\n",
       "2    0.053798    1.855323\n",
       "3    0.047724    1.854535\n",
       "4    0.048998    2.134884"
      ]
     },
     "execution_count": 216,
     "metadata": {},
     "output_type": "execute_result"
    }
   ],
   "source": [
    "d2blmax_params = pd.DataFrame({'d2blmax_p1': d2blmax_p1_rand, 'd2blmax_p2': d2blmax_p2_rand}, \n",
    "                                 columns = ['d2blmax_p1', 'd2blmax_p2'])\n",
    "d2blmax_params.head()"
   ]
  },
  {
   "cell_type": "markdown",
   "metadata": {},
   "source": [
    "### Calculate crown area from the random parameters"
   ]
  },
  {
   "cell_type": "code",
   "execution_count": 218,
   "metadata": {},
   "outputs": [],
   "source": [
    "# Calc crown area from random params\n",
    "\n",
    "ca_rand_p = []\n",
    "\n",
    "for i in range(100):\n",
    "\n",
    "    test_ca = carea_2pwr(np.arange(0,90,5), d2ca_p1_rand[i], d2ca_p2_rand[i])\n",
    "    ca_rand_p.append(test_ca)\n",
    "\n",
    "ca_opt = carea_2pwr(np.arange(0,90,5), d2ca_p1, d2ca_p2)"
   ]
  },
  {
   "cell_type": "code",
   "execution_count": 219,
   "metadata": {},
   "outputs": [
    {
     "name": "stdout",
     "output_type": "stream",
     "text": [
      "0.05572261506686569 1.9289050451869134 [  0.           1.2424481    4.73082121  10.34188854  18.01336347\n",
      "  27.70288667  39.37840581  53.01419004  68.58878183  86.08380366\n",
      " 105.48320154 126.77273559 149.93962063 174.97226341 201.86006462\n",
      " 230.59326612 261.16283061 293.56034525]\n"
     ]
    }
   ],
   "source": [
    "print(d2ca_p1_rand[1], d2ca_p2_rand[1], ca_rand_p[1])"
   ]
  },
  {
   "cell_type": "code",
   "execution_count": 221,
   "metadata": {},
   "outputs": [
    {
     "data": {
      "text/plain": [
       "<matplotlib.legend.Legend at 0x7fad50848510>"
      ]
     },
     "execution_count": 221,
     "metadata": {},
     "output_type": "execute_result"
    },
    {
     "data": {
      "image/png": "[encoded data removed]",
      "text/plain": [
       "<Figure size 432x288 with 1 Axes>"
      ]
     },
     "metadata": {
      "needs_background": "light"
     },
     "output_type": "display_data"
    }
   ],
   "source": [
    "fig = plt.figure()\n",
    "ax = fig.add_axes([0, 0, 1, 1])\n",
    "ax.set_xlabel('dbh (cm)')\n",
    "ax.set_ylabel('crown_proj (m2)')\n",
    "ax.scatter(baad_acp['DBH (cm)'], baad_acp['a.cp'], s=40, color='#00b3b3', label='Data')\n",
    "ax.scatter(np.arange(0,90,5), ca_opt, s=40, color='red', label='Optimal params')\n",
    "ax.scatter(np.arange(0,90,5), ca_rand_p[7], s=40, color='black', label='random params')\n",
    "for i in range(100):\n",
    "    ax.scatter(np.arange(0,90,5), ca_rand_p[i], s=5, color='black', alpha=0.4)\n",
    "#ax.set_ylim(0,150)\n",
    "plt.legend()"
   ]
  },
  {
   "cell_type": "code",
   "execution_count": 222,
   "metadata": {},
   "outputs": [
    {
     "data": {
      "text/plain": [
       "(array([ 1.,  3.,  7.,  7., 19., 27., 18.,  8.,  7.,  3.]),\n",
       " array([0.04336044, 0.0468706 , 0.05038075, 0.05389091, 0.05740106,\n",
       "        0.06091122, 0.06442138, 0.06793153, 0.07144169, 0.07495185,\n",
       "        0.078462  ]),\n",
       " <a list of 10 Patch objects>)"
      ]
     },
     "execution_count": 222,
     "metadata": {},
     "output_type": "execute_result"
    },
    {
     "data": {
      "image/png": "[encoded data removed]",
      "text/plain": [
       "<Figure size 432x288 with 1 Axes>"
      ]
     },
     "metadata": {
      "needs_background": "light"
     },
     "output_type": "display_data"
    }
   ],
   "source": [
    "plt.hist(d2ca_p1_rand)"
   ]
  },
  {
   "cell_type": "code",
   "execution_count": 223,
   "metadata": {},
   "outputs": [
    {
     "data": {
      "text/plain": [
       "(array([ 2.,  4., 11., 18., 19., 19., 14.,  8.,  2.,  3.]),\n",
       " array([1.21331337, 1.28651227, 1.35971117, 1.43291006, 1.50610896,\n",
       "        1.57930785, 1.65250675, 1.72570565, 1.79890454, 1.87210344,\n",
       "        1.94530233]),\n",
       " <a list of 10 Patch objects>)"
      ]
     },
     "execution_count": 223,
     "metadata": {},
     "output_type": "execute_result"
    },
    {
     "data": {
      "image/png": "[encoded data removed]",
      "text/plain": [
       "<Figure size 432x288 with 1 Axes>"
      ]
     },
     "metadata": {
      "needs_background": "light"
     },
     "output_type": "display_data"
    }
   ],
   "source": [
    "plt.hist(d2ca_p2_rand)"
   ]
  },
  {
   "cell_type": "code",
   "execution_count": 224,
   "metadata": {},
   "outputs": [
    {
     "data": {
      "text/plain": [
       "[1, 14, 29, 68, 83, 85]"
      ]
     },
     "execution_count": 224,
     "metadata": {},
     "output_type": "execute_result"
    }
   ],
   "source": [
    "# d2ca_p2 > 1.77 caused problems\n",
    "d2ca_params.index[d2ca_params['d2ca_p2'] >= 1.77].to_list()"
   ]
  },
  {
   "cell_type": "code",
   "execution_count": 225,
   "metadata": {},
   "outputs": [
    {
     "data": {
      "text/plain": [
       "<matplotlib.collections.PathCollection at 0x7fad518b0390>"
      ]
     },
     "execution_count": 225,
     "metadata": {},
     "output_type": "execute_result"
    },
    {
     "data": {
      "image/png": "[encoded data removed]",
      "text/plain": [
       "<Figure size 432x288 with 1 Axes>"
      ]
     },
     "metadata": {
      "needs_background": "light"
     },
     "output_type": "display_data"
    }
   ],
   "source": [
    "fig = plt.figure()\n",
    "ax = fig.add_axes([0, 0, 1, 1])\n",
    "ax.set_xlabel('dbh (cm)')\n",
    "ax.set_ylabel('crown_proj (m2)')\n",
    "ax.scatter(baad_acp['DBH (cm)'], baad_acp['a.cp'], s=40, color='#00b3b3', label='Data')\n",
    "ax.scatter(np.arange(0,90,5), ca_opt, s=40, color='red', label='Optimal params')\n",
    "ax.scatter(np.arange(0,90,5), ca_rand_p[1], s=4, color='black', label='random params')\n",
    "#ax.scatter(np.arange(0,90,5), ca_rand_p[8], s=4, color='black', label='random params')\n",
    "ax.scatter(np.arange(0,90,5), ca_rand_p[14], s=4, color='black', label='random params')\n",
    "#ax.scatter(np.arange(0,90,5), ca_rand_p[26], s=4, color='black', label='random params')\n",
    "ax.scatter(np.arange(0,90,5), ca_rand_p[29], s=4, color='black', label='random params')\n",
    "#ax.scatter(np.arange(0,90,5), ca_rand_p[54], s=4, color='black', label='random params')\n",
    "#ax.scatter(np.arange(0,90,5), ca_rand_p[60], s=4, color='black', label='random params')\n",
    "ax.scatter(np.arange(0,90,5), ca_rand_p[68], s=4, color='black', label='random params')\n",
    "#ax.scatter(np.arange(0,90,5), ca_rand_p[72], s=4, color='black', label='random params')\n",
    "ax.scatter(np.arange(0,90,5), ca_rand_p[83], s=4, color='black', label='random params')\n",
    "ax.scatter(np.arange(0,90,5), ca_rand_p[85], s=4, color='black', label='random params')\n",
    "#ax.scatter(np.arange(0,90,5), ca_rand_p[95], s=4, color='black', label='random params')"
   ]
  },
  {
   "cell_type": "code",
   "execution_count": 279,
   "metadata": {},
   "outputs": [],
   "source": [
    "# drop the problem values from the dataframe and save to a csv\n",
    "\n",
    "d2ca_params_clean = d2ca_params.drop([d2ca_params.index[1], d2ca_params.index[14],d2ca_params.index[29], \n",
    "                                      d2ca_params.index[68], d2ca_params.index[83], d2ca_params.index[85]])"
   ]
  },
  {
   "cell_type": "code",
   "execution_count": 280,
   "metadata": {},
   "outputs": [
    {
     "data": {
      "text/plain": [
       "94"
      ]
     },
     "execution_count": 280,
     "metadata": {},
     "output_type": "execute_result"
    }
   ],
   "source": [
    "len(d2ca_params_clean)"
   ]
  },
  {
   "cell_type": "code",
   "execution_count": 286,
   "metadata": {},
   "outputs": [],
   "source": [
    "# read out to a csv for use in the traits matrix\n",
    "d2ca_params_clean.to_csv('/Users/kathrynmurenbeeld/Desktop/Desktop - Kathryn’s MacBook Pro/CLM/FATES/SCGSR_PARAMS/d2ca_params_clean_20210722.csv', index=False)\n"
   ]
  },
  {
   "cell_type": "markdown",
   "metadata": {},
   "source": [
    "### Calculate leaf area from the random parameters"
   ]
  },
  {
   "cell_type": "code",
   "execution_count": 248,
   "metadata": {},
   "outputs": [],
   "source": [
    "la_rand_p = []\n",
    "\n",
    "for i in range(100):\n",
    "\n",
    "    test_la = carea_2pwr(np.arange(0,90,5), d2la_p1_rand[i], d2la_p2_rand[i])\n",
    "    la_rand_p.append(test_la)\n",
    "\n",
    "la_opt = carea_2pwr(np.arange(0,90,5), d2la_p1, d2la_p2)"
   ]
  },
  {
   "cell_type": "code",
   "execution_count": 249,
   "metadata": {},
   "outputs": [
    {
     "data": {
      "text/plain": [
       "<matplotlib.legend.Legend at 0x7fad521c2f10>"
      ]
     },
     "execution_count": 249,
     "metadata": {},
     "output_type": "execute_result"
    },
    {
     "data": {
      "image/png": "[encoded data removed]",
      "text/plain": [
       "<Figure size 432x288 with 1 Axes>"
      ]
     },
     "metadata": {
      "needs_background": "light"
     },
     "output_type": "display_data"
    }
   ],
   "source": [
    "fig = plt.figure()\n",
    "ax = fig.add_axes([0, 0, 1, 1])\n",
    "ax.set_xlabel('dbh (cm)')\n",
    "ax.set_ylabel('leaf_area (m2)')\n",
    "ax.scatter(baad_alf['DBH (cm)'], baad_alf['a.lf'], s=40, color='#00b3b3', label='Data')\n",
    "ax.scatter(np.arange(0,90,5), la_opt, s=40, color='red', label='Optimal params')\n",
    "ax.scatter(np.arange(0,90,5), la_rand_p[7], s=5, color='black', alpha=0.4, label='random params')\n",
    "for i in range(100):\n",
    "    ax.scatter(np.arange(0,90,5), la_rand_p[i], s=5, color='black', alpha=0.4)\n",
    "#ax.set_ylim(0,150)\n",
    "plt.legend()"
   ]
  },
  {
   "cell_type": "code",
   "execution_count": 250,
   "metadata": {},
   "outputs": [
    {
     "data": {
      "text/plain": [
       "(array([ 2.,  4.,  8., 10., 20., 22., 19.,  8.,  4.,  3.]),\n",
       " array([0.31805885, 0.34401003, 0.36996121, 0.39591239, 0.42186357,\n",
       "        0.44781476, 0.47376594, 0.49971712, 0.5256683 , 0.55161948,\n",
       "        0.57757066]),\n",
       " <a list of 10 Patch objects>)"
      ]
     },
     "execution_count": 250,
     "metadata": {},
     "output_type": "execute_result"
    },
    {
     "data": {
      "image/png": "[encoded data removed]",
      "text/plain": [
       "<Figure size 432x288 with 1 Axes>"
      ]
     },
     "metadata": {
      "needs_background": "light"
     },
     "output_type": "display_data"
    }
   ],
   "source": [
    "plt.hist(d2la_p1_rand)"
   ]
  },
  {
   "cell_type": "code",
   "execution_count": 251,
   "metadata": {},
   "outputs": [
    {
     "data": {
      "text/plain": [
       "(array([ 1.,  6.,  7., 11., 18., 20., 18.,  7., 10.,  2.]),\n",
       " array([1.24223365, 1.3313848 , 1.42053595, 1.5096871 , 1.59883825,\n",
       "        1.6879894 , 1.77714055, 1.8662917 , 1.95544284, 2.04459399,\n",
       "        2.13374514]),\n",
       " <a list of 10 Patch objects>)"
      ]
     },
     "execution_count": 251,
     "metadata": {},
     "output_type": "execute_result"
    },
    {
     "data": {
      "image/png": "[encoded data removed]",
      "text/plain": [
       "<Figure size 432x288 with 1 Axes>"
      ]
     },
     "metadata": {
      "needs_background": "light"
     },
     "output_type": "display_data"
    }
   ],
   "source": [
    "plt.hist(d2la_p2_rand)"
   ]
  },
  {
   "cell_type": "code",
   "execution_count": 256,
   "metadata": {},
   "outputs": [
    {
     "data": {
      "text/plain": [
       "[1, 8, 11, 33, 36, 49, 56, 57, 76, 81, 85, 94]"
      ]
     },
     "execution_count": 256,
     "metadata": {},
     "output_type": "execute_result"
    }
   ],
   "source": [
    "# d2la_p2 > 1.95 caused problems\n",
    "d2la_params.index[d2la_params['d2la_p2'] > 1.95].to_list()"
   ]
  },
  {
   "cell_type": "code",
   "execution_count": 257,
   "metadata": {},
   "outputs": [
    {
     "data": {
      "text/plain": [
       "<matplotlib.collections.PathCollection at 0x7fad529368d0>"
      ]
     },
     "execution_count": 257,
     "metadata": {},
     "output_type": "execute_result"
    },
    {
     "data": {
      "image/png": "[encoded data removed]",
      "text/plain": [
       "<Figure size 432x288 with 1 Axes>"
      ]
     },
     "metadata": {
      "needs_background": "light"
     },
     "output_type": "display_data"
    }
   ],
   "source": [
    "fig = plt.figure()\n",
    "ax = fig.add_axes([0, 0, 1, 1])\n",
    "ax.set_xlabel('dbh (cm)')\n",
    "ax.set_ylabel('leaf_area (m2)')\n",
    "ax.scatter(baad_alf['DBH (cm)'], baad_alf['a.lf'], s=40, color='#00b3b3', label='Data')\n",
    "ax.scatter(np.arange(0,90,5), la_opt, s=40, color='red', label='Optimal params')\n",
    "ax.scatter(np.arange(0,90,5), la_rand_p[1], s=5, color='black', alpha=0.4, label='random params')\n",
    "ax.scatter(np.arange(0,90,5), la_rand_p[8], s=5, color='black', alpha=0.4)\n",
    "ax.scatter(np.arange(0,90,5), la_rand_p[11], s=5, color='black', alpha=0.4)\n",
    "#ax.scatter(np.arange(0,90,5), la_rand_p[24], s=5, color='black', alpha=0.4)\n",
    "ax.scatter(np.arange(0,90,5), la_rand_p[33], s=5, color='black', alpha=0.4)\n",
    "ax.scatter(np.arange(0,90,5), la_rand_p[36], s=5, color='black', alpha=0.4)\n",
    "#ax.scatter(np.arange(0,90,5), la_rand_p[43], s=5, color='black', alpha=0.4)\n",
    "ax.scatter(np.arange(0,90,5), la_rand_p[49], s=5, color='black', alpha=0.4)\n",
    "#ax.scatter(np.arange(0,90,5), la_rand_p[51], s=5, color='black', alpha=0.4)\n",
    "#ax.scatter(np.arange(0,90,5), la_rand_p[52], s=5, color='black', alpha=0.4)\n",
    "ax.scatter(np.arange(0,90,5), la_rand_p[56], s=5, color='black', alpha=0.4)\n",
    "ax.scatter(np.arange(0,90,5), la_rand_p[57], s=5, color='black', alpha=0.4)\n",
    "ax.scatter(np.arange(0,90,5), la_rand_p[76], s=5, color='black', alpha=0.4)\n",
    "ax.scatter(np.arange(0,90,5), la_rand_p[81], s=5, color='black', alpha=0.4)\n",
    "#ax.scatter(np.arange(0,90,5), la_rand_p[82], s=5, color='black', alpha=0.4)\n",
    "ax.scatter(np.arange(0,90,5), la_rand_p[85], s=5, color='black', alpha=0.4)\n",
    "#ax.scatter(np.arange(0,90,5), la_rand_p[86], s=5, color='black', alpha=0.4)\n",
    "ax.scatter(np.arange(0,90,5), la_rand_p[94], s=5, color='black', alpha=0.4)"
   ]
  },
  {
   "cell_type": "code",
   "execution_count": 283,
   "metadata": {},
   "outputs": [
    {
     "data": {
      "text/plain": [
       "88"
      ]
     },
     "execution_count": 283,
     "metadata": {},
     "output_type": "execute_result"
    }
   ],
   "source": [
    "d2la_params_clean = d2la_params.drop([d2la_params.index[1], d2la_params.index[8],d2la_params.index[11], \n",
    "                                      d2la_params.index[33], d2la_params.index[36], d2la_params.index[49],\n",
    "                                           d2la_params.index[56], d2la_params.index[57], d2la_params.index[76],\n",
    "                                        d2la_params.index[81], d2la_params.index[85], d2la_params.index[94]])\n",
    "\n",
    "\n",
    "len(d2la_params_clean)"
   ]
  },
  {
   "cell_type": "code",
   "execution_count": 285,
   "metadata": {},
   "outputs": [],
   "source": [
    "# read out to a csv for use in the traits matrix\n",
    "d2la_params_clean.to_csv('/Users/kathrynmurenbeeld/Desktop/Desktop - Kathryn’s MacBook Pro/CLM/FATES/SCGSR_PARAMS/d2la_params_clean_20210722.csv', index=False)\n"
   ]
  },
  {
   "cell_type": "markdown",
   "metadata": {},
   "source": [
    "### Calculate leaf mass from the random parameters"
   ]
  },
  {
   "cell_type": "code",
   "execution_count": 262,
   "metadata": {},
   "outputs": [],
   "source": [
    "bl_rand_p = []\n",
    "\n",
    "for i in range(100):\n",
    "\n",
    "    test_bl = d2blmax_2pwr(np.arange(0,90,5), d2blmax_p1_rand[i], d2blmax_p2_rand[i])\n",
    "    bl_rand_p.append(test_bl)\n",
    "\n",
    "bl_opt = d2blmax_2pwr(np.arange(0,90,5), d2blmax_p1, d2blmax_p2)"
   ]
  },
  {
   "cell_type": "code",
   "execution_count": 269,
   "metadata": {},
   "outputs": [
    {
     "data": {
      "text/plain": [
       "<matplotlib.legend.Legend at 0x7fad53141710>"
      ]
     },
     "execution_count": 269,
     "metadata": {},
     "output_type": "execute_result"
    },
    {
     "data": {
      "image/png": "[encoded data removed]",
      "text/plain": [
       "<Figure size 432x288 with 1 Axes>"
      ]
     },
     "metadata": {
      "needs_background": "light"
     },
     "output_type": "display_data"
    }
   ],
   "source": [
    "fig = plt.figure()\n",
    "ax = fig.add_axes([0, 0, 1, 1])\n",
    "ax.set_xlabel('dbh (cm)')\n",
    "ax.set_ylabel('leaf_area (m2)')\n",
    "ax.scatter(baad_mlf['DBH (cm)'], baad_mlf['m.lf'], s=40, color='#00b3b3', label='Data')\n",
    "ax.scatter(np.arange(0,90,5), bl_opt, s=40, color='red', label='Optimal params')\n",
    "ax.scatter(np.arange(0,90,5), bl_rand_p[7], s=5, color='black', alpha=0.4, label='random params')\n",
    "for i in range(100):\n",
    "    ax.scatter(np.arange(0,90,5), bl_rand_p[i], s=5, color='black', alpha=0.4)\n",
    "#ax.set_ylim(0,150)\n",
    "plt.legend()"
   ]
  },
  {
   "cell_type": "code",
   "execution_count": 270,
   "metadata": {},
   "outputs": [
    {
     "data": {
      "text/plain": [
       "(array([ 2.,  1.,  7., 18., 29., 20., 11.,  6.,  4.,  2.]),\n",
       " array([0.03265995, 0.03523452, 0.03780909, 0.04038366, 0.04295822,\n",
       "        0.04553279, 0.04810736, 0.05068193, 0.05325649, 0.05583106,\n",
       "        0.05840563]),\n",
       " <a list of 10 Patch objects>)"
      ]
     },
     "execution_count": 270,
     "metadata": {},
     "output_type": "execute_result"
    },
    {
     "data": {
      "image/png": "[encoded data removed]",
      "text/plain": [
       "<Figure size 432x288 with 1 Axes>"
      ]
     },
     "metadata": {
      "needs_background": "light"
     },
     "output_type": "display_data"
    }
   ],
   "source": [
    "plt.hist(d2blmax_p1_rand)"
   ]
  },
  {
   "cell_type": "code",
   "execution_count": 272,
   "metadata": {},
   "outputs": [
    {
     "data": {
      "text/plain": [
       "(array([ 5.,  2., 14., 10., 23., 19., 15.,  7.,  4.,  1.]),\n",
       " array([1.47146776, 1.5668795 , 1.66229124, 1.75770297, 1.85311471,\n",
       "        1.94852645, 2.04393818, 2.13934992, 2.23476166, 2.33017339,\n",
       "        2.42558513]),\n",
       " <a list of 10 Patch objects>)"
      ]
     },
     "execution_count": 272,
     "metadata": {},
     "output_type": "execute_result"
    },
    {
     "data": {
      "image/png": "[encoded data removed]",
      "text/plain": [
       "<Figure size 432x288 with 1 Axes>"
      ]
     },
     "metadata": {
      "needs_background": "light"
     },
     "output_type": "display_data"
    }
   ],
   "source": [
    "plt.hist(d2blmax_p2_rand)"
   ]
  },
  {
   "cell_type": "code",
   "execution_count": 275,
   "metadata": {},
   "outputs": [
    {
     "data": {
      "text/plain": [
       "[1, 13, 22, 43, 52, 55, 57, 79, 83]"
      ]
     },
     "execution_count": 275,
     "metadata": {},
     "output_type": "execute_result"
    }
   ],
   "source": [
    "# d2blmax_p2 > 2.2 caused problems\n",
    "d2blmax_params.index[d2blmax_params['d2blmax_p2'] > 2.2].to_list()"
   ]
  },
  {
   "cell_type": "code",
   "execution_count": 276,
   "metadata": {},
   "outputs": [
    {
     "data": {
      "text/plain": [
       "<matplotlib.collections.PathCollection at 0x7fad5388da90>"
      ]
     },
     "execution_count": 276,
     "metadata": {},
     "output_type": "execute_result"
    },
    {
     "data": {
      "image/png": "[encoded data removed]",
      "text/plain": [
       "<Figure size 432x288 with 1 Axes>"
      ]
     },
     "metadata": {
      "needs_background": "light"
     },
     "output_type": "display_data"
    }
   ],
   "source": [
    "fig = plt.figure()\n",
    "ax = fig.add_axes([0, 0, 1, 1])\n",
    "ax.set_xlabel('dbh (cm)')\n",
    "ax.set_ylabel('leaf_mass (kg)')\n",
    "ax.scatter(baad_mlf['DBH (cm)'], baad_mlf['m.lf'], s=40, color='#00b3b3', label='Data')\n",
    "ax.scatter(np.arange(0,90,5), bl_opt, s=40, color='red', label='Optimal params')\n",
    "ax.scatter(np.arange(0,90,5), bl_rand_p[1], s=5, color='black', alpha=0.4, label='random params')\n",
    "ax.scatter(np.arange(0,90,5), bl_rand_p[13], s=5, color='black', alpha=0.4)\n",
    "ax.scatter(np.arange(0,90,5), bl_rand_p[22], s=5, color='black', alpha=0.4)\n",
    "ax.scatter(np.arange(0,90,5), bl_rand_p[43], s=5, color='black', alpha=0.4)\n",
    "ax.scatter(np.arange(0,90,5), bl_rand_p[52], s=5, color='black', alpha=0.4)\n",
    "ax.scatter(np.arange(0,90,5), bl_rand_p[55], s=5, color='black', alpha=0.4)\n",
    "ax.scatter(np.arange(0,90,5), bl_rand_p[57], s=5, color='black', alpha=0.4)\n",
    "ax.scatter(np.arange(0,90,5), bl_rand_p[79], s=5, color='black', alpha=0.4)\n",
    "ax.scatter(np.arange(0,90,5), bl_rand_p[83], s=5, color='black', alpha=0.4)"
   ]
  },
  {
   "cell_type": "code",
   "execution_count": 282,
   "metadata": {},
   "outputs": [
    {
     "data": {
      "text/plain": [
       "91"
      ]
     },
     "execution_count": 282,
     "metadata": {},
     "output_type": "execute_result"
    }
   ],
   "source": [
    "d2blmax_params_clean = d2blmax_params.drop([d2blmax_params.index[1], d2blmax_params.index[13],d2blmax_params.index[22], \n",
    "                                      d2blmax_params.index[43], d2blmax_params.index[52], d2blmax_params.index[55],\n",
    "                                           d2blmax_params.index[57], d2blmax_params.index[79], d2blmax_params.index[83]])\n",
    "\n",
    "\n",
    "len(d2blmax_params_clean)\n"
   ]
  },
  {
   "cell_type": "code",
   "execution_count": 284,
   "metadata": {},
   "outputs": [],
   "source": [
    "# read out to a csv for use in the traits matrix\n",
    "d2blmax_params_clean.to_csv('/Users/kathrynmurenbeeld/Desktop/Desktop - Kathryn’s MacBook Pro/CLM/FATES/SCGSR_PARAMS/d2blmax_params_clean_20210722.csv', index=False)\n"
   ]
  },
  {
   "cell_type": "code",
   "execution_count": null,
   "metadata": {},
   "outputs": [],
   "source": []
  }
 ],
 "metadata": {
  "kernelspec": {
   "display_name": "Python 3",
   "language": "python",
   "name": "python3"
  },
  "language_info": {
   "codemirror_mode": {
    "name": "ipython",
    "version": 3
   },
   "file_extension": ".py",
   "mimetype": "text/x-python",
   "name": "python",
   "nbconvert_exporter": "python",
   "pygments_lexer": "ipython3",
   "version": "3.7.6"
  }
 },
 "nbformat": 4,
 "nbformat_minor": 2
}
